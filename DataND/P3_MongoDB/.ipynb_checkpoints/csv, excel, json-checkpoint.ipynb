{
 "cells": [
  {
   "cell_type": "markdown",
   "metadata": {},
   "source": [
    "# read csv\n",
    "there are many ways to read csv files:\n",
    "1. fileObject.readline()\n",
    "2. pandas.read_csv(file)\n",
    "3. csv.DictReader(fileObject)\n",
    "4. csv.reader(fileObject)\n",
    "\n",
    "`csv` module or `unicodecsv` is more robust to read something with comma or citation mark"
   ]
  },
  {
   "cell_type": "code",
   "execution_count": 1,
   "metadata": {
    "collapsed": true
   },
   "outputs": [],
   "source": [
    "file =\"data/beatles.csv\"\n",
    "data=[]\n",
    "with open(file, \"r\") as f:\n",
    "    header = f.readline().split(\",\")  # first line is header\n",
    "    counter = 0\n",
    "    for line in f:\n",
    "        if counter == 10: # only read 10 lines\n",
    "            break\n",
    "        fields = line.split(\",\")\n",
    "        entry = {}\n",
    "        for i, value in enumerate(fields):\n",
    "            entry[header[i].strip()] =value.strip()\n",
    "        data.append(entry)\n",
    "        counter +=1"
   ]
  },
  {
   "cell_type": "code",
   "execution_count": 3,
   "metadata": {
    "collapsed": false
   },
   "outputs": [
    {
     "data": {
      "text/plain": [
       "{'BPI Certification': 'Gold',\n",
       " 'Label': 'Parlophone(UK)',\n",
       " 'RIAA Certification': 'Platinum',\n",
       " 'Released': '22 March 1963',\n",
       " 'Title': 'Please Please Me',\n",
       " 'UK Chart Position': '1',\n",
       " 'US Chart Position': '-'}"
      ]
     },
     "execution_count": 3,
     "metadata": {},
     "output_type": "execute_result"
    }
   ],
   "source": [
    "data[0]"
   ]
  },
  {
   "cell_type": "code",
   "execution_count": 8,
   "metadata": {
    "collapsed": false
   },
   "outputs": [
    {
     "data": {
      "text/html": [
       "<div>\n",
       "<table border=\"1\" class=\"dataframe\">\n",
       "  <thead>\n",
       "    <tr style=\"text-align: right;\">\n",
       "      <th></th>\n",
       "      <th>Title</th>\n",
       "      <th>Released</th>\n",
       "      <th>Label</th>\n",
       "      <th>UK Chart Position</th>\n",
       "      <th>US Chart Position</th>\n",
       "      <th>BPI Certification</th>\n",
       "      <th>RIAA Certification</th>\n",
       "    </tr>\n",
       "  </thead>\n",
       "  <tbody>\n",
       "    <tr>\n",
       "      <th>0</th>\n",
       "      <td>Please Please Me</td>\n",
       "      <td>22 March 1963</td>\n",
       "      <td>Parlophone(UK)</td>\n",
       "      <td>1</td>\n",
       "      <td>-</td>\n",
       "      <td>Gold</td>\n",
       "      <td>Platinum</td>\n",
       "    </tr>\n",
       "    <tr>\n",
       "      <th>1</th>\n",
       "      <td>With the Beatles</td>\n",
       "      <td>22 November 1963</td>\n",
       "      <td>Parlophone(UK)</td>\n",
       "      <td>1</td>\n",
       "      <td>-</td>\n",
       "      <td>Platinum</td>\n",
       "      <td>Gold</td>\n",
       "    </tr>\n",
       "    <tr>\n",
       "      <th>2</th>\n",
       "      <td>Beatlemania! With the Beatles</td>\n",
       "      <td>25 November 1963</td>\n",
       "      <td>Capitol(CAN)</td>\n",
       "      <td>-</td>\n",
       "      <td>-</td>\n",
       "      <td>NaN</td>\n",
       "      <td>NaN</td>\n",
       "    </tr>\n",
       "    <tr>\n",
       "      <th>3</th>\n",
       "      <td>Introducing... The Beatles</td>\n",
       "      <td>10 January 1964</td>\n",
       "      <td>Vee-Jay(US)</td>\n",
       "      <td>-</td>\n",
       "      <td>2</td>\n",
       "      <td>NaN</td>\n",
       "      <td>NaN</td>\n",
       "    </tr>\n",
       "    <tr>\n",
       "      <th>4</th>\n",
       "      <td>Meet the Beatles!</td>\n",
       "      <td>20 January 1964</td>\n",
       "      <td>Capitol(US)</td>\n",
       "      <td>-</td>\n",
       "      <td>1</td>\n",
       "      <td>NaN</td>\n",
       "      <td>5xPlatinum</td>\n",
       "    </tr>\n",
       "  </tbody>\n",
       "</table>\n",
       "</div>"
      ],
      "text/plain": [
       "                           Title          Released           Label  \\\n",
       "0               Please Please Me     22 March 1963  Parlophone(UK)   \n",
       "1               With the Beatles  22 November 1963  Parlophone(UK)   \n",
       "2  Beatlemania! With the Beatles  25 November 1963    Capitol(CAN)   \n",
       "3     Introducing... The Beatles   10 January 1964     Vee-Jay(US)   \n",
       "4              Meet the Beatles!   20 January 1964     Capitol(US)   \n",
       "\n",
       "  UK Chart Position US Chart Position BPI Certification RIAA Certification  \n",
       "0                 1                 -              Gold           Platinum  \n",
       "1                 1                 -          Platinum               Gold  \n",
       "2                 -                 -               NaN                NaN  \n",
       "3                 -                 2               NaN                NaN  \n",
       "4                 -                 1               NaN         5xPlatinum  "
      ]
     },
     "execution_count": 8,
     "metadata": {},
     "output_type": "execute_result"
    }
   ],
   "source": [
    "import pandas as pd\n",
    "df = pd.read_csv(file)\n",
    "df.head()"
   ]
  },
  {
   "cell_type": "code",
   "execution_count": 13,
   "metadata": {
    "collapsed": false
   },
   "outputs": [],
   "source": [
    "import csv\n",
    "data = []\n",
    "with open(file) as f:\n",
    "    reader = csv.DictReader(f) # automatical read header\n",
    "        data.append(row)"
   ]
  },
  {
   "cell_type": "code",
   "execution_count": 16,
   "metadata": {
    "collapsed": false
   },
   "outputs": [
    {
     "data": {
      "text/plain": [
       "OrderedDict([('Title', 'Please Please Me'),\n",
       "             ('Released', '22 March 1963'),\n",
       "             ('Label', 'Parlophone(UK)'),\n",
       "             ('UK Chart Position', '1'),\n",
       "             ('US Chart Position', '-'),\n",
       "             ('BPI Certification', 'Gold'),\n",
       "             ('RIAA Certification', 'Platinum')])"
      ]
     },
     "execution_count": 16,
     "metadata": {},
     "output_type": "execute_result"
    }
   ],
   "source": [
    "data[0]"
   ]
  },
  {
   "cell_type": "code",
   "execution_count": 24,
   "metadata": {
    "collapsed": false
   },
   "outputs": [],
   "source": [
    "import csv\n",
    "data = []\n",
    "with open(file) as f:\n",
    "    reader = csv.reader(f)\n",
    "    title = next(reader)\n",
    "    for row in reader:\n",
    "        data.append(row)"
   ]
  },
  {
   "cell_type": "code",
   "execution_count": 25,
   "metadata": {
    "collapsed": false
   },
   "outputs": [
    {
     "name": "stdout",
     "output_type": "stream",
     "text": [
      "['Title', 'Released', 'Label', 'UK Chart Position', 'US Chart Position', 'BPI Certification', 'RIAA Certification']\n",
      "['Please Please Me', '22 March 1963', 'Parlophone(UK)', '1', '-', 'Gold', 'Platinum']\n"
     ]
    }
   ],
   "source": [
    "print(title)\n",
    "print(data[0])"
   ]
  },
  {
   "cell_type": "markdown",
   "metadata": {},
   "source": [
    "# read Excel"
   ]
  },
  {
   "cell_type": "code",
   "execution_count": 38,
   "metadata": {
    "collapsed": false
   },
   "outputs": [
    {
     "name": "stdout",
     "output_type": "stream",
     "text": [
      "['Hour_End', 'COAST', 'EAST', 'FAR_WEST', 'NORTH', 'NORTH_C', 'SOUTHERN', 'SOUTH_C', 'WEST', 'ERCOT']\n",
      "COAST\n",
      "[7606.263544000012, 7388.082713999988, 7178.867877999996, 7038.822581000004]\n"
     ]
    }
   ],
   "source": [
    "import xlrd\n",
    "file = 'data/2013_ERCOT_Hourly_Load_Data.xls'\n",
    "workbook = xlrd.open_workbook(file)\n",
    "sheet = workbook.sheet_by_index(0) # all data is in sheet\n",
    "data = [[sheet.cell_value(r, col) \n",
    "            for col in range(sheet.ncols)] \n",
    "                for r in range(sheet.nrows)] # imbeded list\n",
    "print(data[0])\n",
    "print(sheet.cell_value(0,1))  # get cell value\n",
    "print(sheet.col_values(1,start_rowx=1,end_rowx=5)) # col values"
   ]
  },
  {
   "cell_type": "code",
   "execution_count": 39,
   "metadata": {
    "collapsed": false
   },
   "outputs": [
    {
     "data": {
      "text/html": [
       "<div>\n",
       "<table border=\"1\" class=\"dataframe\">\n",
       "  <thead>\n",
       "    <tr style=\"text-align: right;\">\n",
       "      <th></th>\n",
       "      <th>Hour_End</th>\n",
       "      <th>COAST</th>\n",
       "      <th>EAST</th>\n",
       "      <th>FAR_WEST</th>\n",
       "      <th>NORTH</th>\n",
       "      <th>NORTH_C</th>\n",
       "      <th>SOUTHERN</th>\n",
       "      <th>SOUTH_C</th>\n",
       "      <th>WEST</th>\n",
       "      <th>ERCOT</th>\n",
       "    </tr>\n",
       "  </thead>\n",
       "  <tbody>\n",
       "    <tr>\n",
       "      <th>0</th>\n",
       "      <td>2013-01-01 01:00:00</td>\n",
       "      <td>7606.263544</td>\n",
       "      <td>1073.892438</td>\n",
       "      <td>1411.750567</td>\n",
       "      <td>784.978166</td>\n",
       "      <td>10369.094390</td>\n",
       "      <td>2206.675077</td>\n",
       "      <td>4368.490945</td>\n",
       "      <td>882.931901</td>\n",
       "      <td>28704.077028</td>\n",
       "    </tr>\n",
       "    <tr>\n",
       "      <th>1</th>\n",
       "      <td>2013-01-01 02:00:00</td>\n",
       "      <td>7388.082714</td>\n",
       "      <td>1035.021938</td>\n",
       "      <td>1403.472287</td>\n",
       "      <td>776.307387</td>\n",
       "      <td>10152.358518</td>\n",
       "      <td>2159.733208</td>\n",
       "      <td>4233.587967</td>\n",
       "      <td>872.404750</td>\n",
       "      <td>28020.968769</td>\n",
       "    </tr>\n",
       "    <tr>\n",
       "      <th>2</th>\n",
       "      <td>2013-01-01 03:00:00</td>\n",
       "      <td>7178.867878</td>\n",
       "      <td>1036.088697</td>\n",
       "      <td>1395.053150</td>\n",
       "      <td>768.125748</td>\n",
       "      <td>9988.051418</td>\n",
       "      <td>2065.114706</td>\n",
       "      <td>4082.862860</td>\n",
       "      <td>868.853938</td>\n",
       "      <td>27383.018395</td>\n",
       "    </tr>\n",
       "    <tr>\n",
       "      <th>3</th>\n",
       "      <td>2013-01-01 04:00:00</td>\n",
       "      <td>7038.822581</td>\n",
       "      <td>1032.648841</td>\n",
       "      <td>1395.508820</td>\n",
       "      <td>770.937969</td>\n",
       "      <td>9946.658655</td>\n",
       "      <td>1990.903699</td>\n",
       "      <td>4010.489608</td>\n",
       "      <td>865.701201</td>\n",
       "      <td>27051.671374</td>\n",
       "    </tr>\n",
       "    <tr>\n",
       "      <th>4</th>\n",
       "      <td>2013-01-01 05:00:00</td>\n",
       "      <td>6990.857940</td>\n",
       "      <td>1042.823044</td>\n",
       "      <td>1401.216842</td>\n",
       "      <td>779.089313</td>\n",
       "      <td>10096.664190</td>\n",
       "      <td>1954.807585</td>\n",
       "      <td>4038.655997</td>\n",
       "      <td>879.924249</td>\n",
       "      <td>27184.039160</td>\n",
       "    </tr>\n",
       "  </tbody>\n",
       "</table>\n",
       "</div>"
      ],
      "text/plain": [
       "             Hour_End        COAST         EAST     FAR_WEST       NORTH  \\\n",
       "0 2013-01-01 01:00:00  7606.263544  1073.892438  1411.750567  784.978166   \n",
       "1 2013-01-01 02:00:00  7388.082714  1035.021938  1403.472287  776.307387   \n",
       "2 2013-01-01 03:00:00  7178.867878  1036.088697  1395.053150  768.125748   \n",
       "3 2013-01-01 04:00:00  7038.822581  1032.648841  1395.508820  770.937969   \n",
       "4 2013-01-01 05:00:00  6990.857940  1042.823044  1401.216842  779.089313   \n",
       "\n",
       "        NORTH_C     SOUTHERN      SOUTH_C        WEST         ERCOT  \n",
       "0  10369.094390  2206.675077  4368.490945  882.931901  28704.077028  \n",
       "1  10152.358518  2159.733208  4233.587967  872.404750  28020.968769  \n",
       "2   9988.051418  2065.114706  4082.862860  868.853938  27383.018395  \n",
       "3   9946.658655  1990.903699  4010.489608  865.701201  27051.671374  \n",
       "4  10096.664190  1954.807585  4038.655997  879.924249  27184.039160  "
      ]
     },
     "execution_count": 39,
     "metadata": {},
     "output_type": "execute_result"
    }
   ],
   "source": [
    "import pandas as pd\n",
    "df = pd.read_excel(file)\n",
    "df.head()"
   ]
  },
  {
   "cell_type": "markdown",
   "metadata": {},
   "source": [
    "# JSON\n",
    "1. use `requests.get(url, params).json()` to get remote json file into dict\n",
    "2. use `json.load()` to get local json file into dict"
   ]
  },
  {
   "cell_type": "code",
   "execution_count": 44,
   "metadata": {
    "collapsed": false
   },
   "outputs": [
    {
     "name": "stdout",
     "output_type": "stream",
     "text": [
      "<class 'requests.models.Response'>\n",
      "requesting http://musicbrainz.org/ws/2/artist/?fmt=json&query=artist%3ANirvana\n"
     ]
    }
   ],
   "source": [
    "import json\n",
    "import requests\n",
    "# request artist: Nirvana\n",
    "r = requests.get(\"http://musicbrainz.org/ws/2/artist/\", params={'fmt': 'json', 'query': 'artist:Nirvana'})\n",
    "print(type(r))\n",
    "print(\"requesting\", r.url)"
   ]
  },
  {
   "cell_type": "code",
   "execution_count": 70,
   "metadata": {
    "collapsed": false
   },
   "outputs": [
    {
     "name": "stdout",
     "output_type": "stream",
     "text": [
      "{\n",
      "    \"artists\": [\n",
      "        {\n",
      "            \"area\": {\n",
      "                \"id\": \"6a264f94-6ff1-30b1-9a81-41f7bfabd616\",\n",
      "                \"name\": \"Finland\",\n",
      "                \"sort-name\": \"Finland\"\n",
      "            }\n"
     ]
    }
   ],
   "source": [
    "if r.status_code == requests.codes.ok:\n",
    "    data =  r.json()  # dictionary\n",
    "    a = json.dumps(data, indent=4, sort_keys=True) # similar to json.stringify in JavaScript\n",
    "    d = json.loads(a) # read stri into dict\n",
    "print(a[0:200])"
   ]
  },
  {
   "cell_type": "code",
   "execution_count": 62,
   "metadata": {
    "collapsed": false
   },
   "outputs": [
    {
     "name": "stdout",
     "output_type": "stream",
     "text": [
      "{   'area': {   'id': '6a264f94-6ff1-30b1-9a81-41f7bfabd616',\n",
      "                'name': 'Finland',\n",
      "                'sort-name': 'Finland'},\n",
      "    'country': 'FI',\n",
      "    'disambiguation': \"Early 1980's Finnish punk band\",\n",
      "    'id': '85af0709-95db-4fbc-801a-120e9f4766d0',\n",
      "    'life-span': {'ended': None},\n",
      "    'name': 'Nirvana',\n",
      "    'score': '100',\n",
      "    'sort-name': 'Nirvana',\n",
      "    'tags': [{'count': 1, 'name': 'punk'}, {'count': 1, 'name': 'finland'}],\n",
      "    'type': 'Group'}\n"
     ]
    }
   ],
   "source": [
    "import pprint # useful for imbedded dict\n",
    "pp = pprint.PrettyPrinter(indent=4)\n",
    "pp.pprint(d[\"artists\"][0])"
   ]
  },
  {
   "cell_type": "code",
   "execution_count": 65,
   "metadata": {
    "collapsed": false
   },
   "outputs": [
    {
     "data": {
      "text/html": [
       "<div>\n",
       "<table border=\"1\" class=\"dataframe\">\n",
       "  <thead>\n",
       "    <tr style=\"text-align: right;\">\n",
       "      <th></th>\n",
       "      <th>aliases</th>\n",
       "      <th>area</th>\n",
       "      <th>begin-area</th>\n",
       "      <th>country</th>\n",
       "      <th>disambiguation</th>\n",
       "      <th>gender</th>\n",
       "      <th>id</th>\n",
       "      <th>life-span</th>\n",
       "      <th>name</th>\n",
       "      <th>score</th>\n",
       "      <th>sort-name</th>\n",
       "      <th>tags</th>\n",
       "      <th>type</th>\n",
       "    </tr>\n",
       "  </thead>\n",
       "  <tbody>\n",
       "    <tr>\n",
       "      <th>0</th>\n",
       "      <td>NaN</td>\n",
       "      <td>{'id': '6a264f94-6ff1-30b1-9a81-41f7bfabd616',...</td>\n",
       "      <td>NaN</td>\n",
       "      <td>FI</td>\n",
       "      <td>Early 1980's Finnish punk band</td>\n",
       "      <td>NaN</td>\n",
       "      <td>85af0709-95db-4fbc-801a-120e9f4766d0</td>\n",
       "      <td>{'ended': None}</td>\n",
       "      <td>Nirvana</td>\n",
       "      <td>100</td>\n",
       "      <td>Nirvana</td>\n",
       "      <td>[{'count': 1, 'name': 'punk'}, {'count': 1, 'n...</td>\n",
       "      <td>Group</td>\n",
       "    </tr>\n",
       "    <tr>\n",
       "      <th>1</th>\n",
       "      <td>NaN</td>\n",
       "      <td>NaN</td>\n",
       "      <td>NaN</td>\n",
       "      <td>NaN</td>\n",
       "      <td>French band from Martigues, activ during the 70s.</td>\n",
       "      <td>NaN</td>\n",
       "      <td>c49d69dc-e008-47cf-b5ff-160fafb1fe1f</td>\n",
       "      <td>{'ended': None}</td>\n",
       "      <td>Nirvana</td>\n",
       "      <td>100</td>\n",
       "      <td>Nirvana</td>\n",
       "      <td>NaN</td>\n",
       "      <td>NaN</td>\n",
       "    </tr>\n",
       "    <tr>\n",
       "      <th>2</th>\n",
       "      <td>NaN</td>\n",
       "      <td>NaN</td>\n",
       "      <td>NaN</td>\n",
       "      <td>NaN</td>\n",
       "      <td>founded in 1987 by a Michael Jackson double/im...</td>\n",
       "      <td>NaN</td>\n",
       "      <td>3aa878c0-224b-41e5-abd1-63be359d2bca</td>\n",
       "      <td>{'begin': '1987', 'ended': None}</td>\n",
       "      <td>Nirvana</td>\n",
       "      <td>100</td>\n",
       "      <td>Nirvana</td>\n",
       "      <td>NaN</td>\n",
       "      <td>NaN</td>\n",
       "    </tr>\n",
       "    <tr>\n",
       "      <th>3</th>\n",
       "      <td>NaN</td>\n",
       "      <td>{'id': '8a754a16-0027-3a29-b6d7-2b40ea0481ed',...</td>\n",
       "      <td>{'id': 'f03d09b3-39dc-4083-afd6-159e3f0d462f',...</td>\n",
       "      <td>GB</td>\n",
       "      <td>60s band from the UK</td>\n",
       "      <td>NaN</td>\n",
       "      <td>9282c8b4-ca0b-4c6b-b7e3-4f7762dfc4d6</td>\n",
       "      <td>{'begin': '1967', 'ended': None}</td>\n",
       "      <td>Nirvana</td>\n",
       "      <td>100</td>\n",
       "      <td>Nirvana</td>\n",
       "      <td>[{'count': 1, 'name': 'rock'}, {'count': 1, 'n...</td>\n",
       "      <td>Group</td>\n",
       "    </tr>\n",
       "    <tr>\n",
       "      <th>4</th>\n",
       "      <td>[{'begin-date': None, 'end-date': None, 'local...</td>\n",
       "      <td>{'id': '489ce91b-6658-3307-9877-795b68554c98',...</td>\n",
       "      <td>{'id': 'a640b45c-c173-49b1-8030-973603e895b5',...</td>\n",
       "      <td>US</td>\n",
       "      <td>90s US grunge band</td>\n",
       "      <td>NaN</td>\n",
       "      <td>5b11f4ce-a62d-471e-81fc-a69a8278c7da</td>\n",
       "      <td>{'begin': '1988-01', 'end': '1994-04-05', 'end...</td>\n",
       "      <td>Nirvana</td>\n",
       "      <td>100</td>\n",
       "      <td>Nirvana</td>\n",
       "      <td>[{'count': 9, 'name': 'rock'}, {'count': 4, 'n...</td>\n",
       "      <td>Group</td>\n",
       "    </tr>\n",
       "  </tbody>\n",
       "</table>\n",
       "</div>"
      ],
      "text/plain": [
       "                                             aliases  \\\n",
       "0                                                NaN   \n",
       "1                                                NaN   \n",
       "2                                                NaN   \n",
       "3                                                NaN   \n",
       "4  [{'begin-date': None, 'end-date': None, 'local...   \n",
       "\n",
       "                                                area  \\\n",
       "0  {'id': '6a264f94-6ff1-30b1-9a81-41f7bfabd616',...   \n",
       "1                                                NaN   \n",
       "2                                                NaN   \n",
       "3  {'id': '8a754a16-0027-3a29-b6d7-2b40ea0481ed',...   \n",
       "4  {'id': '489ce91b-6658-3307-9877-795b68554c98',...   \n",
       "\n",
       "                                          begin-area country  \\\n",
       "0                                                NaN      FI   \n",
       "1                                                NaN     NaN   \n",
       "2                                                NaN     NaN   \n",
       "3  {'id': 'f03d09b3-39dc-4083-afd6-159e3f0d462f',...      GB   \n",
       "4  {'id': 'a640b45c-c173-49b1-8030-973603e895b5',...      US   \n",
       "\n",
       "                                      disambiguation gender  \\\n",
       "0                     Early 1980's Finnish punk band    NaN   \n",
       "1  French band from Martigues, activ during the 70s.    NaN   \n",
       "2  founded in 1987 by a Michael Jackson double/im...    NaN   \n",
       "3                               60s band from the UK    NaN   \n",
       "4                                 90s US grunge band    NaN   \n",
       "\n",
       "                                     id  \\\n",
       "0  85af0709-95db-4fbc-801a-120e9f4766d0   \n",
       "1  c49d69dc-e008-47cf-b5ff-160fafb1fe1f   \n",
       "2  3aa878c0-224b-41e5-abd1-63be359d2bca   \n",
       "3  9282c8b4-ca0b-4c6b-b7e3-4f7762dfc4d6   \n",
       "4  5b11f4ce-a62d-471e-81fc-a69a8278c7da   \n",
       "\n",
       "                                           life-span     name score sort-name  \\\n",
       "0                                    {'ended': None}  Nirvana   100   Nirvana   \n",
       "1                                    {'ended': None}  Nirvana   100   Nirvana   \n",
       "2                   {'begin': '1987', 'ended': None}  Nirvana   100   Nirvana   \n",
       "3                   {'begin': '1967', 'ended': None}  Nirvana   100   Nirvana   \n",
       "4  {'begin': '1988-01', 'end': '1994-04-05', 'end...  Nirvana   100   Nirvana   \n",
       "\n",
       "                                                tags   type  \n",
       "0  [{'count': 1, 'name': 'punk'}, {'count': 1, 'n...  Group  \n",
       "1                                                NaN    NaN  \n",
       "2                                                NaN    NaN  \n",
       "3  [{'count': 1, 'name': 'rock'}, {'count': 1, 'n...  Group  \n",
       "4  [{'count': 9, 'name': 'rock'}, {'count': 4, 'n...  Group  "
      ]
     },
     "execution_count": 65,
     "metadata": {},
     "output_type": "execute_result"
    }
   ],
   "source": [
    "pd.DataFrame.from_dict(d[\"artists\"], orient='columns').head()"
   ]
  },
  {
   "cell_type": "code",
   "execution_count": 85,
   "metadata": {
    "collapsed": false
   },
   "outputs": [],
   "source": [
    "file =\"data/artist.json\"\n",
    "with open(file) as f:\n",
    "    d2 = json.load(f)"
   ]
  },
  {
   "cell_type": "code",
   "execution_count": 73,
   "metadata": {
    "collapsed": false
   },
   "outputs": [
    {
     "name": "stdout",
     "output_type": "stream",
     "text": [
      "{   'area': {   'id': '8a754a16-0027-3a29-b6d7-2b40ea0481ed',\n",
      "                'name': 'United Kingdom',\n",
      "                'sort-name': 'United Kingdom'},\n",
      "    'country': 'GB',\n",
      "    'disambiguation': '60s band from the UK',\n",
      "    'id': '9282c8b4-ca0b-4c6b-b7e3-4f7762dfc4d6',\n",
      "    'life-span': {'begin': '1967', 'ended': None},\n",
      "    'name': 'Nirvana',\n",
      "    'score': '100',\n",
      "    'sort-name': 'Nirvana',\n",
      "    'tags': [   {'count': 1, 'name': 'rock'},\n",
      "                {'count': 1, 'name': 'pop'},\n",
      "                {'count': 1, 'name': 'progressive rock'},\n",
      "                {'count': 1, 'name': 'orchestral'},\n",
      "                {'count': 1, 'name': 'british'},\n",
      "                {'count': 1, 'name': 'power pop'},\n",
      "                {'count': 1, 'name': 'psychedelic rock'},\n",
      "                {'count': 1, 'name': 'soft rock'},\n",
      "                {'count': 1, 'name': 'symphonic rock'},\n",
      "                {'count': 1, 'name': 'english'}],\n",
      "    'type': 'Group'}\n"
     ]
    }
   ],
   "source": [
    "pp.pprint(d2)"
   ]
  },
  {
   "cell_type": "code",
   "execution_count": 84,
   "metadata": {
    "collapsed": false
   },
   "outputs": [
    {
     "name": "stdout",
     "output_type": "stream",
     "text": [
      "requesting http://musicbrainz.org/ws/2/artist/85af0709-95db-4fbc-801a-120e9f4766d0?fmt=json&inc=releases\n",
      "{   'area': {   'disambiguation': '',\n",
      "                'id': '6a264f94-6ff1-30b1-9a81-41f7bfabd616',\n",
      "                'iso-3166-1-codes': ['FI'],\n",
      "                'name': 'Finland',\n",
      "                'sort-name': 'Finland'},\n",
      "    'begin_area': None,\n",
      "    'country': 'FI',\n",
      "    'disambiguation': \"Early 1980's Finnish punk band\",\n",
      "    'end_area': None,\n",
      "    'gender': None,\n",
      "    'gender-id': None,\n",
      "    'id': '85af0709-95db-4fbc-801a-120e9f4766d0',\n",
      "    'ipis': [],\n",
      "    'isnis': [],\n",
      "    'life-span': {'begin': None, 'end': None, 'ended': False},\n",
      "    'name': 'Nirvana',\n",
      "    'releases': [   {   'barcode': '',\n",
      "                        'country': 'FI',\n",
      "                        'date': '1980',\n",
      "                        'disambiguation': '',\n",
      "                        'id': '3e25396c-5c66-4609-8e47-37f250d323c7',\n",
      "                        'packaging': 'Cardboard/Paper Sleeve',\n",
      "                        'packaging-id': 'f7101ce3-0384-39ce-9fde-fbbd0044d35f',\n",
      "                        'quality': 'normal',\n",
      "                        'release-events': [   {   'area': {   'disambiguation': '',\n",
      "                                                              'id': '6a264f94-6ff1-30b1-9a81-41f7bfabd616',\n",
      "                                                              'iso-3166-1-codes': [   'FI'],\n",
      "                                                              'name': 'Finland',\n",
      "                                                              'sort-name': 'Finland'},\n",
      "                                                  'date': '1980'}],\n",
      "                        'status': 'Official',\n",
      "                        'status-id': '4e304316-386d-3409-af2e-78857eec5cfe',\n",
      "                        'text-representation': {   'language': 'fin',\n",
      "                                                   'script': 'Latn'},\n",
      "                        'title': 'Nirvana'}],\n",
      "    'sort-name': 'Nirvana',\n",
      "    'type': 'Group',\n",
      "    'type-id': 'e431f5f6-b5d2-343d-8b36-72607fffb74b'}\n"
     ]
    }
   ],
   "source": [
    "ID = d[\"artists\"][0][\"id\"]\n",
    "r = requests.get(\"http://musicbrainz.org/ws/2/artist/\"+ID, params={'fmt': 'json', \"inc\": \"releases\"})\n",
    "print(\"requesting\", r.url)\n",
    "pp.pprint(r.json())"
   ]
  },
  {
   "cell_type": "code",
   "execution_count": null,
   "metadata": {
    "collapsed": true
   },
   "outputs": [],
   "source": []
  }
 ],
 "metadata": {
  "kernelspec": {
   "display_name": "Python [conda env:py3]",
   "language": "python",
   "name": "conda-env-py3-py"
  },
  "language_info": {
   "codemirror_mode": {
    "name": "ipython",
    "version": 3
   },
   "file_extension": ".py",
   "mimetype": "text/x-python",
   "name": "python",
   "nbconvert_exporter": "python",
   "pygments_lexer": "ipython3",
   "version": "3.6.0"
  }
 },
 "nbformat": 4,
 "nbformat_minor": 2
}
