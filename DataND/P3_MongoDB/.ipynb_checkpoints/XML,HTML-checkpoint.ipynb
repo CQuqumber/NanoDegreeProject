{
 "cells": [
  {
   "cell_type": "code",
   "execution_count": 29,
   "metadata": {
    "collapsed": false
   },
   "outputs": [
    {
     "name": "stdout",
     "output_type": "stream",
     "text": [
      "8\n",
      "[ { 'email': 'omer@extremegate.com',\n",
      "    'fnm': 'Omer',\n",
      "    'insr': ['I1'],\n",
      "    'snm': 'Mei-Dan'},\n",
      "  { 'email': 'mcarmont@hotmail.com',\n",
      "    'fnm': 'Mike',\n",
      "    'insr': ['I2'],\n",
      "    'snm': 'Carmont'}]\n"
     ]
    }
   ],
   "source": [
    "import xml.etree.ElementTree as ET\n",
    "import pprint\n",
    "article_file = \"data/exampleResearchArticle.xml\"\n",
    "tree = ET.parse(article_file)\n",
    "root = tree.getroot()\n",
    "authors = []\n",
    "for author in root.findall('./fm/bibl/aug/au'):\n",
    "    data = {\n",
    "            \"fnm\": author.find('fnm').text,\n",
    "            \"snm\": author.find('snm').text,\n",
    "            \"email\": author.find('email').text,\n",
    "            \"insr\": [i.attrib['iid'] for i in author.findall('insr')]\n",
    "    }\n",
    "    authors.append(data)\n",
    "print(len(authors))\n",
    "pp = pprint.PrettyPrinter(indent=2)\n",
    "pp.pprint(authors[0:2])"
   ]
  },
  {
   "cell_type": "code",
   "execution_count": 10,
   "metadata": {
    "collapsed": false
   },
   "outputs": [
    {
     "name": "stderr",
     "output_type": "stream",
     "text": [
      "/Users/yuchaojiang/anaconda2/lib/python2.7/site-packages/ipykernel/__main__.py:1: DeprecationWarning: This method will be removed in future versions.  Use 'list(elem)' or iteration over elem instead.\n",
      "  if __name__ == '__main__':\n"
     ]
    },
    {
     "data": {
      "text/plain": [
       "[<Element 'snm' at 0x106aaa390>,\n",
       " <Element 'fnm' at 0x106aaa3d0>,\n",
       " <Element 'insr' at 0x106aaa410>,\n",
       " <Element 'email' at 0x106aaa450>]"
      ]
     },
     "execution_count": 10,
     "metadata": {},
     "output_type": "execute_result"
    }
   ],
   "source": [
    "author.getchildren()"
   ]
  },
  {
   "cell_type": "code",
   "execution_count": 18,
   "metadata": {
    "collapsed": false
   },
   "outputs": [
    {
     "data": {
      "text/plain": [
       "Counter({'bounds': 1,\n",
       "         'member': 3,\n",
       "         'nd': 4,\n",
       "         'node': 20,\n",
       "         'relation': 1,\n",
       "         'tag': 7,\n",
       "         'way': 1})"
      ]
     },
     "execution_count": 18,
     "metadata": {},
     "output_type": "execute_result"
    }
   ],
   "source": [
    "import xml.etree.cElementTree as ET\n",
    "import pprint\n",
    "from collections import Counter\n",
    "\n",
    "tree = ET.parse(\"data/example.osm\")\n",
    "root = tree.getroot()\n",
    "tags = []\n",
    "cnt = Counter()\n",
    "for row in root:\n",
    "    cnt[row.tag] +=1\n",
    "    for element in row.getchildren():\n",
    "        cnt[element.tag]+=1\n",
    "cnt"
   ]
  },
  {
   "cell_type": "code",
   "execution_count": 20,
   "metadata": {
    "collapsed": false
   },
   "outputs": [
    {
     "data": {
      "text/plain": [
       "[<Element 'bounds' at 0x106df0930>,\n",
       " <Element 'node' at 0x106df05d0>,\n",
       " <Element 'node' at 0x106df02d0>,\n",
       " <Element 'node' at 0x106df0150>,\n",
       " <Element 'node' at 0x106df01e0>,\n",
       " <Element 'node' at 0x106df0120>,\n",
       " <Element 'node' at 0x106df0f90>,\n",
       " <Element 'node' at 0x106d4bde0>,\n",
       " <Element 'node' at 0x106d4bd20>,\n",
       " <Element 'node' at 0x106dedd50>,\n",
       " <Element 'node' at 0x106de5300>,\n",
       " <Element 'node' at 0x106de5f00>,\n",
       " <Element 'node' at 0x106de53f0>,\n",
       " <Element 'node' at 0x106de5a80>,\n",
       " <Element 'node' at 0x106de5720>,\n",
       " <Element 'node' at 0x106de5870>,\n",
       " <Element 'node' at 0x106de5840>,\n",
       " <Element 'node' at 0x106db6270>,\n",
       " <Element 'node' at 0x106db6390>,\n",
       " <Element 'node' at 0x106db6420>,\n",
       " <Element 'node' at 0x106db65a0>,\n",
       " <Element 'way' at 0x106dbf0c0>,\n",
       " <Element 'relation' at 0x106dccb40>]"
      ]
     },
     "execution_count": 20,
     "metadata": {},
     "output_type": "execute_result"
    }
   ],
   "source": [
    "root.getchildren()"
   ]
  }
 ],
 "metadata": {
  "anaconda-cloud": {},
  "kernelspec": {
   "display_name": "Python [conda root]",
   "language": "python",
   "name": "conda-root-py"
  },
  "language_info": {
   "codemirror_mode": {
    "name": "ipython",
    "version": 2
   },
   "file_extension": ".py",
   "mimetype": "text/x-python",
   "name": "python",
   "nbconvert_exporter": "python",
   "pygments_lexer": "ipython2",
   "version": "2.7.12"
  }
 },
 "nbformat": 4,
 "nbformat_minor": 1
}
