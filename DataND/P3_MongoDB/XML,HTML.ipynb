{
 "cells": [
  {
   "cell_type": "code",
   "execution_count": 29,
   "metadata": {
    "collapsed": false
   },
   "outputs": [
    {
     "name": "stdout",
     "output_type": "stream",
     "text": [
      "8\n",
      "[ { 'email': 'omer@extremegate.com',\n",
      "    'fnm': 'Omer',\n",
      "    'insr': ['I1'],\n",
      "    'snm': 'Mei-Dan'},\n",
      "  { 'email': 'mcarmont@hotmail.com',\n",
      "    'fnm': 'Mike',\n",
      "    'insr': ['I2'],\n",
      "    'snm': 'Carmont'}]\n"
     ]
    }
   ],
   "source": [
    "import xml.etree.ElementTree as ET\n",
    "import pprint\n",
    "article_file = \"data/exampleResearchArticle.xml\"\n",
    "tree = ET.parse(article_file)\n",
    "root = tree.getroot()\n",
    "authors = []\n",
    "for author in root.findall('./fm/bibl/aug/au'):\n",
    "    data = {\n",
    "            \"fnm\": author.find('fnm').text,\n",
    "            \"snm\": author.find('snm').text,\n",
    "            \"email\": author.find('email').text,\n",
    "            \"insr\": [i.attrib['iid'] for i in author.findall('insr')]\n",
    "    }\n",
    "    authors.append(data)\n",
    "print(len(authors))\n",
    "pp = pprint.PrettyPrinter(indent=2)\n",
    "pp.pprint(authors[0:2])"
   ]
  },
  {
   "cell_type": "code",
   "execution_count": 10,
   "metadata": {
    "collapsed": false
   },
   "outputs": [
    {
     "name": "stderr",
     "output_type": "stream",
     "text": [
      "/Users/yuchaojiang/anaconda2/lib/python2.7/site-packages/ipykernel/__main__.py:1: DeprecationWarning: This method will be removed in future versions.  Use 'list(elem)' or iteration over elem instead.\n",
      "  if __name__ == '__main__':\n"
     ]
    },
    {
     "data": {
      "text/plain": [
       "[<Element 'snm' at 0x106aaa390>,\n",
       " <Element 'fnm' at 0x106aaa3d0>,\n",
       " <Element 'insr' at 0x106aaa410>,\n",
       " <Element 'email' at 0x106aaa450>]"
      ]
     },
     "execution_count": 10,
     "metadata": {},
     "output_type": "execute_result"
    }
   ],
   "source": [
    "author.getchildren()"
   ]
  },
  {
   "cell_type": "code",
   "execution_count": 18,
   "metadata": {
    "collapsed": false
   },
   "outputs": [
    {
     "data": {
      "text/plain": [
       "Counter({'bounds': 1,\n",
       "         'member': 3,\n",
       "         'nd': 4,\n",
       "         'node': 20,\n",
       "         'relation': 1,\n",
       "         'tag': 7,\n",
       "         'way': 1})"
      ]
     },
     "execution_count": 18,
     "metadata": {},
     "output_type": "execute_result"
    }
   ],
   "source": [
    "import xml.etree.cElementTree as ET\n",
    "import pprint\n",
    "from collections import Counter\n",
    "\n",
    "tree = ET.parse(\"data/example.osm\")\n",
    "root = tree.getroot()\n",
    "tags = []\n",
    "cnt = Counter()\n",
    "for row in root:\n",
    "    cnt[row.tag] +=1\n",
    "    for element in row.getchildren():\n",
    "        cnt[element.tag]+=1\n",
    "cnt"
   ]
  },
  {
   "cell_type": "markdown",
   "metadata": {},
   "source": [
    "# HTML"
   ]
  },
  {
   "cell_type": "code",
   "execution_count": 30,
   "metadata": {
    "collapsed": false
   },
   "outputs": [],
   "source": [
    "from bs4 import BeautifulSoup\n",
    "import requests\n",
    "import json\n",
    "\n",
    "# directly read from online\n",
    "s = requests.Session()\n",
    "r = s.get(\"http://www.transtats.bts.gov/Data_Elements.aspx?Data=2\")\n",
    "soup = BeautifulSoup(r.text,'lxml')\n",
    "eventvalidation =soup.find(id='__EVENTVALIDATION')[\"value\"]\n",
    "viewstate = soup.find(id=\"__VIEWSTATE\")['value']\n",
    "    \n",
    "# read from local file\n",
    "with open(\"page_source.html\", \"r\") as html:\n",
    "    soup = BeautifulSoup(html,\"lxml\")\n",
    "    eventvalidation =soup.find(id='__EVENTVALIDATION')[\"value\"]\n",
    "    viewstate = soup.find(id=\"__VIEWSTATE\")['value']\n",
    "\n",
    "r = requests.post(\"http://www.transtats.bts.gov/Data_Elements.aspx?Data=2\",\n",
    "                data={'AirportList': \"BOS\",\n",
    "                      'CarrierList': \"VX\",\n",
    "                      'Submit': 'Submit',\n",
    "                      \"__EVENTTARGET\": \"\",\n",
    "                      \"__EVENTARGUMENT\": \"\",\n",
    "                      \"__EVENTVALIDATION\": eventvalidation,\n",
    "                      \"__VIEWSTATE\": viewstate\n",
    "                })\n",
    "\n",
    "with open(\"airport.html\",\"w\") as f:\n",
    "    f.write(r.text)"
   ]
  },
  {
   "cell_type": "code",
   "execution_count": null,
   "metadata": {
    "collapsed": true
   },
   "outputs": [],
   "source": []
  }
 ],
 "metadata": {
  "anaconda-cloud": {},
  "kernelspec": {
   "display_name": "Python [conda root]",
   "language": "python",
   "name": "conda-root-py"
  },
  "language_info": {
   "codemirror_mode": {
    "name": "ipython",
    "version": 2
   },
   "file_extension": ".py",
   "mimetype": "text/x-python",
   "name": "python",
   "nbconvert_exporter": "python",
   "pygments_lexer": "ipython2",
   "version": "2.7.12"
  }
 },
 "nbformat": 4,
 "nbformat_minor": 1
}
