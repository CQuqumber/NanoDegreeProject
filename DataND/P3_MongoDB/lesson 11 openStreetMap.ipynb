{
 "cells": [
  {
   "cell_type": "markdown",
   "metadata": {},
   "source": [
    "## 3 iterative parsing"
   ]
  },
  {
   "cell_type": "code",
   "execution_count": 19,
   "metadata": {
    "collapsed": false
   },
   "outputs": [
    {
     "name": "stdout",
     "output_type": "stream",
     "text": [
      "highway\n",
      "amenity\n",
      "cuisine\n",
      "name\n",
      "highway\n",
      "restriction\n",
      "type\n",
      "{'bounds': 2,\n",
      " 'member': 6,\n",
      " 'nd': 8,\n",
      " 'node': 40,\n",
      " 'osm': 1,\n",
      " 'relation': 2,\n",
      " 'tag': 14,\n",
      " 'way': 2}\n"
     ]
    }
   ],
   "source": [
    "import xml.etree.cElementTree as ET\n",
    "import pprint\n",
    "from collections import Counter\n",
    "c = Counter()\n",
    "for event, elem in ET.iterparse('data/example.osm', events =(\"start\",)):\n",
    "    c[elem.tag] +=1\n",
    "    for element in elem.getchildren():\n",
    "        c[element.tag]+=1\n",
    "        if element.tag == \"tag\":\n",
    "            print element.attrib['k']\n",
    "        \n",
    "        \n",
    "pprint.pprint(dict(c))         "
   ]
  },
  {
   "cell_type": "markdown",
   "metadata": {},
   "source": [
    "## 6 iterating through ways tags"
   ]
  },
  {
   "cell_type": "code",
   "execution_count": null,
   "metadata": {
    "collapsed": true
   },
   "outputs": [],
   "source": [
    "for event, elem in ET.iterparse('data/example.osm', events =(\"start\",)):\n",
    "    if elem.tag == \"way\":\n",
    "        for tag in elem.iter(\"tag\"):\n",
    "            if tag.attrib['k'] == \"addr:street\"\n"
   ]
  },
  {
   "cell_type": "markdown",
   "metadata": {},
   "source": [
    "## 7 tag type"
   ]
  },
  {
   "cell_type": "code",
   "execution_count": 30,
   "metadata": {
    "collapsed": false
   },
   "outputs": [
    {
     "name": "stdout",
     "output_type": "stream",
     "text": [
      "{'lower': 38, 'lower_colon': 0, 'other': 0, 'problemchars': 0}\n"
     ]
    }
   ],
   "source": [
    "import xml.etree.cElementTree as ET\n",
    "import pprint\n",
    "import re\n",
    "\"\"\"\n",
    "Please complete the function 'key_type', such that we have a count of each of\n",
    "four tag categories in a dictionary:\n",
    "  \"lower\", for tags that contain only lowercase letters and are valid,\n",
    "  \"lower_colon\", for otherwise valid tags with a colon in their names,\n",
    "  \"problemchars\", for tags with problematic characters, and\n",
    "  \"other\", for other tags that do not fall into the other three categories.\n",
    "See the 'process_map' and 'test' functions for examples of the expected format.\n",
    "\"\"\"\n",
    "\n",
    "lower = re.compile(r'^([a-z]|_)*$')\n",
    "lower_colon = re.compile(r'^([a-z]|_)*:([a-z]|_)*$')\n",
    "problemchars = re.compile(r'[=\\+/&<>;\\'\"\\?%#$@\\,\\. \\t\\r\\n]')\n",
    "\n",
    "keys = {\"lower\": 0, \"lower_colon\": 0, \"problemchars\": 0, \"other\": 0}\n",
    "for event, elem in ET.iterparse('data/example.osm', events =(\"start\",)):\n",
    "    if element.tag == \"tag\":\n",
    "        a = element.attrib['k']\n",
    "        if lower.search(a):\n",
    "            keys['lower'] +=1\n",
    "        elif lower_colon.search(a):\n",
    "            keys['lower_colon'] +=1\n",
    "        elif problemchars.search(a):\n",
    "            keys['problemchars'] +=1\n",
    "        else:\n",
    "            keys['other'] +=1\n",
    "\n",
    "pprint.pprint(keys)"
   ]
  },
  {
   "cell_type": "markdown",
   "metadata": {},
   "source": [
    "## 8 exploring users"
   ]
  },
  {
   "cell_type": "code",
   "execution_count": 39,
   "metadata": {
    "collapsed": false
   },
   "outputs": [
    {
     "name": "stdout",
     "output_type": "stream",
     "text": [
      "set(['451048', '939355', '147510', '26299', '1219059', '567034'])\n"
     ]
    }
   ],
   "source": [
    "users = set()\n",
    "for event, element in ET.iterparse('data/example.osm', events =(\"start\",)):\n",
    "    if element.get(\"uid\"):\n",
    "        users.add(element.attrib['uid'])\n",
    "print users"
   ]
  },
  {
   "cell_type": "code",
   "execution_count": null,
   "metadata": {
    "collapsed": true
   },
   "outputs": [],
   "source": []
  }
 ],
 "metadata": {
  "kernelspec": {
   "display_name": "Python [conda root]",
   "language": "python",
   "name": "conda-root-py"
  },
  "language_info": {
   "codemirror_mode": {
    "name": "ipython",
    "version": 2
   },
   "file_extension": ".py",
   "mimetype": "text/x-python",
   "name": "python",
   "nbconvert_exporter": "python",
   "pygments_lexer": "ipython2",
   "version": "2.7.12"
  }
 },
 "nbformat": 4,
 "nbformat_minor": 2
}
