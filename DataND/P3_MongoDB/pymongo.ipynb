{
 "cells": [
  {
   "cell_type": "markdown",
   "metadata": {},
   "source": [
    "## install and setup\n",
    "\n",
    "https://www.udacity.com/wiki/ud032#!#installing-mongodb\n",
    "\n",
    "```shell\n",
    "brew install mongodb\n",
    "brew services start mongodb\n",
    "mkdir -p /data/db    //create default directory\n",
    "sudo chown -R `id -u` /data/db    // give permission\n",
    "mongod\n",
    "```\n",
    "\n"
   ]
  },
  {
   "cell_type": "markdown",
   "metadata": {},
   "source": [
    "## 5 kicking the tires"
   ]
  },
  {
   "cell_type": "code",
   "execution_count": 1,
   "metadata": {
    "collapsed": false,
    "scrolled": true
   },
   "outputs": [
    {
     "name": "stdout",
     "output_type": "stream",
     "text": [
      "{u'_id': ObjectId('58b7861803abf385b09fa567'), u'name': u'Chicago'}\n"
     ]
    }
   ],
   "source": [
    "from pymongo import MongoClient\n",
    "client = MongoClient('localhost:27017')\n",
    "db = client.examples    # creat database \"examples\" if not exist\n",
    "db.cities.insert_one({\"name\" : \"Chicago\"})  # insert an instance to table \"cities\"\n",
    "print db.cities.find_one()"
   ]
  },
  {
   "cell_type": "markdown",
   "metadata": {},
   "source": [
    "## 8 intro to PyMongo"
   ]
  },
  {
   "cell_type": "code",
   "execution_count": 8,
   "metadata": {
    "collapsed": true
   },
   "outputs": [],
   "source": [
    "db.autos.drop()"
   ]
  },
  {
   "cell_type": "code",
   "execution_count": 9,
   "metadata": {
    "collapsed": false
   },
   "outputs": [
    {
     "name": "stdout",
     "output_type": "stream",
     "text": [
      "{u'_id': ObjectId('59012bdc03abf3b66b007f67'),\n",
      " u'class': u'full-size',\n",
      " u'manufacturer': u'Tesla Motors',\n",
      " u'production': [2012, 2013]}\n"
     ]
    }
   ],
   "source": [
    "from pymongo import MongoClient\n",
    "import pprint\n",
    "\n",
    "client = MongoClient('localhost:27017')\n",
    "tesla_s = {\n",
    "    \"manufacturer\": \"Tesla Motors\",\n",
    "    \"class\": \"full-size\",\n",
    "    \"production\":[2012,2013]\n",
    "}\n",
    "\n",
    "db = client.examples\n",
    "db.autos.insert_one(tesla_s)  # cursor\n",
    "for a in db.autos.find():\n",
    "    pprint.pprint(a)\n",
    "## each time will add an unique _id"
   ]
  },
  {
   "cell_type": "code",
   "execution_count": 10,
   "metadata": {
    "collapsed": false,
    "scrolled": true
   },
   "outputs": [
    {
     "name": "stdout",
     "output_type": "stream",
     "text": [
      "{u'_id': ObjectId('59012bdc03abf3b66b007f67'),\n",
      " u'class': u'full-size',\n",
      " u'manufacturer': u'Tesla Motors',\n",
      " u'production': [2012, 2013]}\n"
     ]
    }
   ],
   "source": [
    "from pymongo import MongoClient\n",
    "import pprint\n",
    "\n",
    "client = MongoClient('localhost:27017')\n",
    "db = client.examples\n",
    "autos = db.autos.find({\"manufacturer\":\"Tesla Motors\"})  # cursor\n",
    "for a in autos:\n",
    "    pprint.pprint(a)"
   ]
  },
  {
   "cell_type": "markdown",
   "metadata": {},
   "source": [
    "## 10 finding Porsche"
   ]
  },
  {
   "cell_type": "code",
   "execution_count": 15,
   "metadata": {
    "collapsed": false
   },
   "outputs": [
    {
     "name": "stdout",
     "output_type": "stream",
     "text": [
      "Printing first 3 results\n",
      "\n"
     ]
    }
   ],
   "source": [
    "from pymongo import MongoClient\n",
    "client = MongoClient('localhost:27017')\n",
    "db = client['examples']\n",
    "results = db.autos.find({\"manufacturer\":\"Porsche\"})\n",
    "\n",
    "print \"Printing first 3 results\\n\"\n",
    "import pprint\n",
    "for car in results[:3]:\n",
    "    pprint.pprint(car)"
   ]
  },
  {
   "cell_type": "markdown",
   "metadata": {},
   "source": [
    "## 12 multiple field queries, projection"
   ]
  },
  {
   "cell_type": "code",
   "execution_count": 12,
   "metadata": {
    "collapsed": true
   },
   "outputs": [],
   "source": [
    "query = {\"manufacturer\":\"Toyota\", \"class\": \"mid-size car\"}\n",
    "projection = {\"id\":0, \"name\": 1}\n",
    "autos = db.autos.find(query, projection)"
   ]
  },
  {
   "cell_type": "markdown",
   "metadata": {},
   "source": [
    "## official exmaple\n",
    "https://www.mongodb.com/what-is-mongodb"
   ]
  },
  {
   "cell_type": "code",
   "execution_count": 21,
   "metadata": {
    "collapsed": false
   },
   "outputs": [],
   "source": []
  },
  {
   "cell_type": "code",
   "execution_count": 34,
   "metadata": {
    "collapsed": false
   },
   "outputs": [
    {
     "name": "stdout",
     "output_type": "stream",
     "text": [
      "{u'_id': ObjectId('5901325003abf3b66b007f91'),\n",
      " u'categories': [u'Pizza', u'Pasta', u'Italian', u'Coffee', u'Sandwiches'],\n",
      " u'name': u'Sun Bakery Trattoria',\n",
      " u'stars': 4}\n",
      "{u'_id': ObjectId('5901325003abf3b66b007f92'),\n",
      " u'categories': [u'Bagels', u'Cookies', u'Sandwiches'],\n",
      " u'name': u'Blue Bagels Grill',\n",
      " u'stars': 3}\n",
      "{u'_id': ObjectId('5901325003abf3b66b007f93'),\n",
      " u'categories': [u'Bakery', u'Cafe', u'Coffee', u'Dessert'],\n",
      " u'name': u'Hot Bakery Cafe',\n",
      " u'stars': 4}\n",
      "{u'_id': ObjectId('5901325003abf3b66b007f94'),\n",
      " u'categories': [u'Coffee', u'Cafe', u'Bakery', u'Chocolates'],\n",
      " u'name': u'XYZ Coffee Bar',\n",
      " u'stars': 5}\n",
      "{u'_id': ObjectId('5901325003abf3b66b007f95'),\n",
      " u'categories': [u'Bakery', u'Cookies', u'Cake', u'Coffee'],\n",
      " u'name': u'456 Cookies Shop',\n",
      " u'stars': 4}\n"
     ]
    }
   ],
   "source": [
    "import pprint\n",
    "import pymongo\n",
    "\n",
    "# 0 drop table if it already exists\n",
    "collection.drop()\n",
    "\n",
    "# 1. Connect to MongoDB instance running on localhost\n",
    "client = pymongo.MongoClient()\n",
    "\n",
    "# Access the 'restaurants' collection in the 'test' database\n",
    "collection = client.test.restaurants\n",
    "\n",
    "# 2. Insert \n",
    "new_documents = [\n",
    "    {\"name\":\"Sun Bakery Trattoria\", \"stars\":4, \"categories\":[\"Pizza\",\"Pasta\",\"Italian\",\"Coffee\",\"Sandwiches\"]},\n",
    "    {\"name\":\"Blue Bagels Grill\", \"stars\":3, \"categories\":[\"Bagels\",\"Cookies\",\"Sandwiches\"]},\n",
    "    {\"name\":\"Hot Bakery Cafe\",\"stars\":4,\"categories\":[\"Bakery\",\"Cafe\",\"Coffee\",\"Dessert\"]},\n",
    "    {\"name\":\"XYZ Coffee Bar\",\"stars\":5,\"categories\":[\"Coffee\",\"Cafe\",\"Bakery\",\"Chocolates\"]},\n",
    "    {\"name\":\"456 Cookies Shop\",\"stars\":4,\"categories\":[\"Bakery\",\"Cookies\",\"Cake\",\"Coffee\"]}]\n",
    "\n",
    "collection.insert_many(new_documents)\n",
    "\n",
    "# 3. Query \n",
    "for restaurant in collection.find():\n",
    "    pprint.pprint(restaurant)\n"
   ]
  },
  {
   "cell_type": "code",
   "execution_count": 32,
   "metadata": {
    "collapsed": false
   },
   "outputs": [
    {
     "name": "stdout",
     "output_type": "stream",
     "text": [
      "{u'count': 2, u'_id': 4}\n",
      "{u'count': 1, u'_id': 5}\n"
     ]
    }
   ],
   "source": [
    "# 4. Create Index \n",
    "collection.create_index([('name', pymongo.ASCENDING)])\n",
    "\n",
    "# 5. Perform aggregation\n",
    "pipeline = [\n",
    "    {\"$match\": {\"categories\": \"Bakery\"}},\n",
    "    {\"$group\": {\"_id\": \"$stars\", \n",
    "                \"count\": {\"$sum\": 1}}},\n",
    "    {\"$sort\":{\"count\":-1}}\n",
    "]\n",
    "cursor = collection.aggregate(pipeline)\n",
    "for row in cursor:\n",
    "    print row\n",
    "    #pprint.pprint(row)"
   ]
  },
  {
   "cell_type": "code",
   "execution_count": null,
   "metadata": {
    "collapsed": false
   },
   "outputs": [],
   "source": []
  }
 ],
 "metadata": {
  "anaconda-cloud": {},
  "kernelspec": {
   "display_name": "Python [conda root]",
   "language": "python",
   "name": "conda-root-py"
  },
  "language_info": {
   "codemirror_mode": {
    "name": "ipython",
    "version": 2
   },
   "file_extension": ".py",
   "mimetype": "text/x-python",
   "name": "python",
   "nbconvert_exporter": "python",
   "pygments_lexer": "ipython2",
   "version": "2.7.12"
  }
 },
 "nbformat": 4,
 "nbformat_minor": 1
}
