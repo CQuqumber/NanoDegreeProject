{
 "cells": [
  {
   "cell_type": "markdown",
   "metadata": {},
   "source": [
    "## 1 carrier list"
   ]
  },
  {
   "cell_type": "code",
   "execution_count": 7,
   "metadata": {
    "collapsed": false
   },
   "outputs": [
    {
     "name": "stdout",
     "output_type": "stream",
     "text": [
      "FL AirTran Airways\n",
      "AS Alaska Airlines \n",
      "AA American Airlines \n",
      "MQ American Eagle Airlines \n",
      "5Y Atlas Air \n",
      "DL Delta Air Lines \n",
      "EV ExpressJet Airlines \n",
      "F9 Frontier Airlines \n",
      "HA Hawaiian Airlines \n",
      "B6 JetBlue Airways\n",
      "OO SkyWest Airlines \n",
      "WN Southwest Airlines \n",
      "NK Spirit Air Lines\n",
      "US US Airways \n",
      "UA United Air Lines \n",
      "VX Virgin America\n"
     ]
    }
   ],
   "source": [
    "from bs4 import BeautifulSoup\n",
    "import requests\n",
    "soup = BeautifulSoup(open(\"data/options.html\",'r'), \"lxml\")\n",
    "\n",
    "for row in soup.findAll('option'):\n",
    "    if len(row.attrs['value'])==2:\n",
    "        print row.attrs['value'],row.text"
   ]
  },
  {
   "cell_type": "markdown",
   "metadata": {},
   "source": [
    "## 2 airport list"
   ]
  },
  {
   "cell_type": "code",
   "execution_count": 2,
   "metadata": {
    "collapsed": false
   },
   "outputs": [
    {
     "name": "stdout",
     "output_type": "stream",
     "text": [
      "ATL  - Atlanta, GA: Hartsfield-Jackson Atlanta International\n",
      "BWI  - Baltimore, MD: Baltimore/Washington International Thurgood Marshall\n",
      "BOS  - Boston, MA: Logan International\n",
      "CLT  - Charlotte, NC: Charlotte Douglas International\n",
      "MDW  - Chicago, IL: Chicago Midway International\n",
      "ORD  - Chicago, IL: Chicago O'Hare International\n",
      "DFW  - Dallas/Fort Worth, TX: Dallas/Fort Worth International\n",
      "DEN  - Denver, CO: Denver International\n",
      "DTW  - Detroit, MI: Detroit Metro Wayne County\n",
      "FLL  - Fort Lauderdale, FL: Fort Lauderdale-Hollywood International\n",
      "IAH  - Houston, TX: George Bush Intercontinental/Houston\n",
      "LAS  - Las Vegas, NV: McCarran International\n",
      "LAX  - Los Angeles, CA: Los Angeles International\n",
      "ABR  - Aberdeen, SD: Aberdeen Regional\n",
      "ABI  - Abilene, TX: Abilene Regional\n"
     ]
    }
   ],
   "source": [
    "for row in soup.findAll('option'):\n",
    "    if len(row.attrs['value'])==3 and row.attrs['value']!=\"All\" :\n",
    "        print row.attrs['value'],row.text"
   ]
  },
  {
   "cell_type": "markdown",
   "metadata": {},
   "source": [
    "## 3 processing All"
   ]
  },
  {
   "cell_type": "code",
   "execution_count": 34,
   "metadata": {
    "collapsed": false
   },
   "outputs": [],
   "source": [
    "'''\n",
    "The table with flight info has a table class=\"dataTDRight\". Your task is to\n",
    "use 'process_file()' to extract the flight data from that table as a list of\n",
    "dictionaries, each dictionary containing relevant data from the file and table\n",
    "row. This is an example of the data structure you should return:\n",
    "\n",
    "data = [{\"courier\": \"FL\",\n",
    "         \"airport\": \"ATL\",\n",
    "         \"year\": 2012,\n",
    "         \"month\": 12,\n",
    "         \"flights\": {\"domestic\": 100,\n",
    "                     \"international\": 100}\n",
    "        },\n",
    "         {\"courier\": \"...\"}\n",
    "]\n",
    "\n",
    "Note - year, month, and the flight data should be integers.\n",
    "You should skip the rows that contain the TOTAL data for a year.\n",
    "'''\n",
    "\n",
    "from bs4 import BeautifulSoup\n",
    "import requests\n",
    "\n",
    "soup = BeautifulSoup(open(\"data/a.html\",'r'), \"lxml\")  # can't read '-'\n",
    "data = []\n",
    "for row in soup.findAll('tr',attrs={'class': \"dataTDRight\"}):\n",
    "    info = {}\n",
    "    #info[\"courier\"], info[\"airport\"] = f[:6].split(\"-\")\n",
    "    info['flights']={}\n",
    "    for i,num in enumerate(row.findAll('td')):\n",
    "        if i == 0: \n",
    "            info[\"year\"] = int(num.text)\n",
    "        if i == 1:\n",
    "            if num.text == \"TOTAL\":\n",
    "                break\n",
    "            else:\n",
    "                info['month'] = int(num.text)\n",
    "        if i == 2:\n",
    "            info['flights']['domestic'] = int(num.text.replace(',',''))\n",
    "        if i == 3:\n",
    "            info['flights']['international'] = int(num.text.replace(',',''))\n",
    "    if num.text != \"TOTAL\":\n",
    "        data.append(info)"
   ]
  },
  {
   "cell_type": "code",
   "execution_count": 35,
   "metadata": {
    "collapsed": false
   },
   "outputs": [
    {
     "data": {
      "text/plain": [
       "{'flights': {'domestic': 815489, 'international': 92565},\n",
       " 'month': 10,\n",
       " 'year': 2002}"
      ]
     },
     "execution_count": 35,
     "metadata": {},
     "output_type": "execute_result"
    }
   ],
   "source": [
    "data[0]"
   ]
  }
 ],
 "metadata": {
  "anaconda-cloud": {},
  "kernelspec": {
   "display_name": "Python [conda root]",
   "language": "python",
   "name": "conda-root-py"
  },
  "language_info": {
   "codemirror_mode": {
    "name": "ipython",
    "version": 2
   },
   "file_extension": ".py",
   "mimetype": "text/x-python",
   "name": "python",
   "nbconvert_exporter": "python",
   "pygments_lexer": "ipython2",
   "version": "2.7.12"
  }
 },
 "nbformat": 4,
 "nbformat_minor": 1
}
