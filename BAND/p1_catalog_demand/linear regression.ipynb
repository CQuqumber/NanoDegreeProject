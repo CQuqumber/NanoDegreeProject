{
 "cells": [
  {
   "cell_type": "code",
   "execution_count": 34,
   "metadata": {
    "collapsed": true
   },
   "outputs": [],
   "source": [
    "import pandas as pd\n",
    "from sklearn.linear_model import LinearRegression\n",
    "import statsmodels.api as sm\n",
    "from scipy import stats\n",
    "import matplotlib.pyplot as plt\n",
    "% matplotlib inline\n",
    "import seaborn as sns"
   ]
  },
  {
   "cell_type": "code",
   "execution_count": 2,
   "metadata": {
    "collapsed": true
   },
   "outputs": [],
   "source": [
    "data1 = pd.read_excel(\"simple-linear-regression.xlsx\")"
   ]
  },
  {
   "cell_type": "code",
   "execution_count": 3,
   "metadata": {
    "collapsed": false
   },
   "outputs": [
    {
     "data": {
      "text/html": [
       "<div>\n",
       "<table border=\"1\" class=\"dataframe\">\n",
       "  <thead>\n",
       "    <tr style=\"text-align: right;\">\n",
       "      <th></th>\n",
       "      <th>Number of Employees</th>\n",
       "      <th>Average Number of Tickets</th>\n",
       "    </tr>\n",
       "  </thead>\n",
       "  <tbody>\n",
       "    <tr>\n",
       "      <th>0</th>\n",
       "      <td>51</td>\n",
       "      <td>1</td>\n",
       "    </tr>\n",
       "    <tr>\n",
       "      <th>1</th>\n",
       "      <td>68</td>\n",
       "      <td>9</td>\n",
       "    </tr>\n",
       "    <tr>\n",
       "      <th>2</th>\n",
       "      <td>67</td>\n",
       "      <td>20</td>\n",
       "    </tr>\n",
       "    <tr>\n",
       "      <th>3</th>\n",
       "      <td>124</td>\n",
       "      <td>1</td>\n",
       "    </tr>\n",
       "    <tr>\n",
       "      <th>4</th>\n",
       "      <td>124</td>\n",
       "      <td>8</td>\n",
       "    </tr>\n",
       "  </tbody>\n",
       "</table>\n",
       "</div>"
      ],
      "text/plain": [
       "   Number of Employees  Average Number of Tickets\n",
       "0                   51                          1\n",
       "1                   68                          9\n",
       "2                   67                         20\n",
       "3                  124                          1\n",
       "4                  124                          8"
      ]
     },
     "execution_count": 3,
     "metadata": {},
     "output_type": "execute_result"
    }
   ],
   "source": [
    "data1.head()"
   ]
  },
  {
   "cell_type": "code",
   "execution_count": 8,
   "metadata": {
    "collapsed": false
   },
   "outputs": [
    {
     "name": "stdout",
     "output_type": "stream",
     "text": [
      "<class 'pandas.core.frame.DataFrame'>\n",
      "RangeIndex: 20 entries, 0 to 19\n",
      "Data columns (total 2 columns):\n",
      "Number of Employees          20 non-null int64\n",
      "Average Number of Tickets    20 non-null int64\n",
      "dtypes: int64(2)\n",
      "memory usage: 400.0 bytes\n"
     ]
    }
   ],
   "source": [
    "data1.info()"
   ]
  },
  {
   "cell_type": "code",
   "execution_count": 31,
   "metadata": {
    "collapsed": true
   },
   "outputs": [],
   "source": [
    "X = data1[\"Number of Employees\"]\n",
    "y = data1[\"Average Number of Tickets\"]"
   ]
  },
  {
   "cell_type": "markdown",
   "metadata": {},
   "source": [
    "## regression + scatter plot using seaborn"
   ]
  },
  {
   "cell_type": "code",
   "execution_count": 48,
   "metadata": {
    "collapsed": false
   },
   "outputs": [
    {
     "data": {
      "text/plain": [
       "<matplotlib.axes._subplots.AxesSubplot at 0x11bee7860>"
      ]
     },
     "execution_count": 48,
     "metadata": {},
     "output_type": "execute_result"
    },
    {
     "data": {
      "image/png": "[encoded data removed]",
      "text/plain": [
       "<matplotlib.figure.Figure at 0x11bf06588>"
      ]
     },
     "metadata": {},
     "output_type": "display_data"
    }
   ],
   "source": [
    "sns.regplot(X,y)"
   ]
  },
  {
   "cell_type": "markdown",
   "metadata": {},
   "source": [
    "## linear regression by sklearn"
   ]
  },
  {
   "cell_type": "code",
   "execution_count": 43,
   "metadata": {
    "collapsed": false
   },
   "outputs": [
    {
     "data": {
      "text/plain": [
       "(array([ 0.18173583]), -7.5464782252213496)"
      ]
     },
     "execution_count": 43,
     "metadata": {},
     "output_type": "execute_result"
    }
   ],
   "source": [
    "model = LinearRegression()\n",
    "model.fit(X.values.reshape(-1,1), y)\n",
    "model.coef_, model.intercept_"
   ]
  },
  {
   "cell_type": "code",
   "execution_count": 45,
   "metadata": {
    "collapsed": false
   },
   "outputs": [
    {
     "data": {
      "text/plain": [
       "0.78620714716141282"
      ]
     },
     "execution_count": 45,
     "metadata": {},
     "output_type": "execute_result"
    }
   ],
   "source": [
    "model.score(X.values.reshape(-1,1),y)"
   ]
  },
  {
   "cell_type": "markdown",
   "metadata": {},
   "source": [
    "## p value by statsmodels.api"
   ]
  },
  {
   "cell_type": "code",
   "execution_count": 42,
   "metadata": {
    "collapsed": false
   },
   "outputs": [
    {
     "name": "stdout",
     "output_type": "stream",
     "text": [
      "                                OLS Regression Results                               \n",
      "=====================================================================================\n",
      "Dep. Variable:     Average Number of Tickets   R-squared:                       0.786\n",
      "Model:                                   OLS   Adj. R-squared:                  0.774\n",
      "Method:                        Least Squares   F-statistic:                     66.19\n",
      "Date:                       Sat, 29 Apr 2017   Prob (F-statistic):           1.93e-07\n",
      "Time:                               18:19:34   Log-Likelihood:                -80.664\n",
      "No. Observations:                         20   AIC:                             165.3\n",
      "Df Residuals:                             18   BIC:                             167.3\n",
      "Df Model:                                  1                                         \n",
      "Covariance Type:                   nonrobust                                         \n",
      "=======================================================================================\n",
      "                          coef    std err          t      P>|t|      [0.025      0.975]\n",
      "---------------------------------------------------------------------------------------\n",
      "const                  -7.5465      6.710     -1.125      0.275     -21.643       6.550\n",
      "Number of Employees     0.1817      0.022      8.136      0.000       0.135       0.229\n",
      "==============================================================================\n",
      "Omnibus:                        1.414   Durbin-Watson:                   2.778\n",
      "Prob(Omnibus):                  0.493   Jarque-Bera (JB):                1.033\n",
      "Skew:                          -0.289   Prob(JB):                        0.596\n",
      "Kurtosis:                       2.049   Cond. No.                         626.\n",
      "==============================================================================\n",
      "\n",
      "Warnings:\n",
      "[1] Standard Errors assume that the covariance matrix of the errors is correctly specified.\n"
     ]
    }
   ],
   "source": [
    "X2 = sm.add_constant(X)\n",
    "est = sm.OLS(y, X2)\n",
    "est2 = est.fit()\n",
    "print(est2.summary())"
   ]
  },
  {
   "cell_type": "markdown",
   "metadata": {},
   "source": [
    "# Multiple value linear regression"
   ]
  },
  {
   "cell_type": "code",
   "execution_count": 49,
   "metadata": {
    "collapsed": false
   },
   "outputs": [
    {
     "name": "stdout",
     "output_type": "stream",
     "text": [
      "<class 'pandas.core.frame.DataFrame'>\n",
      "RangeIndex: 300 entries, 0 to 299\n",
      "Data columns (total 5 columns):\n",
      "Client ID                    300 non-null object\n",
      "Average Number of Tickets    300 non-null int64\n",
      "Number of Employees          300 non-null int64\n",
      "Value of Contract            300 non-null int64\n",
      "Industry                     300 non-null object\n",
      "dtypes: int64(3), object(2)\n",
      "memory usage: 11.8+ KB\n"
     ]
    }
   ],
   "source": [
    "data2 = pd.read_excel(\"linear-example-data.xlsx\")\n",
    "data2.info()"
   ]
  },
  {
   "cell_type": "code",
   "execution_count": 53,
   "metadata": {
    "collapsed": false
   },
   "outputs": [
    {
     "data": {
      "text/html": [
       "<div>\n",
       "<table border=\"1\" class=\"dataframe\">\n",
       "  <thead>\n",
       "    <tr style=\"text-align: right;\">\n",
       "      <th></th>\n",
       "      <th>Client ID</th>\n",
       "      <th>Average Number of Tickets</th>\n",
       "      <th>Number of Employees</th>\n",
       "      <th>Value of Contract</th>\n",
       "      <th>Industry</th>\n",
       "      <th>Manufacturing</th>\n",
       "      <th>Retail</th>\n",
       "      <th>Services</th>\n",
       "    </tr>\n",
       "  </thead>\n",
       "  <tbody>\n",
       "    <tr>\n",
       "      <th>0</th>\n",
       "      <td>TK669</td>\n",
       "      <td>90</td>\n",
       "      <td>561</td>\n",
       "      <td>200000</td>\n",
       "      <td>Retail</td>\n",
       "      <td>0</td>\n",
       "      <td>1</td>\n",
       "      <td>0</td>\n",
       "    </tr>\n",
       "    <tr>\n",
       "      <th>1</th>\n",
       "      <td>EY859</td>\n",
       "      <td>85</td>\n",
       "      <td>530</td>\n",
       "      <td>200000</td>\n",
       "      <td>Retail</td>\n",
       "      <td>0</td>\n",
       "      <td>1</td>\n",
       "      <td>0</td>\n",
       "    </tr>\n",
       "    <tr>\n",
       "      <th>2</th>\n",
       "      <td>TN571</td>\n",
       "      <td>5</td>\n",
       "      <td>82</td>\n",
       "      <td>25000</td>\n",
       "      <td>Manufacturing</td>\n",
       "      <td>1</td>\n",
       "      <td>0</td>\n",
       "      <td>0</td>\n",
       "    </tr>\n",
       "    <tr>\n",
       "      <th>3</th>\n",
       "      <td>LJ675</td>\n",
       "      <td>82</td>\n",
       "      <td>491</td>\n",
       "      <td>225000</td>\n",
       "      <td>Manufacturing</td>\n",
       "      <td>1</td>\n",
       "      <td>0</td>\n",
       "      <td>0</td>\n",
       "    </tr>\n",
       "    <tr>\n",
       "      <th>4</th>\n",
       "      <td>KH713</td>\n",
       "      <td>12</td>\n",
       "      <td>230</td>\n",
       "      <td>75000</td>\n",
       "      <td>Services</td>\n",
       "      <td>0</td>\n",
       "      <td>0</td>\n",
       "      <td>1</td>\n",
       "    </tr>\n",
       "  </tbody>\n",
       "</table>\n",
       "</div>"
      ],
      "text/plain": [
       "  Client ID  Average Number of Tickets  Number of Employees  \\\n",
       "0     TK669                         90                  561   \n",
       "1     EY859                         85                  530   \n",
       "2     TN571                          5                   82   \n",
       "3     LJ675                         82                  491   \n",
       "4     KH713                         12                  230   \n",
       "\n",
       "   Value of Contract       Industry  Manufacturing  Retail  Services  \n",
       "0             200000         Retail              0       1         0  \n",
       "1             200000         Retail              0       1         0  \n",
       "2              25000  Manufacturing              1       0         0  \n",
       "3             225000  Manufacturing              1       0         0  \n",
       "4              75000       Services              0       0         1  "
      ]
     },
     "execution_count": 53,
     "metadata": {},
     "output_type": "execute_result"
    }
   ],
   "source": [
    "dummies = pd.get_dummies(data2[\"Industry\"])\n",
    "data3 = pd.concat([data2, dummies], axis=1)\n",
    "data3.head()"
   ]
  },
  {
   "cell_type": "code",
   "execution_count": 54,
   "metadata": {
    "collapsed": true
   },
   "outputs": [],
   "source": [
    "y = data2[\"Average Number of Tickets\"]\n",
    "X = data3.drop([\"Average Number of Tickets\",\"Client ID\",\"Industry\"],axis=1)"
   ]
  },
  {
   "cell_type": "code",
   "execution_count": 56,
   "metadata": {
    "collapsed": false
   },
   "outputs": [
    {
     "name": "stdout",
     "output_type": "stream",
     "text": [
      "                                OLS Regression Results                               \n",
      "=====================================================================================\n",
      "Dep. Variable:     Average Number of Tickets   R-squared:                       0.585\n",
      "Model:                                   OLS   Adj. R-squared:                  0.579\n",
      "Method:                        Least Squares   F-statistic:                     104.0\n",
      "Date:                       Sat, 29 Apr 2017   Prob (F-statistic):           3.99e-55\n",
      "Time:                               18:36:59   Log-Likelihood:                -1418.7\n",
      "No. Observations:                        300   AIC:                             2847.\n",
      "Df Residuals:                            295   BIC:                             2866.\n",
      "Df Model:                                  4                                         \n",
      "Covariance Type:                   nonrobust                                         \n",
      "=======================================================================================\n",
      "                          coef    std err          t      P>|t|      [0.025      0.975]\n",
      "---------------------------------------------------------------------------------------\n",
      "const                  -7.6716      2.723     -2.817      0.005     -13.031      -2.312\n",
      "Number of Employees     0.0985      0.013      7.476      0.000       0.073       0.124\n",
      "Value of Contract    9.989e-05   4.49e-05      2.225      0.027    1.15e-05       0.000\n",
      "Manufacturing           9.2574      2.457      3.767      0.000       4.421      14.094\n",
      "Retail                -11.9779      2.175     -5.506      0.000     -16.259      -7.697\n",
      "Services               -4.9511      3.028     -1.635      0.103     -10.911       1.009\n",
      "==============================================================================\n",
      "Omnibus:                        3.916   Durbin-Watson:                   1.816\n",
      "Prob(Omnibus):                  0.141   Jarque-Bera (JB):                4.850\n",
      "Skew:                           0.002   Prob(JB):                       0.0885\n",
      "Kurtosis:                       3.623   Cond. No.                     7.10e+20\n",
      "==============================================================================\n",
      "\n",
      "Warnings:\n",
      "[1] Standard Errors assume that the covariance matrix of the errors is correctly specified.\n",
      "[2] The smallest eigenvalue is 1.51e-29. This might indicate that there are\n",
      "strong multicollinearity problems or that the design matrix is singular.\n"
     ]
    }
   ],
   "source": [
    "X2 = sm.add_constant(X)\n",
    "est = sm.OLS(y, X2)\n",
    "est2 = est.fit()\n",
    "print(est2.summary())"
   ]
  },
  {
   "cell_type": "code",
   "execution_count": null,
   "metadata": {
    "collapsed": true
   },
   "outputs": [],
   "source": []
  }
 ],
 "metadata": {
  "anaconda-cloud": {},
  "kernelspec": {
   "display_name": "Python [conda env:py3]",
   "language": "python",
   "name": "conda-env-py3-py"
  },
  "language_info": {
   "codemirror_mode": {
    "name": "ipython",
    "version": 3
   },
   "file_extension": ".py",
   "mimetype": "text/x-python",
   "name": "python",
   "nbconvert_exporter": "python",
   "pygments_lexer": "ipython3",
   "version": "3.6.0"
  }
 },
 "nbformat": 4,
 "nbformat_minor": 2
}
