{
 "cells": [
  {
   "cell_type": "markdown",
   "metadata": {},
   "source": [
    "## Step 1: Business and Data Understanding\n",
    "\n",
    "### 1. What decisions needs to be made?\n",
    "\n",
    "Ans: Perform an analysis to recommend the city for Pawdacity’s newest store, based on predicted yearly sales. But this project is just to get the data ready before the prediction.\n",
    "\n",
    "### 2. What data is needed to inform those decisions?\n",
    "\n",
    "Ans: The manager gives 4 csv files with the following info:\n",
    "1. monthly sales for all Pawdacity stores in 2010\n",
    "2. NAICS(North American Industry Classification System) data of competitors\n",
    "3. partially parsed data for population\n",
    "4. demographic data in wyoming"
   ]
  },
  {
   "cell_type": "markdown",
   "metadata": {},
   "source": [
    "## Step 2: Building the Training Set\n",
    "| **Column**               | Sum       | Mean    | median  |\n",
    "| ------------------------ | --------- | ------- | ------- |\n",
    "| Census Population        | 213,862   | 19,442  | 12,359  |\n",
    "| Total Pawdacity Sales    | 3,773,304 | 290,254 | 273,024 |\n",
    "| Households with Under 18 | 34,064    | 3096.73 | 2646.0  |\n",
    "| Land Area                | 33,071    | 3006.49 | 2748.85 |\n",
    "| Population Density       | 63        | 5.71    | 2.78    |\n",
    "| Total Families           | 62,653    | 5695.71 | 5556.49 |\n",
    "\n",
    "The calucation details are as follows"
   ]
  },
  {
   "cell_type": "code",
   "execution_count": 1,
   "metadata": {
    "collapsed": true
   },
   "outputs": [],
   "source": [
    "import pandas as pd\n",
    "import matplotlib.pyplot as plt\n",
    "import seaborn as sns\n",
    "% matplotlib inline\n",
    "store = pd.read_csv(\"p2-2010-pawdacity-monthly-sales.csv\")\n",
    "nakes = pd.read_csv(\"p2-wy-453910-naics-data.csv\")\n",
    "popul = pd.read_csv(\"p2-partially-parsed-wy-web-scrape.csv\")\n",
    "demog = pd.read_csv(\"p2-wy-demographic-data.csv\")"
   ]
  },
  {
   "cell_type": "markdown",
   "metadata": {},
   "source": [
    "### calculate total Pawdacity sales and collect city names"
   ]
  },
  {
   "cell_type": "code",
   "execution_count": 2,
   "metadata": {
    "collapsed": false
   },
   "outputs": [
    {
     "name": "stdout",
     "output_type": "stream",
     "text": [
      "3773304\n",
      "273024.0\n"
     ]
    }
   ],
   "source": [
    "print(store.iloc[:,5:].sum(axis=1).sum())  # 3773304\n",
    "print(store.iloc[:,5:].sum(axis=1).median()) #  290254"
   ]
  },
  {
   "cell_type": "code",
   "execution_count": 3,
   "metadata": {
    "collapsed": false
   },
   "outputs": [
    {
     "data": {
      "text/html": [
       "<div>\n",
       "<table border=\"1\" class=\"dataframe\">\n",
       "  <thead>\n",
       "    <tr style=\"text-align: right;\">\n",
       "      <th></th>\n",
       "      <th>NAME</th>\n",
       "      <th>ADDRESS</th>\n",
       "      <th>CITY</th>\n",
       "      <th>STATE</th>\n",
       "      <th>ZIP</th>\n",
       "      <th>January</th>\n",
       "      <th>February</th>\n",
       "      <th>March</th>\n",
       "      <th>April</th>\n",
       "      <th>May</th>\n",
       "      <th>June</th>\n",
       "      <th>July</th>\n",
       "      <th>August</th>\n",
       "      <th>September</th>\n",
       "      <th>October</th>\n",
       "      <th>November</th>\n",
       "      <th>December</th>\n",
       "    </tr>\n",
       "  </thead>\n",
       "  <tbody>\n",
       "    <tr>\n",
       "      <th>0</th>\n",
       "      <td>Pawdacity</td>\n",
       "      <td>509 Fort St # A</td>\n",
       "      <td>Buffalo</td>\n",
       "      <td>WY</td>\n",
       "      <td>82834</td>\n",
       "      <td>16200</td>\n",
       "      <td>13392</td>\n",
       "      <td>14688</td>\n",
       "      <td>17064</td>\n",
       "      <td>18360</td>\n",
       "      <td>14040</td>\n",
       "      <td>12960</td>\n",
       "      <td>19224</td>\n",
       "      <td>15984</td>\n",
       "      <td>13392</td>\n",
       "      <td>13176</td>\n",
       "      <td>16848</td>\n",
       "    </tr>\n",
       "    <tr>\n",
       "      <th>1</th>\n",
       "      <td>Pawdacity</td>\n",
       "      <td>601 SE Wyoming Blvd Unit 252</td>\n",
       "      <td>Casper</td>\n",
       "      <td>WY</td>\n",
       "      <td>82609</td>\n",
       "      <td>29160</td>\n",
       "      <td>21600</td>\n",
       "      <td>27000</td>\n",
       "      <td>27648</td>\n",
       "      <td>29160</td>\n",
       "      <td>27216</td>\n",
       "      <td>25488</td>\n",
       "      <td>25704</td>\n",
       "      <td>22896</td>\n",
       "      <td>25272</td>\n",
       "      <td>28944</td>\n",
       "      <td>27648</td>\n",
       "    </tr>\n",
       "    <tr>\n",
       "      <th>2</th>\n",
       "      <td>Pawdacity</td>\n",
       "      <td>1400 Dell Range Blvd</td>\n",
       "      <td>Cheyenne</td>\n",
       "      <td>WY</td>\n",
       "      <td>82009</td>\n",
       "      <td>47520</td>\n",
       "      <td>44280</td>\n",
       "      <td>47088</td>\n",
       "      <td>46656</td>\n",
       "      <td>43200</td>\n",
       "      <td>45144</td>\n",
       "      <td>44064</td>\n",
       "      <td>45360</td>\n",
       "      <td>47736</td>\n",
       "      <td>42984</td>\n",
       "      <td>44712</td>\n",
       "      <td>47304</td>\n",
       "    </tr>\n",
       "    <tr>\n",
       "      <th>3</th>\n",
       "      <td>Pawdacity</td>\n",
       "      <td>3769 E Lincolnway</td>\n",
       "      <td>Cheyenne</td>\n",
       "      <td>WY</td>\n",
       "      <td>82001</td>\n",
       "      <td>32400</td>\n",
       "      <td>26352</td>\n",
       "      <td>31968</td>\n",
       "      <td>30888</td>\n",
       "      <td>30456</td>\n",
       "      <td>32832</td>\n",
       "      <td>29808</td>\n",
       "      <td>32184</td>\n",
       "      <td>30780</td>\n",
       "      <td>31536</td>\n",
       "      <td>30024</td>\n",
       "      <td>32616</td>\n",
       "    </tr>\n",
       "    <tr>\n",
       "      <th>4</th>\n",
       "      <td>Pawdacity</td>\n",
       "      <td>2625 Big Horn Ave</td>\n",
       "      <td>Cody</td>\n",
       "      <td>WY</td>\n",
       "      <td>82414</td>\n",
       "      <td>19440</td>\n",
       "      <td>15984</td>\n",
       "      <td>19008</td>\n",
       "      <td>18144</td>\n",
       "      <td>16632</td>\n",
       "      <td>17496</td>\n",
       "      <td>18792</td>\n",
       "      <td>20304</td>\n",
       "      <td>19224</td>\n",
       "      <td>18144</td>\n",
       "      <td>18576</td>\n",
       "      <td>16632</td>\n",
       "    </tr>\n",
       "  </tbody>\n",
       "</table>\n",
       "</div>"
      ],
      "text/plain": [
       "        NAME                       ADDRESS      CITY STATE    ZIP  January  \\\n",
       "0  Pawdacity               509 Fort St # A   Buffalo    WY  82834    16200   \n",
       "1  Pawdacity  601 SE Wyoming Blvd Unit 252    Casper    WY  82609    29160   \n",
       "2  Pawdacity          1400 Dell Range Blvd  Cheyenne    WY  82009    47520   \n",
       "3  Pawdacity             3769 E Lincolnway  Cheyenne    WY  82001    32400   \n",
       "4  Pawdacity             2625 Big Horn Ave      Cody    WY  82414    19440   \n",
       "\n",
       "   February  March  April    May   June   July  August   September  October  \\\n",
       "0     13392  14688  17064  18360  14040  12960    19224      15984    13392   \n",
       "1     21600  27000  27648  29160  27216  25488    25704      22896    25272   \n",
       "2     44280  47088  46656  43200  45144  44064    45360      47736    42984   \n",
       "3     26352  31968  30888  30456  32832  29808    32184      30780    31536   \n",
       "4     15984  19008  18144  16632  17496  18792    20304      19224    18144   \n",
       "\n",
       "   November  December  \n",
       "0     13176     16848  \n",
       "1     28944     27648  \n",
       "2     44712     47304  \n",
       "3     30024     32616  \n",
       "4     18576     16632  "
      ]
     },
     "execution_count": 3,
     "metadata": {},
     "output_type": "execute_result"
    }
   ],
   "source": [
    "store.head()"
   ]
  },
  {
   "cell_type": "code",
   "execution_count": 4,
   "metadata": {
    "collapsed": false
   },
   "outputs": [
    {
     "data": {
      "text/plain": [
       "<matplotlib.text.Text at 0x10e5a4f28>"
      ]
     },
     "execution_count": 4,
     "metadata": {},
     "output_type": "execute_result"
    },
    {
     "data": {
      "image/png": "[encoded data removed]",
      "text/plain": [
       "<matplotlib.figure.Figure at 0x102b66cf8>"
      ]
     },
     "metadata": {},
     "output_type": "display_data"
    }
   ],
   "source": [
    "plt.plot(store[store.columns[5:]],'o')\n",
    "plt.xlabel(\"Store number\",fontsize=20)\n",
    "plt.ylabel(\"Monthly sale\",fontsize=20)"
   ]
  },
  {
   "cell_type": "code",
   "execution_count": 5,
   "metadata": {
    "collapsed": false
   },
   "outputs": [
    {
     "name": "stdout",
     "output_type": "stream",
     "text": [
      "<class 'pandas.core.frame.DataFrame'>\n",
      "RangeIndex: 13 entries, 0 to 12\n",
      "Data columns (total 17 columns):\n",
      "NAME         13 non-null object\n",
      "ADDRESS      13 non-null object\n",
      "CITY         13 non-null object\n",
      "STATE        13 non-null object\n",
      "ZIP          13 non-null int64\n",
      "January      13 non-null int64\n",
      "February     13 non-null int64\n",
      "March        13 non-null int64\n",
      "April        13 non-null int64\n",
      "May          13 non-null int64\n",
      "June         13 non-null int64\n",
      "July         13 non-null int64\n",
      "August       13 non-null int64\n",
      "September    13 non-null int64\n",
      "October      13 non-null int64\n",
      "November     13 non-null int64\n",
      "December     13 non-null int64\n",
      "dtypes: int64(13), object(4)\n",
      "memory usage: 1.8+ KB\n"
     ]
    }
   ],
   "source": [
    "store.info()"
   ]
  },
  {
   "cell_type": "code",
   "execution_count": 6,
   "metadata": {
    "collapsed": false
   },
   "outputs": [
    {
     "data": {
      "text/plain": [
       "Gillette        2\n",
       "Cheyenne        2\n",
       "Evanston        1\n",
       "Casper          1\n",
       "Douglas         1\n",
       "Powell          1\n",
       "Rock Springs    1\n",
       "Sheridan        1\n",
       "Riverton        1\n",
       "Cody            1\n",
       "Buffalo         1\n",
       "Name: CITY, dtype: int64"
      ]
     },
     "execution_count": 6,
     "metadata": {},
     "output_type": "execute_result"
    }
   ],
   "source": [
    "store[\"CITY\"].value_counts()"
   ]
  },
  {
   "cell_type": "code",
   "execution_count": 7,
   "metadata": {
    "collapsed": false
   },
   "outputs": [],
   "source": [
    "cities = store[\"CITY\"].unique()  # nump array of shape 11"
   ]
  },
  {
   "cell_type": "markdown",
   "metadata": {},
   "source": [
    "### calculate census population"
   ]
  },
  {
   "cell_type": "code",
   "execution_count": 8,
   "metadata": {
    "collapsed": false
   },
   "outputs": [],
   "source": [
    "popul.dropna(axis=0, how='any', thresh=None, subset=None, inplace=True)"
   ]
  },
  {
   "cell_type": "code",
   "execution_count": 9,
   "metadata": {
    "collapsed": false
   },
   "outputs": [],
   "source": [
    "popul['Pawdacity'] = False"
   ]
  },
  {
   "cell_type": "code",
   "execution_count": 10,
   "metadata": {
    "collapsed": false
   },
   "outputs": [
    {
     "data": {
      "text/html": [
       "<div>\n",
       "<table border=\"1\" class=\"dataframe\">\n",
       "  <thead>\n",
       "    <tr style=\"text-align: right;\">\n",
       "      <th></th>\n",
       "      <th>City|County</th>\n",
       "      <th>2014 Estimate</th>\n",
       "      <th>2010 Census</th>\n",
       "      <th>2000 Census</th>\n",
       "      <th>Pawdacity</th>\n",
       "    </tr>\n",
       "  </thead>\n",
       "  <tbody>\n",
       "    <tr>\n",
       "      <th>94</th>\n",
       "      <td>Wamsutter|Sweetwater</td>\n",
       "      <td>&lt;td&gt;503&lt;/td&gt;</td>\n",
       "      <td>&lt;td&gt;451&lt;/td&gt;</td>\n",
       "      <td>&lt;td&gt;261&lt;/td&gt;</td>\n",
       "      <td>False</td>\n",
       "    </tr>\n",
       "    <tr>\n",
       "      <th>95</th>\n",
       "      <td>Wheatland ?|Platte</td>\n",
       "      <td>&lt;td&gt;3,659&lt;/td&gt;</td>\n",
       "      <td>&lt;td&gt;3,627&lt;/td&gt;</td>\n",
       "      <td>&lt;td&gt;3,548&lt;/td&gt;</td>\n",
       "      <td>False</td>\n",
       "    </tr>\n",
       "    <tr>\n",
       "      <th>96</th>\n",
       "      <td>Worland ?|Washakie</td>\n",
       "      <td>&lt;td&gt;5,366&lt;/td&gt;</td>\n",
       "      <td>&lt;td&gt;5,487&lt;/td&gt;</td>\n",
       "      <td>&lt;td&gt;5,250&lt;/td&gt;</td>\n",
       "      <td>False</td>\n",
       "    </tr>\n",
       "    <tr>\n",
       "      <th>97</th>\n",
       "      <td>Wright|Campbell</td>\n",
       "      <td>&lt;td&gt;1,847&lt;/td&gt;</td>\n",
       "      <td>&lt;td&gt;1,807&lt;/td&gt;</td>\n",
       "      <td>&lt;td&gt;1,347&lt;/td&gt;</td>\n",
       "      <td>False</td>\n",
       "    </tr>\n",
       "    <tr>\n",
       "      <th>98</th>\n",
       "      <td>Yoder|Goshen</td>\n",
       "      <td>&lt;td&gt;161&lt;/td&gt;</td>\n",
       "      <td>&lt;td&gt;151&lt;/td&gt;</td>\n",
       "      <td>&lt;td&gt;169&lt;/td&gt;</td>\n",
       "      <td>False</td>\n",
       "    </tr>\n",
       "  </tbody>\n",
       "</table>\n",
       "</div>"
      ],
      "text/plain": [
       "             City|County   2014 Estimate     2010 Census     2000 Census  \\\n",
       "94  Wamsutter|Sweetwater    <td>503</td>    <td>451</td>    <td>261</td>   \n",
       "95    Wheatland ?|Platte  <td>3,659</td>  <td>3,627</td>  <td>3,548</td>   \n",
       "96    Worland ?|Washakie  <td>5,366</td>  <td>5,487</td>  <td>5,250</td>   \n",
       "97       Wright|Campbell  <td>1,847</td>  <td>1,807</td>  <td>1,347</td>   \n",
       "98          Yoder|Goshen    <td>161</td>    <td>151</td>    <td>169</td>   \n",
       "\n",
       "   Pawdacity  \n",
       "94     False  \n",
       "95     False  \n",
       "96     False  \n",
       "97     False  \n",
       "98     False  "
      ]
     },
     "execution_count": 10,
     "metadata": {},
     "output_type": "execute_result"
    }
   ],
   "source": [
    "popul.tail()"
   ]
  },
  {
   "cell_type": "code",
   "execution_count": 11,
   "metadata": {
    "collapsed": false
   },
   "outputs": [
    {
     "name": "stdout",
     "output_type": "stream",
     "text": [
      "found 11 cities with Pawdacity\n"
     ]
    }
   ],
   "source": [
    "import re\n",
    "s=\"|\".join(cities)\n",
    "s=\"^(\"+s+\")\"\n",
    "pool = re.compile(s)\n",
    "\n",
    "from bs4 import BeautifulSoup\n",
    "def parsenum(text):\n",
    "    if str(text).isnumeric():\n",
    "        return text\n",
    "    soup = BeautifulSoup(text,'html.parser')\n",
    "    num =\"\"\n",
    "    for digit in soup.find(\"td\").text:\n",
    "        if digit.isnumeric():\n",
    "            num += digit\n",
    "        if digit ==\"[\":\n",
    "            break\n",
    "    if num.isnumeric():    \n",
    "        return int(num)\n",
    "    else:\n",
    "        return 0\n",
    "cnt = 0\n",
    "for i in range(popul.shape[0]):\n",
    "    row = popul.iloc[i,:]\n",
    "    popul.set_value(i,\"2014 Estimate\",parsenum(row[\"2014 Estimate\"]))\n",
    "    popul.set_value(i,\"2010 Census\",parsenum(row[\"2010 Census\"]))\n",
    "    popul.set_value(i,\"2000 Census\",parsenum(row[\"2000 Census\"]))\n",
    "    if  pool.search(row[\"City|County\"]):\n",
    "        popul.set_value(i,\"Pawdacity\",True)  # set value to True when found\n",
    "        cnt +=1\n",
    "print(\"found {} cities with Pawdacity\".format(cnt))"
   ]
  },
  {
   "cell_type": "code",
   "execution_count": 12,
   "metadata": {
    "collapsed": false
   },
   "outputs": [],
   "source": [
    "popul.iloc[:,1:-1]=popul.iloc[:,1:-1].astype(int)"
   ]
  },
  {
   "cell_type": "code",
   "execution_count": 13,
   "metadata": {
    "collapsed": false
   },
   "outputs": [
    {
     "data": {
      "text/html": [
       "<div>\n",
       "<table border=\"1\" class=\"dataframe\">\n",
       "  <thead>\n",
       "    <tr style=\"text-align: right;\">\n",
       "      <th></th>\n",
       "      <th>City|County</th>\n",
       "      <th>2014 Estimate</th>\n",
       "      <th>2010 Census</th>\n",
       "      <th>2000 Census</th>\n",
       "      <th>Pawdacity</th>\n",
       "    </tr>\n",
       "  </thead>\n",
       "  <tbody>\n",
       "    <tr>\n",
       "      <th>9</th>\n",
       "      <td>Buffalo ?|Johnson</td>\n",
       "      <td>4615</td>\n",
       "      <td>4585</td>\n",
       "      <td>3900</td>\n",
       "      <td>True</td>\n",
       "    </tr>\n",
       "    <tr>\n",
       "      <th>13</th>\n",
       "      <td>Casper ?|Natrona</td>\n",
       "      <td>40086</td>\n",
       "      <td>35316</td>\n",
       "      <td>32644</td>\n",
       "      <td>True</td>\n",
       "    </tr>\n",
       "    <tr>\n",
       "      <th>14</th>\n",
       "      <td>Cheyenne ??|Laramie</td>\n",
       "      <td>62845</td>\n",
       "      <td>59466</td>\n",
       "      <td>53011</td>\n",
       "      <td>True</td>\n",
       "    </tr>\n",
       "    <tr>\n",
       "      <th>17</th>\n",
       "      <td>Cody ?|Park</td>\n",
       "      <td>9740</td>\n",
       "      <td>9520</td>\n",
       "      <td>8835</td>\n",
       "      <td>True</td>\n",
       "    </tr>\n",
       "    <tr>\n",
       "      <th>24</th>\n",
       "      <td>Douglas ?|Converse</td>\n",
       "      <td>6423</td>\n",
       "      <td>6120</td>\n",
       "      <td>5288</td>\n",
       "      <td>True</td>\n",
       "    </tr>\n",
       "    <tr>\n",
       "      <th>29</th>\n",
       "      <td>Evanston ?|Uinta</td>\n",
       "      <td>12190</td>\n",
       "      <td>12359</td>\n",
       "      <td>11507</td>\n",
       "      <td>True</td>\n",
       "    </tr>\n",
       "    <tr>\n",
       "      <th>33</th>\n",
       "      <td>Gillette ?|Campbell</td>\n",
       "      <td>31971</td>\n",
       "      <td>29087</td>\n",
       "      <td>19646</td>\n",
       "      <td>True</td>\n",
       "    </tr>\n",
       "    <tr>\n",
       "      <th>73</th>\n",
       "      <td>Powell|Park</td>\n",
       "      <td>6407</td>\n",
       "      <td>6314</td>\n",
       "      <td>5373</td>\n",
       "      <td>True</td>\n",
       "    </tr>\n",
       "    <tr>\n",
       "      <th>77</th>\n",
       "      <td>Riverton|Fremont</td>\n",
       "      <td>10953</td>\n",
       "      <td>10615</td>\n",
       "      <td>9310</td>\n",
       "      <td>True</td>\n",
       "    </tr>\n",
       "    <tr>\n",
       "      <th>79</th>\n",
       "      <td>Rock Springs|Sweetwater</td>\n",
       "      <td>24045</td>\n",
       "      <td>23036</td>\n",
       "      <td>18708</td>\n",
       "      <td>True</td>\n",
       "    </tr>\n",
       "    <tr>\n",
       "      <th>82</th>\n",
       "      <td>Sheridan ?|Sheridan</td>\n",
       "      <td>17916</td>\n",
       "      <td>17444</td>\n",
       "      <td>15804</td>\n",
       "      <td>True</td>\n",
       "    </tr>\n",
       "  </tbody>\n",
       "</table>\n",
       "</div>"
      ],
      "text/plain": [
       "                City|County  2014 Estimate  2010 Census  2000 Census Pawdacity\n",
       "9         Buffalo ?|Johnson           4615         4585         3900      True\n",
       "13         Casper ?|Natrona          40086        35316        32644      True\n",
       "14      Cheyenne ??|Laramie          62845        59466        53011      True\n",
       "17              Cody ?|Park           9740         9520         8835      True\n",
       "24       Douglas ?|Converse           6423         6120         5288      True\n",
       "29         Evanston ?|Uinta          12190        12359        11507      True\n",
       "33      Gillette ?|Campbell          31971        29087        19646      True\n",
       "73              Powell|Park           6407         6314         5373      True\n",
       "77         Riverton|Fremont          10953        10615         9310      True\n",
       "79  Rock Springs|Sweetwater          24045        23036        18708      True\n",
       "82      Sheridan ?|Sheridan          17916        17444        15804      True"
      ]
     },
     "execution_count": 13,
     "metadata": {},
     "output_type": "execute_result"
    }
   ],
   "source": [
    "popul[popul[\"Pawdacity\"] == True]"
   ]
  },
  {
   "cell_type": "code",
   "execution_count": 14,
   "metadata": {
    "collapsed": false
   },
   "outputs": [
    {
     "data": {
      "text/html": [
       "<div>\n",
       "<table border=\"1\" class=\"dataframe\">\n",
       "  <thead>\n",
       "    <tr style=\"text-align: right;\">\n",
       "      <th></th>\n",
       "      <th>2014 Estimate</th>\n",
       "      <th>2010 Census</th>\n",
       "      <th>2000 Census</th>\n",
       "    </tr>\n",
       "    <tr>\n",
       "      <th>Pawdacity</th>\n",
       "      <th></th>\n",
       "      <th></th>\n",
       "      <th></th>\n",
       "    </tr>\n",
       "  </thead>\n",
       "  <tbody>\n",
       "    <tr>\n",
       "      <th>False</th>\n",
       "      <td>529.5</td>\n",
       "      <td>526.5</td>\n",
       "      <td>446.0</td>\n",
       "    </tr>\n",
       "    <tr>\n",
       "      <th>True</th>\n",
       "      <td>12190.0</td>\n",
       "      <td>12359.0</td>\n",
       "      <td>11507.0</td>\n",
       "    </tr>\n",
       "  </tbody>\n",
       "</table>\n",
       "</div>"
      ],
      "text/plain": [
       "           2014 Estimate  2010 Census  2000 Census\n",
       "Pawdacity                                         \n",
       "False              529.5        526.5        446.0\n",
       "True             12190.0      12359.0      11507.0"
      ]
     },
     "execution_count": 14,
     "metadata": {},
     "output_type": "execute_result"
    }
   ],
   "source": [
    "popul.groupby(\"Pawdacity\").median()"
   ]
  },
  {
   "cell_type": "markdown",
   "metadata": {},
   "source": [
    "### calcualte demographic info"
   ]
  },
  {
   "cell_type": "code",
   "execution_count": 15,
   "metadata": {
    "collapsed": false
   },
   "outputs": [],
   "source": [
    "demog['Pawdacity']= False\n",
    "for i in range(demog.shape[0]):\n",
    "    if pool.search(demog.iloc[i,:][\"City\"]):\n",
    "        demog.set_value(i,\"Pawdacity\",True)"
   ]
  },
  {
   "cell_type": "code",
   "execution_count": 16,
   "metadata": {
    "collapsed": false
   },
   "outputs": [
    {
     "data": {
      "text/html": [
       "<div>\n",
       "<table border=\"1\" class=\"dataframe\">\n",
       "  <thead>\n",
       "    <tr style=\"text-align: right;\">\n",
       "      <th></th>\n",
       "      <th>Land Area</th>\n",
       "      <th>Households with Under 18</th>\n",
       "      <th>Population Density</th>\n",
       "      <th>Total Families</th>\n",
       "    </tr>\n",
       "    <tr>\n",
       "      <th>Pawdacity</th>\n",
       "      <th></th>\n",
       "      <th></th>\n",
       "      <th></th>\n",
       "      <th></th>\n",
       "    </tr>\n",
       "  </thead>\n",
       "  <tbody>\n",
       "    <tr>\n",
       "      <th>False</th>\n",
       "      <td>218.720727</td>\n",
       "      <td>124.5</td>\n",
       "      <td>0.285</td>\n",
       "      <td>274.735</td>\n",
       "    </tr>\n",
       "    <tr>\n",
       "      <th>True</th>\n",
       "      <td>2748.852900</td>\n",
       "      <td>2646.0</td>\n",
       "      <td>2.780</td>\n",
       "      <td>5556.490</td>\n",
       "    </tr>\n",
       "  </tbody>\n",
       "</table>\n",
       "</div>"
      ],
      "text/plain": [
       "             Land Area  Households with Under 18  Population Density  \\\n",
       "Pawdacity                                                              \n",
       "False       218.720727                     124.5               0.285   \n",
       "True       2748.852900                    2646.0               2.780   \n",
       "\n",
       "           Total Families  \n",
       "Pawdacity                  \n",
       "False             274.735  \n",
       "True             5556.490  "
      ]
     },
     "execution_count": 16,
     "metadata": {},
     "output_type": "execute_result"
    }
   ],
   "source": [
    "demog.groupby(\"Pawdacity\").median()"
   ]
  },
  {
   "cell_type": "code",
   "execution_count": 17,
   "metadata": {
    "collapsed": false
   },
   "outputs": [
    {
     "data": {
      "text/html": [
       "<div>\n",
       "<table border=\"1\" class=\"dataframe\">\n",
       "  <thead>\n",
       "    <tr style=\"text-align: right;\">\n",
       "      <th></th>\n",
       "      <th>City</th>\n",
       "      <th>County</th>\n",
       "      <th>Land Area</th>\n",
       "      <th>Households with Under 18</th>\n",
       "      <th>Population Density</th>\n",
       "      <th>Total Families</th>\n",
       "      <th>Pawdacity</th>\n",
       "    </tr>\n",
       "  </thead>\n",
       "  <tbody>\n",
       "    <tr>\n",
       "      <th>10</th>\n",
       "      <td>Gillette</td>\n",
       "      <td>Campbell</td>\n",
       "      <td>2748.852900</td>\n",
       "      <td>4052</td>\n",
       "      <td>5.80</td>\n",
       "      <td>7189.43</td>\n",
       "      <td>True</td>\n",
       "    </tr>\n",
       "    <tr>\n",
       "      <th>22</th>\n",
       "      <td>Douglas</td>\n",
       "      <td>Converse</td>\n",
       "      <td>1829.465100</td>\n",
       "      <td>832</td>\n",
       "      <td>1.46</td>\n",
       "      <td>1744.08</td>\n",
       "      <td>True</td>\n",
       "    </tr>\n",
       "    <tr>\n",
       "      <th>34</th>\n",
       "      <td>Riverton</td>\n",
       "      <td>Fremont</td>\n",
       "      <td>4796.859815</td>\n",
       "      <td>2680</td>\n",
       "      <td>2.34</td>\n",
       "      <td>5556.49</td>\n",
       "      <td>True</td>\n",
       "    </tr>\n",
       "    <tr>\n",
       "      <th>44</th>\n",
       "      <td>Buffalo</td>\n",
       "      <td>Johnson</td>\n",
       "      <td>3115.507500</td>\n",
       "      <td>746</td>\n",
       "      <td>1.55</td>\n",
       "      <td>1819.50</td>\n",
       "      <td>True</td>\n",
       "    </tr>\n",
       "    <tr>\n",
       "      <th>48</th>\n",
       "      <td>Cheyenne</td>\n",
       "      <td>Laramie</td>\n",
       "      <td>1500.178400</td>\n",
       "      <td>7158</td>\n",
       "      <td>20.34</td>\n",
       "      <td>14612.64</td>\n",
       "      <td>True</td>\n",
       "    </tr>\n",
       "    <tr>\n",
       "      <th>60</th>\n",
       "      <td>Casper</td>\n",
       "      <td>Natrona</td>\n",
       "      <td>3894.309100</td>\n",
       "      <td>7788</td>\n",
       "      <td>11.16</td>\n",
       "      <td>8756.32</td>\n",
       "      <td>True</td>\n",
       "    </tr>\n",
       "    <tr>\n",
       "      <th>68</th>\n",
       "      <td>Cody</td>\n",
       "      <td>Park</td>\n",
       "      <td>2998.956960</td>\n",
       "      <td>1403</td>\n",
       "      <td>1.82</td>\n",
       "      <td>3515.62</td>\n",
       "      <td>True</td>\n",
       "    </tr>\n",
       "    <tr>\n",
       "      <th>71</th>\n",
       "      <td>Powell</td>\n",
       "      <td>Park</td>\n",
       "      <td>2673.574550</td>\n",
       "      <td>1251</td>\n",
       "      <td>1.62</td>\n",
       "      <td>3134.18</td>\n",
       "      <td>True</td>\n",
       "    </tr>\n",
       "    <tr>\n",
       "      <th>80</th>\n",
       "      <td>Sheridan</td>\n",
       "      <td>Sheridan</td>\n",
       "      <td>1893.977048</td>\n",
       "      <td>2646</td>\n",
       "      <td>8.98</td>\n",
       "      <td>6039.71</td>\n",
       "      <td>True</td>\n",
       "    </tr>\n",
       "    <tr>\n",
       "      <th>87</th>\n",
       "      <td>Rock Springs</td>\n",
       "      <td>Sweetwater</td>\n",
       "      <td>6620.201916</td>\n",
       "      <td>4022</td>\n",
       "      <td>2.78</td>\n",
       "      <td>7572.18</td>\n",
       "      <td>True</td>\n",
       "    </tr>\n",
       "    <tr>\n",
       "      <th>92</th>\n",
       "      <td>Evanston</td>\n",
       "      <td>Uinta</td>\n",
       "      <td>999.497100</td>\n",
       "      <td>1486</td>\n",
       "      <td>4.95</td>\n",
       "      <td>2712.64</td>\n",
       "      <td>True</td>\n",
       "    </tr>\n",
       "  </tbody>\n",
       "</table>\n",
       "</div>"
      ],
      "text/plain": [
       "            City      County    Land Area  Households with Under 18  \\\n",
       "10      Gillette    Campbell  2748.852900                      4052   \n",
       "22       Douglas    Converse  1829.465100                       832   \n",
       "34      Riverton     Fremont  4796.859815                      2680   \n",
       "44       Buffalo     Johnson  3115.507500                       746   \n",
       "48      Cheyenne     Laramie  1500.178400                      7158   \n",
       "60        Casper     Natrona  3894.309100                      7788   \n",
       "68          Cody        Park  2998.956960                      1403   \n",
       "71        Powell        Park  2673.574550                      1251   \n",
       "80      Sheridan    Sheridan  1893.977048                      2646   \n",
       "87  Rock Springs  Sweetwater  6620.201916                      4022   \n",
       "92      Evanston       Uinta   999.497100                      1486   \n",
       "\n",
       "    Population Density  Total Families Pawdacity  \n",
       "10                5.80         7189.43      True  \n",
       "22                1.46         1744.08      True  \n",
       "34                2.34         5556.49      True  \n",
       "44                1.55         1819.50      True  \n",
       "48               20.34        14612.64      True  \n",
       "60               11.16         8756.32      True  \n",
       "68                1.82         3515.62      True  \n",
       "71                1.62         3134.18      True  \n",
       "80                8.98         6039.71      True  \n",
       "87                2.78         7572.18      True  \n",
       "92                4.95         2712.64      True  "
      ]
     },
     "execution_count": 17,
     "metadata": {},
     "output_type": "execute_result"
    }
   ],
   "source": [
    "demog[demog['Pawdacity']]"
   ]
  },
  {
   "cell_type": "markdown",
   "metadata": {},
   "source": [
    "## Step 3: Dealing with Outliers\n",
    "### Are there any cities that are outliers in the training set? Which outlier have you chosen to remove or impute? \n",
    "\n",
    "Ans: As shown in the following table and boxplot, the top outlier is the City \"Cheyenne\", whose **\"Total Families\"** eight time of the average. The next outlier will be \"Casper\". \n",
    "\n",
    "** 2nd reviewer**: We should find one outlier for multiple variables (Cheyenne), and two other outliers which will be flagged for less variables.\n",
    "One of these outliers will be a typo, and the other is really an outlier.\n",
    "\n",
    "** My response:**  \n",
    "I will insist my answer. I guess the reviewer will want \"Rock Spring\" as a outlier because its \"Land Area\" is the largest. But it really depends what are the predictor variables. I think \"Total Families\" and \"Households with Under 18\" weights much more than land. \n",
    "\n",
    "In additon, I don't find any typo in my mining data from \"p2-partially-parsed-wy-web-scrape.csv\"\n"
   ]
  },
  {
   "cell_type": "code",
   "execution_count": 18,
   "metadata": {
    "collapsed": false
   },
   "outputs": [
    {
     "data": {
      "text/html": [
       "<div>\n",
       "<table border=\"1\" class=\"dataframe\">\n",
       "  <thead>\n",
       "    <tr style=\"text-align: right;\">\n",
       "      <th></th>\n",
       "      <th>City</th>\n",
       "      <th>County</th>\n",
       "      <th>Land Area</th>\n",
       "      <th>Households with Under 18</th>\n",
       "      <th>Population Density</th>\n",
       "      <th>Total Families</th>\n",
       "      <th>Pawdacity</th>\n",
       "    </tr>\n",
       "  </thead>\n",
       "  <tbody>\n",
       "    <tr>\n",
       "      <th>18</th>\n",
       "      <td>Rawlins</td>\n",
       "      <td>Carbon</td>\n",
       "      <td>5322.661628</td>\n",
       "      <td>1307</td>\n",
       "      <td>1.32</td>\n",
       "      <td>2722.43</td>\n",
       "      <td>False</td>\n",
       "    </tr>\n",
       "    <tr>\n",
       "      <th>48</th>\n",
       "      <td>Cheyenne</td>\n",
       "      <td>Laramie</td>\n",
       "      <td>1500.178400</td>\n",
       "      <td>7158</td>\n",
       "      <td>20.34</td>\n",
       "      <td>14612.64</td>\n",
       "      <td>True</td>\n",
       "    </tr>\n",
       "    <tr>\n",
       "      <th>60</th>\n",
       "      <td>Casper</td>\n",
       "      <td>Natrona</td>\n",
       "      <td>3894.309100</td>\n",
       "      <td>7788</td>\n",
       "      <td>11.16</td>\n",
       "      <td>8756.32</td>\n",
       "      <td>True</td>\n",
       "    </tr>\n",
       "    <tr>\n",
       "      <th>87</th>\n",
       "      <td>Rock Springs</td>\n",
       "      <td>Sweetwater</td>\n",
       "      <td>6620.201916</td>\n",
       "      <td>4022</td>\n",
       "      <td>2.78</td>\n",
       "      <td>7572.18</td>\n",
       "      <td>True</td>\n",
       "    </tr>\n",
       "  </tbody>\n",
       "</table>\n",
       "</div>"
      ],
      "text/plain": [
       "            City      County    Land Area  Households with Under 18  \\\n",
       "18       Rawlins      Carbon  5322.661628                      1307   \n",
       "48      Cheyenne     Laramie  1500.178400                      7158   \n",
       "60        Casper     Natrona  3894.309100                      7788   \n",
       "87  Rock Springs  Sweetwater  6620.201916                      4022   \n",
       "\n",
       "    Population Density  Total Families Pawdacity  \n",
       "18                1.32         2722.43     False  \n",
       "48               20.34        14612.64      True  \n",
       "60               11.16         8756.32      True  \n",
       "87                2.78         7572.18      True  "
      ]
     },
     "execution_count": 18,
     "metadata": {},
     "output_type": "execute_result"
    }
   ],
   "source": [
    "selector = (demog[\"Land Area\"]> 5000) | (demog[\"Population Density\"]> 10) |\\\n",
    "            (demog[\"Total Families\"] > 10000)\n",
    "demog[selector]"
   ]
  },
  {
   "cell_type": "code",
   "execution_count": 19,
   "metadata": {
    "collapsed": false
   },
   "outputs": [
    {
     "data": {
      "text/html": [
       "<div>\n",
       "<table border=\"1\" class=\"dataframe\">\n",
       "  <thead>\n",
       "    <tr style=\"text-align: right;\">\n",
       "      <th></th>\n",
       "      <th>City|County</th>\n",
       "      <th>2014 Estimate</th>\n",
       "      <th>2010 Census</th>\n",
       "      <th>2000 Census</th>\n",
       "      <th>Pawdacity</th>\n",
       "    </tr>\n",
       "  </thead>\n",
       "  <tbody>\n",
       "    <tr>\n",
       "      <th>13</th>\n",
       "      <td>Casper ?|Natrona</td>\n",
       "      <td>40086</td>\n",
       "      <td>35316</td>\n",
       "      <td>32644</td>\n",
       "      <td>True</td>\n",
       "    </tr>\n",
       "    <tr>\n",
       "      <th>14</th>\n",
       "      <td>Cheyenne ??|Laramie</td>\n",
       "      <td>62845</td>\n",
       "      <td>59466</td>\n",
       "      <td>53011</td>\n",
       "      <td>True</td>\n",
       "    </tr>\n",
       "    <tr>\n",
       "      <th>52</th>\n",
       "      <td>Laramie ?|Albany</td>\n",
       "      <td>32081</td>\n",
       "      <td>30816</td>\n",
       "      <td>27204</td>\n",
       "      <td>False</td>\n",
       "    </tr>\n",
       "  </tbody>\n",
       "</table>\n",
       "</div>"
      ],
      "text/plain": [
       "            City|County  2014 Estimate  2010 Census  2000 Census Pawdacity\n",
       "13     Casper ?|Natrona          40086        35316        32644      True\n",
       "14  Cheyenne ??|Laramie          62845        59466        53011      True\n",
       "52     Laramie ?|Albany          32081        30816        27204     False"
      ]
     },
     "execution_count": 19,
     "metadata": {},
     "output_type": "execute_result"
    }
   ],
   "source": [
    "popul[popul[\"2010 Census\"]>30000]"
   ]
  },
  {
   "cell_type": "code",
   "execution_count": 20,
   "metadata": {
    "collapsed": false
   },
   "outputs": [
    {
     "data": {
      "text/plain": [
       "<matplotlib.axes._subplots.AxesSubplot at 0x10e6d7320>"
      ]
     },
     "execution_count": 20,
     "metadata": {},
     "output_type": "execute_result"
    },
    {
     "data": {
      "image/png": "[encoded data removed]",
      "text/plain": [
       "<matplotlib.figure.Figure at 0x10e7c5e48>"
      ]
     },
     "metadata": {},
     "output_type": "display_data"
    }
   ],
   "source": [
    "sns.boxplot(y=\"2010 Census\", x = \"Pawdacity\",data = popul)"
   ]
  },
  {
   "cell_type": "code",
   "execution_count": 21,
   "metadata": {
    "collapsed": false
   },
   "outputs": [
    {
     "data": {
      "image/png": "[encoded data removed]",
      "text/plain": [
       "<matplotlib.figure.Figure at 0x10e887128>"
      ]
     },
     "metadata": {},
     "output_type": "display_data"
    }
   ],
   "source": [
    "plt.figure(figsize=(20,10))\n",
    "\n",
    "plt.subplot(221)\n",
    "sns.boxplot(x=\"Pawdacity\", y = \"Households with Under 18\",data = demog)\n",
    "\n",
    "plt.subplot(222)\n",
    "sns.boxplot(x=\"Pawdacity\", y = \"Population Density\",data = demog)\n",
    "\n",
    "plt.subplot(223)\n",
    "sns.boxplot(x=\"Pawdacity\", y = \"Total Families\",data = demog)\n",
    "\n",
    "plt.subplot(224)\n",
    "sns.boxplot(x=\"Pawdacity\", y = \"Land Area\",data = demog)\n",
    "\n",
    "plt.show()"
   ]
  },
  {
   "cell_type": "markdown",
   "metadata": {},
   "source": [
    "## Next up\n",
    "I expect there is a follow-up project to do the actual prediction. But it seems to be removed or somewhere else. So my steps for such prediciton is:\n",
    "1. With the demographic statistics, figure out which city is above the average but without a Pawdacity store\n",
    "2. Dig into NAICS to see whether competitors are already in the market of target cities.\n",
    "3. Use existing data to predict the sales in the target cities, figure out which one will have the best sales."
   ]
  },
  {
   "cell_type": "code",
   "execution_count": 22,
   "metadata": {
    "collapsed": false
   },
   "outputs": [
    {
     "data": {
      "text/plain": [
       "count        32.000000\n",
       "mean     173630.875000\n",
       "std      222548.908781\n",
       "min           0.000000\n",
       "25%       65500.000000\n",
       "50%       86000.000000\n",
       "75%      147743.250000\n",
       "max      890000.000000\n",
       "Name: SALES VOLUME, dtype: float64"
      ]
     },
     "execution_count": 22,
     "metadata": {},
     "output_type": "execute_result"
    }
   ],
   "source": [
    "nakes[\"SALES VOLUME\"].describe()"
   ]
  },
  {
   "cell_type": "code",
   "execution_count": 23,
   "metadata": {
    "collapsed": false
   },
   "outputs": [
    {
     "data": {
      "text/plain": [
       "<matplotlib.axes._subplots.AxesSubplot at 0x10e87b9e8>"
      ]
     },
     "execution_count": 23,
     "metadata": {},
     "output_type": "execute_result"
    },
    {
     "data": {
      "image/png": "[encoded data removed]",
      "text/plain": [
       "<matplotlib.figure.Figure at 0x10e81e1d0>"
      ]
     },
     "metadata": {},
     "output_type": "display_data"
    }
   ],
   "source": [
    "sns.boxplot(nakes[\"SALES VOLUME\"])"
   ]
  },
  {
   "cell_type": "code",
   "execution_count": 24,
   "metadata": {
    "collapsed": false
   },
   "outputs": [
    {
     "data": {
      "text/html": [
       "<div>\n",
       "<table border=\"1\" class=\"dataframe\">\n",
       "  <thead>\n",
       "    <tr style=\"text-align: right;\">\n",
       "      <th></th>\n",
       "      <th>BUSINESS NAME</th>\n",
       "      <th>PHYSICAL CITY NAME</th>\n",
       "      <th>SALES VOLUME</th>\n",
       "      <th>CASS_LastLine</th>\n",
       "    </tr>\n",
       "  </thead>\n",
       "  <tbody>\n",
       "    <tr>\n",
       "      <th>0</th>\n",
       "      <td>Mile High Mobile Pet LLC</td>\n",
       "      <td>Cheyenne</td>\n",
       "      <td>300000</td>\n",
       "      <td>Cheyenne, WY 82007-3528</td>\n",
       "    </tr>\n",
       "    <tr>\n",
       "      <th>1</th>\n",
       "      <td>Pets City Inc</td>\n",
       "      <td>Cheyenne</td>\n",
       "      <td>640000</td>\n",
       "      <td>Cheyenne, WY 82009-4851</td>\n",
       "    </tr>\n",
       "    <tr>\n",
       "      <th>7</th>\n",
       "      <td>Don Bruner Sales LLC</td>\n",
       "      <td>Torrington</td>\n",
       "      <td>750000</td>\n",
       "      <td>Torrington, WY 82240-3516</td>\n",
       "    </tr>\n",
       "    <tr>\n",
       "      <th>19</th>\n",
       "      <td>L and C Pets and Gifts LLC</td>\n",
       "      <td>Evansville</td>\n",
       "      <td>210000</td>\n",
       "      <td>Evansville, WY 82636</td>\n",
       "    </tr>\n",
       "    <tr>\n",
       "      <th>20</th>\n",
       "      <td>All Gods Creatures</td>\n",
       "      <td>Gillette</td>\n",
       "      <td>450000</td>\n",
       "      <td>Gillette, WY 82716-2919</td>\n",
       "    </tr>\n",
       "    <tr>\n",
       "      <th>21</th>\n",
       "      <td>Camelot Pet Castle</td>\n",
       "      <td>Gillette</td>\n",
       "      <td>230000</td>\n",
       "      <td>Gillette, WY 82716-1704</td>\n",
       "    </tr>\n",
       "    <tr>\n",
       "      <th>23</th>\n",
       "      <td>Pet Food Outlet</td>\n",
       "      <td>Gillette</td>\n",
       "      <td>450000</td>\n",
       "      <td>Gillette, WY 82718-6330</td>\n",
       "    </tr>\n",
       "    <tr>\n",
       "      <th>26</th>\n",
       "      <td>Zoobecks Inc</td>\n",
       "      <td>Rock Springs</td>\n",
       "      <td>890000</td>\n",
       "      <td>Rock Springs, WY 82901-5105</td>\n",
       "    </tr>\n",
       "  </tbody>\n",
       "</table>\n",
       "</div>"
      ],
      "text/plain": [
       "                 BUSINESS NAME PHYSICAL CITY NAME  SALES VOLUME  \\\n",
       "0     Mile High Mobile Pet LLC           Cheyenne        300000   \n",
       "1                Pets City Inc           Cheyenne        640000   \n",
       "7         Don Bruner Sales LLC         Torrington        750000   \n",
       "19  L and C Pets and Gifts LLC         Evansville        210000   \n",
       "20          All Gods Creatures           Gillette        450000   \n",
       "21          Camelot Pet Castle           Gillette        230000   \n",
       "23             Pet Food Outlet           Gillette        450000   \n",
       "26                Zoobecks Inc       Rock Springs        890000   \n",
       "\n",
       "                  CASS_LastLine  \n",
       "0       Cheyenne, WY 82007-3528  \n",
       "1       Cheyenne, WY 82009-4851  \n",
       "7     Torrington, WY 82240-3516  \n",
       "19         Evansville, WY 82636  \n",
       "20      Gillette, WY 82716-2919  \n",
       "21      Gillette, WY 82716-1704  \n",
       "23      Gillette, WY 82718-6330  \n",
       "26  Rock Springs, WY 82901-5105  "
      ]
     },
     "execution_count": 24,
     "metadata": {},
     "output_type": "execute_result"
    }
   ],
   "source": [
    "nakes[nakes[\"SALES VOLUME\"]>2e5]"
   ]
  },
  {
   "cell_type": "code",
   "execution_count": null,
   "metadata": {
    "collapsed": true
   },
   "outputs": [],
   "source": []
  }
 ],
 "metadata": {
  "anaconda-cloud": {},
  "kernelspec": {
   "display_name": "Python [conda env:py3]",
   "language": "python",
   "name": "conda-env-py3-py"
  },
  "language_info": {
   "codemirror_mode": {
    "name": "ipython",
    "version": 3
   },
   "file_extension": ".py",
   "mimetype": "text/x-python",
   "name": "python",
   "nbconvert_exporter": "python",
   "pygments_lexer": "ipython3",
   "version": "3.6.0"
  }
 },
 "nbformat": 4,
 "nbformat_minor": 2
}
