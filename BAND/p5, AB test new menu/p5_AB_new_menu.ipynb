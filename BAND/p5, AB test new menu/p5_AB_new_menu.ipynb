{
 "cells": [
  {
   "cell_type": "markdown",
   "metadata": {},
   "source": [
    "# Business Scienario\n",
    "Roun Roaster is upsacle ooffee chain and wants to reignite growth by introducting new menu. Because a television advertising campaign requires a significant boost in market budge, the management team choose 10 stores in 2 cities to launch the new advertising to minimize the risk. \n",
    "\n",
    "The test run for 12 weeks (2016-4-29 to 2016-7-21) to compare last year (2015-4-29 to 2015-7-21)\n",
    "\n",
    "To justify the increased marketing budget,  at least 18% in profit growth is required."
   ]
  },
  {
   "cell_type": "markdown",
   "metadata": {},
   "source": [
    "## data exploration"
   ]
  },
  {
   "cell_type": "code",
   "execution_count": 1,
   "metadata": {
    "collapsed": true
   },
   "outputs": [],
   "source": [
    "import pandas as pd\n",
    "import numpy as np\n",
    "import matplotlib.pyplot as plt\n",
    "import seaborn as sns\n",
    "% matplotlib inline"
   ]
  },
  {
   "cell_type": "code",
   "execution_count": 2,
   "metadata": {
    "collapsed": true
   },
   "outputs": [],
   "source": [
    "store = pd.read_csv(\"round-roaster-stores.csv\")\n",
    "treatment = pd.read_csv(\"treatment-stores.csv\")\n",
    "transaction = pd.read_csv(\"RoundRoastersTransactions.csv\")"
   ]
  },
  {
   "cell_type": "code",
   "execution_count": 15,
   "metadata": {
    "collapsed": false
   },
   "outputs": [
    {
     "data": {
      "text/html": [
       "<div>\n",
       "<table border=\"1\" class=\"dataframe\">\n",
       "  <thead>\n",
       "    <tr style=\"text-align: right;\">\n",
       "      <th></th>\n",
       "      <th>StoreID</th>\n",
       "      <th>City</th>\n",
       "      <th>Region</th>\n",
       "      <th>Right_State</th>\n",
       "    </tr>\n",
       "  </thead>\n",
       "  <tbody>\n",
       "    <tr>\n",
       "      <th>0</th>\n",
       "      <td>1664</td>\n",
       "      <td>Barrington</td>\n",
       "      <td>Central</td>\n",
       "      <td>IL</td>\n",
       "    </tr>\n",
       "    <tr>\n",
       "      <th>1</th>\n",
       "      <td>1675</td>\n",
       "      <td>Mount Prospect</td>\n",
       "      <td>Central</td>\n",
       "      <td>IL</td>\n",
       "    </tr>\n",
       "    <tr>\n",
       "      <th>2</th>\n",
       "      <td>1696</td>\n",
       "      <td>Schaumburg</td>\n",
       "      <td>Central</td>\n",
       "      <td>IL</td>\n",
       "    </tr>\n",
       "    <tr>\n",
       "      <th>3</th>\n",
       "      <td>1700</td>\n",
       "      <td>Oakbrook Terrace</td>\n",
       "      <td>Central</td>\n",
       "      <td>IL</td>\n",
       "    </tr>\n",
       "    <tr>\n",
       "      <th>4</th>\n",
       "      <td>1712</td>\n",
       "      <td>Orland Park</td>\n",
       "      <td>Central</td>\n",
       "      <td>IL</td>\n",
       "    </tr>\n",
       "    <tr>\n",
       "      <th>5</th>\n",
       "      <td>2288</td>\n",
       "      <td>Aurora</td>\n",
       "      <td>West</td>\n",
       "      <td>CO</td>\n",
       "    </tr>\n",
       "    <tr>\n",
       "      <th>6</th>\n",
       "      <td>2293</td>\n",
       "      <td>Westminster</td>\n",
       "      <td>West</td>\n",
       "      <td>CO</td>\n",
       "    </tr>\n",
       "    <tr>\n",
       "      <th>7</th>\n",
       "      <td>2301</td>\n",
       "      <td>Denver</td>\n",
       "      <td>West</td>\n",
       "      <td>CO</td>\n",
       "    </tr>\n",
       "    <tr>\n",
       "      <th>8</th>\n",
       "      <td>2322</td>\n",
       "      <td>Denver</td>\n",
       "      <td>West</td>\n",
       "      <td>CO</td>\n",
       "    </tr>\n",
       "    <tr>\n",
       "      <th>9</th>\n",
       "      <td>2341</td>\n",
       "      <td>Boulder</td>\n",
       "      <td>West</td>\n",
       "      <td>CO</td>\n",
       "    </tr>\n",
       "  </tbody>\n",
       "</table>\n",
       "</div>"
      ],
      "text/plain": [
       "   StoreID              City   Region Right_State\n",
       "0     1664        Barrington  Central          IL\n",
       "1     1675    Mount Prospect  Central          IL\n",
       "2     1696        Schaumburg  Central          IL\n",
       "3     1700  Oakbrook Terrace  Central          IL\n",
       "4     1712       Orland Park  Central          IL\n",
       "5     2288            Aurora     West          CO\n",
       "6     2293       Westminster     West          CO\n",
       "7     2301            Denver     West          CO\n",
       "8     2322            Denver     West          CO\n",
       "9     2341           Boulder     West          CO"
      ]
     },
     "execution_count": 15,
     "metadata": {},
     "output_type": "execute_result"
    }
   ],
   "source": [
    "treatment.loc[:,[\"StoreID\",\"City\",\"Region\",\"Right_State\"]]"
   ]
  },
  {
   "cell_type": "code",
   "execution_count": 21,
   "metadata": {
    "collapsed": false
   },
   "outputs": [
    {
     "data": {
      "text/plain": [
       "(133, 20)"
      ]
     },
     "execution_count": 21,
     "metadata": {},
     "output_type": "execute_result"
    }
   ],
   "source": [
    "store.shape"
   ]
  },
  {
   "cell_type": "code",
   "execution_count": 16,
   "metadata": {
    "collapsed": false
   },
   "outputs": [
    {
     "data": {
      "text/html": [
       "<div>\n",
       "<table border=\"1\" class=\"dataframe\">\n",
       "  <thead>\n",
       "    <tr style=\"text-align: right;\">\n",
       "      <th></th>\n",
       "      <th>StoreID</th>\n",
       "      <th>Sq_Ft</th>\n",
       "      <th>AvgMonthSales</th>\n",
       "      <th>Right_Name</th>\n",
       "      <th>Phone Number</th>\n",
       "      <th>Street Combined</th>\n",
       "      <th>Street 1</th>\n",
       "      <th>Street 2</th>\n",
       "      <th>Street 3</th>\n",
       "      <th>City</th>\n",
       "      <th>State</th>\n",
       "      <th>Postal Code</th>\n",
       "      <th>Region</th>\n",
       "      <th>Country</th>\n",
       "      <th>Coordinates</th>\n",
       "      <th>Latitude</th>\n",
       "      <th>Longitude</th>\n",
       "      <th>Timezone</th>\n",
       "      <th>Current Timezone Offset</th>\n",
       "      <th>Olson Timezone</th>\n",
       "    </tr>\n",
       "  </thead>\n",
       "  <tbody>\n",
       "    <tr>\n",
       "      <th>45</th>\n",
       "      <td>1664</td>\n",
       "      <td>1475</td>\n",
       "      <td>11000</td>\n",
       "      <td>Barrington</td>\n",
       "      <td>8478428048</td>\n",
       "      <td>101 W. Main St., Barrington Village Center</td>\n",
       "      <td>101 W. Main St.</td>\n",
       "      <td>NaN</td>\n",
       "      <td>Barrington Village Center</td>\n",
       "      <td>Barrington</td>\n",
       "      <td>IL</td>\n",
       "      <td>60010</td>\n",
       "      <td>Central</td>\n",
       "      <td>US</td>\n",
       "      <td>(42.1540565490723, -88.1362915039063)</td>\n",
       "      <td>42.154057</td>\n",
       "      <td>-88.136291</td>\n",
       "      <td>Central Standard Time</td>\n",
       "      <td>-360</td>\n",
       "      <td>GMT-06:00 America/Chicago</td>\n",
       "    </tr>\n",
       "  </tbody>\n",
       "</table>\n",
       "</div>"
      ],
      "text/plain": [
       "    StoreID  Sq_Ft  AvgMonthSales  Right_Name Phone Number  \\\n",
       "45     1664   1475          11000  Barrington   8478428048   \n",
       "\n",
       "                               Street Combined         Street 1 Street 2  \\\n",
       "45  101 W. Main St., Barrington Village Center  101 W. Main St.      NaN   \n",
       "\n",
       "                     Street 3        City State  Postal Code   Region Country  \\\n",
       "45  Barrington Village Center  Barrington    IL        60010  Central      US   \n",
       "\n",
       "                              Coordinates   Latitude  Longitude  \\\n",
       "45  (42.1540565490723, -88.1362915039063)  42.154057 -88.136291   \n",
       "\n",
       "                 Timezone  Current Timezone Offset             Olson Timezone  \n",
       "45  Central Standard Time                     -360  GMT-06:00 America/Chicago  "
      ]
     },
     "execution_count": 16,
     "metadata": {},
     "output_type": "execute_result"
    }
   ],
   "source": [
    "store[store[\"StoreID\"] == 1664]"
   ]
  },
  {
   "cell_type": "code",
   "execution_count": 10,
   "metadata": {
    "collapsed": false
   },
   "outputs": [
    {
     "data": {
      "text/plain": [
       "West       91\n",
       "Central    42\n",
       "Name: Region, dtype: int64"
      ]
     },
     "execution_count": 10,
     "metadata": {},
     "output_type": "execute_result"
    }
   ],
   "source": [
    "store[\"Region\"].value_counts()"
   ]
  },
  {
   "cell_type": "code",
   "execution_count": 13,
   "metadata": {
    "collapsed": false
   },
   "outputs": [
    {
     "data": {
      "text/plain": [
       "CA    42\n",
       "IL    15\n",
       "CO    15\n",
       "TX    12\n",
       "WA    10\n",
       "Name: State, dtype: int64"
      ]
     },
     "execution_count": 13,
     "metadata": {},
     "output_type": "execute_result"
    }
   ],
   "source": [
    "store[\"State\"].value_counts()[0:5]"
   ]
  },
  {
   "cell_type": "code",
   "execution_count": 5,
   "metadata": {
    "collapsed": false
   },
   "outputs": [
    {
     "name": "stdout",
     "output_type": "stream",
     "text": [
      "<class 'pandas.core.frame.DataFrame'>\n",
      "RangeIndex: 4332333 entries, 0 to 4332332\n",
      "Data columns (total 10 columns):\n",
      "StoreID           int64\n",
      "Invoice Number    int64\n",
      "Invoice Date      object\n",
      "SKU               int64\n",
      "Category          object\n",
      "Product           object\n",
      "QTY               int64\n",
      "Size              object\n",
      "Gross Margin      float64\n",
      "Sales             float64\n",
      "dtypes: float64(2), int64(4), object(4)\n",
      "memory usage: 330.5+ MB\n"
     ]
    }
   ],
   "source": [
    "transaction.info()"
   ]
  },
  {
   "cell_type": "code",
   "execution_count": 7,
   "metadata": {
    "collapsed": false
   },
   "outputs": [
    {
     "data": {
      "text/html": [
       "<div>\n",
       "<table border=\"1\" class=\"dataframe\">\n",
       "  <thead>\n",
       "    <tr style=\"text-align: right;\">\n",
       "      <th></th>\n",
       "      <th>StoreID</th>\n",
       "      <th>Invoice Number</th>\n",
       "      <th>Invoice Date</th>\n",
       "      <th>SKU</th>\n",
       "      <th>Category</th>\n",
       "      <th>Product</th>\n",
       "      <th>QTY</th>\n",
       "      <th>Size</th>\n",
       "      <th>Gross Margin</th>\n",
       "      <th>Sales</th>\n",
       "    </tr>\n",
       "  </thead>\n",
       "  <tbody>\n",
       "    <tr>\n",
       "      <th>0</th>\n",
       "      <td>10018</td>\n",
       "      <td>16296643</td>\n",
       "      <td>2015-01-21</td>\n",
       "      <td>1043</td>\n",
       "      <td>Espresso</td>\n",
       "      <td>Mocha</td>\n",
       "      <td>3</td>\n",
       "      <td>L</td>\n",
       "      <td>6.7365</td>\n",
       "      <td>14.97</td>\n",
       "    </tr>\n",
       "    <tr>\n",
       "      <th>1</th>\n",
       "      <td>10018</td>\n",
       "      <td>16296643</td>\n",
       "      <td>2015-01-21</td>\n",
       "      <td>2001</td>\n",
       "      <td>Pastry</td>\n",
       "      <td>Croissant</td>\n",
       "      <td>1</td>\n",
       "      <td>NaN</td>\n",
       "      <td>1.1000</td>\n",
       "      <td>2.75</td>\n",
       "    </tr>\n",
       "    <tr>\n",
       "      <th>2</th>\n",
       "      <td>10018</td>\n",
       "      <td>16297717</td>\n",
       "      <td>2015-01-21</td>\n",
       "      <td>1021</td>\n",
       "      <td>Espresso</td>\n",
       "      <td>Espresso</td>\n",
       "      <td>3</td>\n",
       "      <td>S</td>\n",
       "      <td>4.1850</td>\n",
       "      <td>8.37</td>\n",
       "    </tr>\n",
       "    <tr>\n",
       "      <th>3</th>\n",
       "      <td>10018</td>\n",
       "      <td>16297717</td>\n",
       "      <td>2015-01-21</td>\n",
       "      <td>1022</td>\n",
       "      <td>Espresso</td>\n",
       "      <td>Espresso</td>\n",
       "      <td>4</td>\n",
       "      <td>M</td>\n",
       "      <td>5.9800</td>\n",
       "      <td>11.96</td>\n",
       "    </tr>\n",
       "    <tr>\n",
       "      <th>4</th>\n",
       "      <td>10018</td>\n",
       "      <td>16297717</td>\n",
       "      <td>2015-01-21</td>\n",
       "      <td>1023</td>\n",
       "      <td>Espresso</td>\n",
       "      <td>Espresso</td>\n",
       "      <td>3</td>\n",
       "      <td>L</td>\n",
       "      <td>4.7850</td>\n",
       "      <td>9.57</td>\n",
       "    </tr>\n",
       "  </tbody>\n",
       "</table>\n",
       "</div>"
      ],
      "text/plain": [
       "   StoreID  Invoice Number Invoice Date   SKU  Category    Product  QTY Size  \\\n",
       "0    10018        16296643   2015-01-21  1043  Espresso      Mocha    3    L   \n",
       "1    10018        16296643   2015-01-21  2001    Pastry  Croissant    1  NaN   \n",
       "2    10018        16297717   2015-01-21  1021  Espresso   Espresso    3    S   \n",
       "3    10018        16297717   2015-01-21  1022  Espresso   Espresso    4    M   \n",
       "4    10018        16297717   2015-01-21  1023  Espresso   Espresso    3    L   \n",
       "\n",
       "   Gross Margin  Sales  \n",
       "0        6.7365  14.97  \n",
       "1        1.1000   2.75  \n",
       "2        4.1850   8.37  \n",
       "3        5.9800  11.96  \n",
       "4        4.7850   9.57  "
      ]
     },
     "execution_count": 7,
     "metadata": {},
     "output_type": "execute_result"
    }
   ],
   "source": [
    "transaction.head()"
   ]
  },
  {
   "cell_type": "code",
   "execution_count": 17,
   "metadata": {
    "collapsed": false
   },
   "outputs": [
    {
     "data": {
      "text/html": [
       "<div>\n",
       "<table border=\"1\" class=\"dataframe\">\n",
       "  <thead>\n",
       "    <tr style=\"text-align: right;\">\n",
       "      <th></th>\n",
       "      <th>StoreID</th>\n",
       "      <th>Invoice Number</th>\n",
       "      <th>Invoice Date</th>\n",
       "      <th>SKU</th>\n",
       "      <th>Category</th>\n",
       "      <th>Product</th>\n",
       "      <th>QTY</th>\n",
       "      <th>Size</th>\n",
       "      <th>Gross Margin</th>\n",
       "      <th>Sales</th>\n",
       "    </tr>\n",
       "  </thead>\n",
       "  <tbody>\n",
       "    <tr>\n",
       "      <th>4332328</th>\n",
       "      <td>9968</td>\n",
       "      <td>45360178</td>\n",
       "      <td>2016-07-21</td>\n",
       "      <td>1043</td>\n",
       "      <td>Espresso</td>\n",
       "      <td>Mocha</td>\n",
       "      <td>3</td>\n",
       "      <td>L</td>\n",
       "      <td>6.7365</td>\n",
       "      <td>14.97</td>\n",
       "    </tr>\n",
       "    <tr>\n",
       "      <th>4332329</th>\n",
       "      <td>9968</td>\n",
       "      <td>45360179</td>\n",
       "      <td>2016-07-21</td>\n",
       "      <td>1043</td>\n",
       "      <td>Espresso</td>\n",
       "      <td>Mocha</td>\n",
       "      <td>1</td>\n",
       "      <td>L</td>\n",
       "      <td>2.2455</td>\n",
       "      <td>4.99</td>\n",
       "    </tr>\n",
       "    <tr>\n",
       "      <th>4332330</th>\n",
       "      <td>9968</td>\n",
       "      <td>45360242</td>\n",
       "      <td>2016-07-21</td>\n",
       "      <td>1041</td>\n",
       "      <td>Espresso</td>\n",
       "      <td>Mocha</td>\n",
       "      <td>2</td>\n",
       "      <td>S</td>\n",
       "      <td>3.5910</td>\n",
       "      <td>7.98</td>\n",
       "    </tr>\n",
       "    <tr>\n",
       "      <th>4332331</th>\n",
       "      <td>9968</td>\n",
       "      <td>45360243</td>\n",
       "      <td>2016-07-21</td>\n",
       "      <td>1043</td>\n",
       "      <td>Espresso</td>\n",
       "      <td>Mocha</td>\n",
       "      <td>4</td>\n",
       "      <td>L</td>\n",
       "      <td>8.9820</td>\n",
       "      <td>19.96</td>\n",
       "    </tr>\n",
       "    <tr>\n",
       "      <th>4332332</th>\n",
       "      <td>9968</td>\n",
       "      <td>45360705</td>\n",
       "      <td>2016-07-21</td>\n",
       "      <td>2001</td>\n",
       "      <td>Pastry</td>\n",
       "      <td>Croissant</td>\n",
       "      <td>3</td>\n",
       "      <td>NaN</td>\n",
       "      <td>3.3000</td>\n",
       "      <td>8.25</td>\n",
       "    </tr>\n",
       "  </tbody>\n",
       "</table>\n",
       "</div>"
      ],
      "text/plain": [
       "         StoreID  Invoice Number Invoice Date   SKU  Category    Product  QTY  \\\n",
       "4332328     9968        45360178   2016-07-21  1043  Espresso      Mocha    3   \n",
       "4332329     9968        45360179   2016-07-21  1043  Espresso      Mocha    1   \n",
       "4332330     9968        45360242   2016-07-21  1041  Espresso      Mocha    2   \n",
       "4332331     9968        45360243   2016-07-21  1043  Espresso      Mocha    4   \n",
       "4332332     9968        45360705   2016-07-21  2001    Pastry  Croissant    3   \n",
       "\n",
       "        Size  Gross Margin  Sales  \n",
       "4332328    L        6.7365  14.97  \n",
       "4332329    L        2.2455   4.99  \n",
       "4332330    S        3.5910   7.98  \n",
       "4332331    L        8.9820  19.96  \n",
       "4332332  NaN        3.3000   8.25  "
      ]
     },
     "execution_count": 17,
     "metadata": {},
     "output_type": "execute_result"
    }
   ],
   "source": [
    "transaction.tail()"
   ]
  },
  {
   "cell_type": "code",
   "execution_count": 18,
   "metadata": {
    "collapsed": false
   },
   "outputs": [
    {
     "data": {
      "text/plain": [
       "Espresso              1684875\n",
       "Mocha                 1220389\n",
       "Croissant              750571\n",
       "Hot Chocolate          180229\n",
       "Cappuccino             179790\n",
       "Danish                 171017\n",
       "Latte                  113517\n",
       "Caprese                 19526\n",
       "Drip                    10808\n",
       "Cabernet Sauvignon       1379\n",
       "Pinot Grigio              137\n",
       "Croque Madame              95\n",
       "Name: Product, dtype: int64"
      ]
     },
     "execution_count": 18,
     "metadata": {},
     "output_type": "execute_result"
    }
   ],
   "source": [
    "transaction[\"Product\"].value_counts()"
   ]
  },
  {
   "cell_type": "code",
   "execution_count": 20,
   "metadata": {
    "collapsed": false
   },
   "outputs": [
    {
     "data": {
      "text/plain": [
       "(133,)"
      ]
     },
     "execution_count": 20,
     "metadata": {},
     "output_type": "execute_result"
    }
   ],
   "source": [
    "transaction[\"StoreID\"].value_counts().shape"
   ]
  },
  {
   "cell_type": "code",
   "execution_count": 33,
   "metadata": {
    "collapsed": false
   },
   "outputs": [
    {
     "data": {
      "text/plain": [
       "<matplotlib.axes._subplots.AxesSubplot at 0x11bb530f0>"
      ]
     },
     "execution_count": 33,
     "metadata": {},
     "output_type": "execute_result"
    },
    {
     "data": {
      "image/png": "[encoded data removed]",
      "text/plain": [
       "<matplotlib.figure.Figure at 0x1172adb38>"
      ]
     },
     "metadata": {},
     "output_type": "display_data"
    }
   ],
   "source": [
    "plt.figure (figsize=(10,5))\n",
    "plt.subplot(121)\n",
    "sns.violinplot(\"Sales\", data = transaction )\n",
    "plt.subplot(122)\n",
    "sns.violinplot(\"Gross Margin\", data = transaction )\n",
    "plt.show()"
   ]
  },
  {
   "cell_type": "markdown",
   "metadata": {},
   "source": [
    "## quick summary\n",
    "1. These imaginary stores use realwolrd starbucks' data as physcial location, telephone\n",
    "2. They only sale 12 classes of products, with the top 3 being Espresso,Mocha,Croissant \n",
    "3. Most sales are small sale under $10\n",
    "4. Invoice Date are from 2015-01-21 to 2016-07-21, spanning over 18 months\n",
    "5. 2016-4-29 is Friday, 2016-7-21 is Thursday"
   ]
  },
  {
   "cell_type": "markdown",
   "metadata": {},
   "source": [
    "# data preprocessing\n",
    "1. practice to parse date into week number\n",
    "2. add a new column 'week' in the table \n",
    "3. aggregate and generate a new table with columns: [\"StoreID\",\"week\",\"Gross Margin\"]. The shape will be (133*79,3)\n",
    "4. save new table to local"
   ]
  },
  {
   "cell_type": "code",
   "execution_count": 180,
   "metadata": {
    "collapsed": true
   },
   "outputs": [],
   "source": [
    "from datetime import datetime,date\n",
    "def getweek(day):\n",
    "    dt = datetime.strptime(day,'%Y-%m-%d')\n",
    "    year,week,weekday = dt.date().isocalendar()\n",
    "    return (year-2015)*53+ week"
   ]
  },
  {
   "cell_type": "code",
   "execution_count": 182,
   "metadata": {
    "collapsed": false
   },
   "outputs": [
    {
     "data": {
      "text/plain": [
       "(2015, 53, 7)"
      ]
     },
     "execution_count": 182,
     "metadata": {},
     "output_type": "execute_result"
    }
   ],
   "source": [
    "datetime.strptime('2016-1-3','%Y-%m-%d').date().isocalendar()"
   ]
  },
  {
   "cell_type": "code",
   "execution_count": 187,
   "metadata": {
    "collapsed": true
   },
   "outputs": [],
   "source": [
    "transaction['week'] = transaction['Invoice Date'].apply(lambda x:getweek(x))"
   ]
  },
  {
   "cell_type": "code",
   "execution_count": 193,
   "metadata": {
    "collapsed": false
   },
   "outputs": [
    {
     "data": {
      "text/plain": [
       "(133,)"
      ]
     },
     "execution_count": 193,
     "metadata": {},
     "output_type": "execute_result"
    }
   ],
   "source": [
    "storelist = store[\"StoreID\"].values\n",
    "storelist.shape"
   ]
  },
  {
   "cell_type": "code",
   "execution_count": 337,
   "metadata": {
    "collapsed": false
   },
   "outputs": [
    {
     "name": "stdout",
     "output_type": "stream",
     "text": [
      "18 30\n",
      "70 82\n"
     ]
    }
   ],
   "source": [
    "print(getweek('2015-4-29'),getweek('2015-7-21'))  # 18, 30\n",
    "print(getweek('2016-4-29'),getweek('2016-7-21'))  # 70, 82"
   ]
  },
  {
   "cell_type": "code",
   "execution_count": 339,
   "metadata": {
    "collapsed": false,
    "scrolled": true
   },
   "outputs": [
    {
     "data": {
      "text/plain": [
       "43    46394\n",
       "55    45308\n",
       "65    41412\n",
       "4     40321\n",
       "82    39417\n",
       "12    29545\n",
       "84     2302\n",
       "85     2164\n",
       "83     2036\n",
       "86     1617\n",
       "Name: week, dtype: int64"
      ]
     },
     "execution_count": 339,
     "metadata": {},
     "output_type": "execute_result"
    }
   ],
   "source": [
    "transaction['week'].value_counts()[-10:]  # it means last 4 week has missing data"
   ]
  },
  {
   "cell_type": "code",
   "execution_count": 342,
   "metadata": {
    "collapsed": false
   },
   "outputs": [
    {
     "data": {
      "text/plain": [
       "(79,)"
      ]
     },
     "execution_count": 342,
     "metadata": {},
     "output_type": "execute_result"
    }
   ],
   "source": [
    "weeklist = np.array(list(range(4,83,1)))\n",
    "#weeklist = transaction['week'].unique()  \n",
    "weeklist.shape"
   ]
  },
  {
   "cell_type": "code",
   "execution_count": 343,
   "metadata": {
    "collapsed": false
   },
   "outputs": [
    {
     "name": "stdout",
     "output_type": "stream",
     "text": [
      "207.29575276374817\n"
     ]
    }
   ],
   "source": [
    "weekdata = np.zeros((len(weeklist),len(storelist)))\n",
    "\n",
    "from time import time\n",
    "t0 = time()\n",
    "for i, each in enumerate(storelist):\n",
    "    for j, week in enumerate(weeklist):\n",
    "        weekdata[j,i] = transaction[(transaction[\"StoreID\"]==each) & (transaction['week']== week)][\"Gross Margin\"].sum()\n",
    "        \n",
    "print(time()-t0)  # 198 s"
   ]
  },
  {
   "cell_type": "code",
   "execution_count": 344,
   "metadata": {
    "collapsed": false
   },
   "outputs": [],
   "source": [
    "df = pd.DataFrame(weekdata)"
   ]
  },
  {
   "cell_type": "code",
   "execution_count": 345,
   "metadata": {
    "collapsed": false
   },
   "outputs": [],
   "source": [
    "df.columns = storelist"
   ]
  },
  {
   "cell_type": "code",
   "execution_count": 346,
   "metadata": {
    "collapsed": false
   },
   "outputs": [],
   "source": [
    "df.index = weeklist"
   ]
  },
  {
   "cell_type": "code",
   "execution_count": 349,
   "metadata": {
    "collapsed": false
   },
   "outputs": [
    {
     "name": "stdout",
     "output_type": "stream",
     "text": [
      "<class 'pandas.core.frame.DataFrame'>\n",
      "Int64Index: 79 entries, 4 to 82\n",
      "Columns: 133 entries, 10018 to 9968\n",
      "dtypes: float64(133)\n",
      "memory usage: 82.7 KB\n"
     ]
    }
   ],
   "source": [
    "df.info()"
   ]
  },
  {
   "cell_type": "code",
   "execution_count": 350,
   "metadata": {
    "collapsed": false
   },
   "outputs": [
    {
     "data": {
      "text/plain": [
       "['weekdata.p']"
      ]
     },
     "execution_count": 350,
     "metadata": {},
     "output_type": "execute_result"
    }
   ],
   "source": [
    "from sklearn.externals import joblib\n",
    "joblib.dump(df, 'weekdata.p') "
   ]
  },
  {
   "cell_type": "markdown",
   "metadata": {},
   "source": [
    "## data mining"
   ]
  },
  {
   "cell_type": "code",
   "execution_count": 351,
   "metadata": {
    "collapsed": false
   },
   "outputs": [
    {
     "data": {
      "text/plain": [
       "1576.7395000000001"
      ]
     },
     "execution_count": 351,
     "metadata": {},
     "output_type": "execute_result"
    }
   ],
   "source": [
    "df.median().median()"
   ]
  },
  {
   "cell_type": "code",
   "execution_count": 352,
   "metadata": {
    "collapsed": false
   },
   "outputs": [],
   "source": [
    "treatlist = treatment[\"StoreID\"].values"
   ]
  },
  {
   "cell_type": "code",
   "execution_count": 353,
   "metadata": {
    "collapsed": false
   },
   "outputs": [
    {
     "data": {
      "image/png": "[encoded data removed]",
      "text/plain": [
       "<matplotlib.figure.Figure at 0x11f3824a8>"
      ]
     },
     "metadata": {},
     "output_type": "display_data"
    }
   ],
   "source": [
    "plt.plot(df.loc[:,treatlist])\n",
    "plt.xlabel(\"week number\")\n",
    "plt.ylabel(\"weekly gross margin\")\n",
    "plt.show()"
   ]
  },
  {
   "cell_type": "code",
   "execution_count": 354,
   "metadata": {
    "collapsed": false
   },
   "outputs": [
    {
     "data": {
      "text/html": [
       "<div>\n",
       "<table border=\"1\" class=\"dataframe\">\n",
       "  <thead>\n",
       "    <tr style=\"text-align: right;\">\n",
       "      <th></th>\n",
       "      <th>1664</th>\n",
       "      <th>1675</th>\n",
       "      <th>1696</th>\n",
       "      <th>1700</th>\n",
       "      <th>1712</th>\n",
       "    </tr>\n",
       "  </thead>\n",
       "  <tbody>\n",
       "    <tr>\n",
       "      <th>4</th>\n",
       "      <td>1034.9835</td>\n",
       "      <td>1257.1990</td>\n",
       "      <td>678.3740</td>\n",
       "      <td>1129.9270</td>\n",
       "      <td>1306.8695</td>\n",
       "    </tr>\n",
       "    <tr>\n",
       "      <th>5</th>\n",
       "      <td>1364.3655</td>\n",
       "      <td>1308.9805</td>\n",
       "      <td>1062.5605</td>\n",
       "      <td>2321.4415</td>\n",
       "      <td>2016.6305</td>\n",
       "    </tr>\n",
       "    <tr>\n",
       "      <th>6</th>\n",
       "      <td>1234.8725</td>\n",
       "      <td>1480.2535</td>\n",
       "      <td>1238.6185</td>\n",
       "      <td>1905.0130</td>\n",
       "      <td>2317.1375</td>\n",
       "    </tr>\n",
       "    <tr>\n",
       "      <th>7</th>\n",
       "      <td>1433.8740</td>\n",
       "      <td>1185.9830</td>\n",
       "      <td>756.7635</td>\n",
       "      <td>1769.6075</td>\n",
       "      <td>1993.9235</td>\n",
       "    </tr>\n",
       "    <tr>\n",
       "      <th>8</th>\n",
       "      <td>1548.1780</td>\n",
       "      <td>1916.4905</td>\n",
       "      <td>803.6240</td>\n",
       "      <td>1744.2600</td>\n",
       "      <td>2396.8585</td>\n",
       "    </tr>\n",
       "  </tbody>\n",
       "</table>\n",
       "</div>"
      ],
      "text/plain": [
       "        1664       1675       1696       1700       1712\n",
       "4  1034.9835  1257.1990   678.3740  1129.9270  1306.8695\n",
       "5  1364.3655  1308.9805  1062.5605  2321.4415  2016.6305\n",
       "6  1234.8725  1480.2535  1238.6185  1905.0130  2317.1375\n",
       "7  1433.8740  1185.9830   756.7635  1769.6075  1993.9235\n",
       "8  1548.1780  1916.4905   803.6240  1744.2600  2396.8585"
      ]
     },
     "execution_count": 354,
     "metadata": {},
     "output_type": "execute_result"
    }
   ],
   "source": [
    "df.loc[4:8,treatlist[0:5]]"
   ]
  },
  {
   "cell_type": "code",
   "execution_count": 355,
   "metadata": {
    "collapsed": false
   },
   "outputs": [
    {
     "name": "stdout",
     "output_type": "stream",
     "text": [
      "18 30\n",
      "70 82\n"
     ]
    }
   ],
   "source": [
    "print(getweek('2015-4-29'),getweek('2015-7-21'))  # 18, 30\n",
    "print(getweek('2016-4-29'),getweek('2016-7-21'))  # 70, 82"
   ]
  },
  {
   "cell_type": "code",
   "execution_count": 356,
   "metadata": {
    "collapsed": true
   },
   "outputs": [],
   "source": [
    "lastyear = df.loc[18:30,treatlist]\n",
    "thisyear = df.loc[70:82,treatlist]"
   ]
  },
  {
   "cell_type": "code",
   "execution_count": 357,
   "metadata": {
    "collapsed": false
   },
   "outputs": [],
   "source": [
    "median_compare = pd.concat([lastyear.median(axis=0),thisyear.median(axis=0)],axis=1)\n",
    "\n",
    "median_compare['ratio'] = median_compare[1] /  median_compare[0]"
   ]
  },
  {
   "cell_type": "code",
   "execution_count": 358,
   "metadata": {
    "collapsed": false
   },
   "outputs": [
    {
     "data": {
      "text/html": [
       "<div>\n",
       "<table border=\"1\" class=\"dataframe\">\n",
       "  <thead>\n",
       "    <tr style=\"text-align: right;\">\n",
       "      <th></th>\n",
       "      <th>0</th>\n",
       "      <th>1</th>\n",
       "      <th>ratio</th>\n",
       "    </tr>\n",
       "  </thead>\n",
       "  <tbody>\n",
       "    <tr>\n",
       "      <th>1664</th>\n",
       "      <td>1464.7825</td>\n",
       "      <td>1822.5800</td>\n",
       "      <td>1.244267</td>\n",
       "    </tr>\n",
       "    <tr>\n",
       "      <th>1675</th>\n",
       "      <td>1828.4445</td>\n",
       "      <td>2431.7990</td>\n",
       "      <td>1.329982</td>\n",
       "    </tr>\n",
       "    <tr>\n",
       "      <th>1696</th>\n",
       "      <td>1333.0420</td>\n",
       "      <td>1577.8660</td>\n",
       "      <td>1.183658</td>\n",
       "    </tr>\n",
       "    <tr>\n",
       "      <th>1700</th>\n",
       "      <td>2021.0830</td>\n",
       "      <td>2561.5160</td>\n",
       "      <td>1.267398</td>\n",
       "    </tr>\n",
       "    <tr>\n",
       "      <th>1712</th>\n",
       "      <td>2305.3660</td>\n",
       "      <td>3548.4960</td>\n",
       "      <td>1.539233</td>\n",
       "    </tr>\n",
       "    <tr>\n",
       "      <th>2288</th>\n",
       "      <td>1558.7465</td>\n",
       "      <td>2218.6380</td>\n",
       "      <td>1.423348</td>\n",
       "    </tr>\n",
       "    <tr>\n",
       "      <th>2293</th>\n",
       "      <td>1132.6530</td>\n",
       "      <td>1461.3285</td>\n",
       "      <td>1.290182</td>\n",
       "    </tr>\n",
       "    <tr>\n",
       "      <th>2301</th>\n",
       "      <td>1210.6585</td>\n",
       "      <td>1453.0045</td>\n",
       "      <td>1.200177</td>\n",
       "    </tr>\n",
       "    <tr>\n",
       "      <th>2322</th>\n",
       "      <td>1506.5895</td>\n",
       "      <td>2151.5485</td>\n",
       "      <td>1.428092</td>\n",
       "    </tr>\n",
       "    <tr>\n",
       "      <th>2341</th>\n",
       "      <td>1295.5275</td>\n",
       "      <td>1987.5385</td>\n",
       "      <td>1.534154</td>\n",
       "    </tr>\n",
       "  </tbody>\n",
       "</table>\n",
       "</div>"
      ],
      "text/plain": [
       "              0          1     ratio\n",
       "1664  1464.7825  1822.5800  1.244267\n",
       "1675  1828.4445  2431.7990  1.329982\n",
       "1696  1333.0420  1577.8660  1.183658\n",
       "1700  2021.0830  2561.5160  1.267398\n",
       "1712  2305.3660  3548.4960  1.539233\n",
       "2288  1558.7465  2218.6380  1.423348\n",
       "2293  1132.6530  1461.3285  1.290182\n",
       "2301  1210.6585  1453.0045  1.200177\n",
       "2322  1506.5895  2151.5485  1.428092\n",
       "2341  1295.5275  1987.5385  1.534154"
      ]
     },
     "execution_count": 358,
     "metadata": {},
     "output_type": "execute_result"
    }
   ],
   "source": [
    "median_compare"
   ]
  },
  {
   "cell_type": "code",
   "execution_count": 359,
   "metadata": {
    "collapsed": false
   },
   "outputs": [
    {
     "data": {
      "text/plain": [
       "<matplotlib.axes._subplots.AxesSubplot at 0x11f3c75c0>"
      ]
     },
     "execution_count": 359,
     "metadata": {},
     "output_type": "execute_result"
    },
    {
     "data": {
      "image/png": "[encoded data removed]",
      "text/plain": [
       "<matplotlib.figure.Figure at 0x11f40bda0>"
      ]
     },
     "metadata": {},
     "output_type": "display_data"
    }
   ],
   "source": [
    "sns.boxplot(median_compare['ratio'])"
   ]
  },
  {
   "cell_type": "markdown",
   "metadata": {},
   "source": [
    "### calcuate other stores's growth rate"
   ]
  },
  {
   "cell_type": "code",
   "execution_count": 360,
   "metadata": {
    "collapsed": true
   },
   "outputs": [],
   "source": [
    "others = list(set(storelist)- set(treatlist))"
   ]
  },
  {
   "cell_type": "code",
   "execution_count": 361,
   "metadata": {
    "collapsed": false
   },
   "outputs": [
    {
     "data": {
      "text/plain": [
       "123"
      ]
     },
     "execution_count": 361,
     "metadata": {},
     "output_type": "execute_result"
    }
   ],
   "source": [
    "len(others)"
   ]
  },
  {
   "cell_type": "code",
   "execution_count": 362,
   "metadata": {
    "collapsed": true
   },
   "outputs": [],
   "source": [
    "lastyear2 = df.loc[18:30,others]\n",
    "thisyear2 = df.loc[70:82,others]"
   ]
  },
  {
   "cell_type": "code",
   "execution_count": 363,
   "metadata": {
    "collapsed": true
   },
   "outputs": [],
   "source": [
    "median_compare2 = pd.concat([lastyear2.median(axis=0),thisyear2.median(axis=0)],axis=1)\n",
    "\n",
    "median_compare2['ratio'] = median_compare2[1] /  median_compare2[0]"
   ]
  },
  {
   "cell_type": "code",
   "execution_count": 364,
   "metadata": {
    "collapsed": false
   },
   "outputs": [
    {
     "data": {
      "text/plain": [
       "<matplotlib.axes._subplots.AxesSubplot at 0x12015b160>"
      ]
     },
     "execution_count": 364,
     "metadata": {},
     "output_type": "execute_result"
    },
    {
     "data": {
      "image/png": "[encoded data removed]",
      "text/plain": [
       "<matplotlib.figure.Figure at 0x11feadbe0>"
      ]
     },
     "metadata": {},
     "output_type": "display_data"
    }
   ],
   "source": [
    "sns.boxplot(median_compare2['ratio'])"
   ]
  },
  {
   "cell_type": "markdown",
   "metadata": {},
   "source": [
    "**it seems other store are genreally decreasing**."
   ]
  },
  {
   "cell_type": "code",
   "execution_count": 365,
   "metadata": {
    "collapsed": false
   },
   "outputs": [
    {
     "name": "stdout",
     "output_type": "stream",
     "text": [
      "209.38956022262573\n"
     ]
    }
   ],
   "source": [
    "weekdata2 = np.zeros((len(weeklist)*len(storelist),3))\n",
    "\n",
    "from time import time\n",
    "t0 = time()\n",
    "for i, each in enumerate(storelist):\n",
    "    for j, week in enumerate(weeklist):\n",
    "        weekly_sale = transaction[(transaction[\"StoreID\"]==each) & (transaction['week']== week)][\"Gross Margin\"].sum()\n",
    "        weekdata2[i*len(weeklist)+j,:] = [each,week,weekly_sale]\n",
    "        \n",
    "print(time()-t0)  # 240 s"
   ]
  },
  {
   "cell_type": "code",
   "execution_count": 375,
   "metadata": {
    "collapsed": false
   },
   "outputs": [
    {
     "data": {
      "text/plain": [
       "['weekdata2.p']"
      ]
     },
     "execution_count": 375,
     "metadata": {},
     "output_type": "execute_result"
    }
   ],
   "source": [
    "from sklearn.externals import joblib\n",
    "joblib.dump(df, 'weekdata2.p') "
   ]
  },
  {
   "cell_type": "code",
   "execution_count": 368,
   "metadata": {
    "collapsed": false
   },
   "outputs": [],
   "source": [
    "df = pd.DataFrame(weekdata2).astype(int)"
   ]
  },
  {
   "cell_type": "code",
   "execution_count": 369,
   "metadata": {
    "collapsed": false
   },
   "outputs": [],
   "source": [
    "df.columns = ['StoreID','week','sales']"
   ]
  },
  {
   "cell_type": "code",
   "execution_count": 367,
   "metadata": {
    "collapsed": false
   },
   "outputs": [
    {
     "data": {
      "text/plain": [
       "<matplotlib.axes._subplots.AxesSubplot at 0x120b4ee10>"
      ]
     },
     "execution_count": 367,
     "metadata": {},
     "output_type": "execute_result"
    },
    {
     "data": {
      "image/png": "[encoded data removed]",
      "text/plain": [
       "<matplotlib.figure.Figure at 0x120b1c668>"
      ]
     },
     "metadata": {},
     "output_type": "display_data"
    }
   ],
   "source": [
    "sns.boxplot(weekdata2[:,2])"
   ]
  },
  {
   "cell_type": "code",
   "execution_count": null,
   "metadata": {
    "collapsed": true
   },
   "outputs": [],
   "source": []
  }
 ],
 "metadata": {
  "anaconda-cloud": {},
  "kernelspec": {
   "display_name": "Python [conda env:py3]",
   "language": "python",
   "name": "conda-env-py3-py"
  },
  "language_info": {
   "codemirror_mode": {
    "name": "ipython",
    "version": 3
   },
   "file_extension": ".py",
   "mimetype": "text/x-python",
   "name": "python",
   "nbconvert_exporter": "python",
   "pygments_lexer": "ipython3",
   "version": "3.6.0"
  }
 },
 "nbformat": 4,
 "nbformat_minor": 2
}
