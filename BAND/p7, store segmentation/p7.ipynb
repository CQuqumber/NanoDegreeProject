{
 "cells": [
  {
   "cell_type": "markdown",
   "metadata": {},
   "source": [
    "## Task 1: Store Format for Existing Stores\n",
    "\n",
    "- Determine the optimal number of store formats based on sales data.\n",
    "- Use percentage sales per category per store for clustering (category sales as a percentage of total store sales).\n",
    "- Use only 2015 sales data.\n",
    "- Use a K-means clustering model.\n",
    "- Segment the 85 current stores into the different store formats.\n",
    "- Use the StoreSalesData.csv and StoreInformation.csv files.\n"
   ]
  },
  {
   "cell_type": "code",
   "execution_count": 1,
   "metadata": {
    "collapsed": true
   },
   "outputs": [],
   "source": [
    "import numpy as np\n",
    "import pandas as pd\n",
    "import matplotlib.pyplot as plt\n",
    "% matplotlib inline\n",
    "import seaborn as sns"
   ]
  },
  {
   "cell_type": "code",
   "execution_count": 2,
   "metadata": {
    "collapsed": true
   },
   "outputs": [],
   "source": [
    "store = pd.read_csv(\"storedemographicdata.csv\")\n",
    "info = pd.read_csv(\"storeinformation.csv\")\n",
    "sales = pd.read_csv(\"storesalesdata.csv\")"
   ]
  },
  {
   "cell_type": "code",
   "execution_count": 3,
   "metadata": {
    "collapsed": false
   },
   "outputs": [
    {
     "data": {
      "text/html": [
       "<div>\n",
       "<table border=\"1\" class=\"dataframe\">\n",
       "  <thead>\n",
       "    <tr style=\"text-align: right;\">\n",
       "      <th></th>\n",
       "      <th>Store</th>\n",
       "      <th>Age0to9</th>\n",
       "      <th>Age10to17</th>\n",
       "      <th>Age18to24</th>\n",
       "      <th>Age25to29</th>\n",
       "      <th>Age30to39</th>\n",
       "      <th>Age40to49</th>\n",
       "      <th>Age50to64</th>\n",
       "      <th>Age65Plus</th>\n",
       "      <th>EdLTHS</th>\n",
       "      <th>...</th>\n",
       "      <th>PopPacIsl</th>\n",
       "      <th>PopWhite</th>\n",
       "      <th>HVal0to100K</th>\n",
       "      <th>HVal100Kto200K</th>\n",
       "      <th>HVal200Kto300K</th>\n",
       "      <th>HVal300Kto400K</th>\n",
       "      <th>HVal400Kto500K</th>\n",
       "      <th>HVal500Kto750K</th>\n",
       "      <th>HVal750KPlus</th>\n",
       "      <th>PopDens</th>\n",
       "    </tr>\n",
       "  </thead>\n",
       "  <tbody>\n",
       "    <tr>\n",
       "      <th>0</th>\n",
       "      <td>S0001</td>\n",
       "      <td>0.138163</td>\n",
       "      <td>0.111414</td>\n",
       "      <td>0.113228</td>\n",
       "      <td>0.081671</td>\n",
       "      <td>0.134924</td>\n",
       "      <td>0.128832</td>\n",
       "      <td>0.160429</td>\n",
       "      <td>0.131359</td>\n",
       "      <td>0.241935</td>\n",
       "      <td>...</td>\n",
       "      <td>0.002669</td>\n",
       "      <td>0.454295</td>\n",
       "      <td>0.073853</td>\n",
       "      <td>0.115967</td>\n",
       "      <td>0.223511</td>\n",
       "      <td>0.301880</td>\n",
       "      <td>0.180786</td>\n",
       "      <td>0.097168</td>\n",
       "      <td>0.006836</td>\n",
       "      <td>4260.943672</td>\n",
       "    </tr>\n",
       "    <tr>\n",
       "      <th>1</th>\n",
       "      <td>S0002</td>\n",
       "      <td>0.138954</td>\n",
       "      <td>0.112723</td>\n",
       "      <td>0.100572</td>\n",
       "      <td>0.074832</td>\n",
       "      <td>0.121080</td>\n",
       "      <td>0.146961</td>\n",
       "      <td>0.195456</td>\n",
       "      <td>0.109422</td>\n",
       "      <td>0.125224</td>\n",
       "      <td>...</td>\n",
       "      <td>0.002879</td>\n",
       "      <td>0.729696</td>\n",
       "      <td>0.124956</td>\n",
       "      <td>0.127915</td>\n",
       "      <td>0.206578</td>\n",
       "      <td>0.223808</td>\n",
       "      <td>0.174730</td>\n",
       "      <td>0.129133</td>\n",
       "      <td>0.012879</td>\n",
       "      <td>3061.060073</td>\n",
       "    </tr>\n",
       "    <tr>\n",
       "      <th>2</th>\n",
       "      <td>S0003</td>\n",
       "      <td>0.108582</td>\n",
       "      <td>0.091262</td>\n",
       "      <td>0.113486</td>\n",
       "      <td>0.111415</td>\n",
       "      <td>0.182909</td>\n",
       "      <td>0.144938</td>\n",
       "      <td>0.150248</td>\n",
       "      <td>0.097170</td>\n",
       "      <td>0.321860</td>\n",
       "      <td>...</td>\n",
       "      <td>0.000802</td>\n",
       "      <td>0.182080</td>\n",
       "      <td>0.024665</td>\n",
       "      <td>0.065257</td>\n",
       "      <td>0.114870</td>\n",
       "      <td>0.150106</td>\n",
       "      <td>0.155462</td>\n",
       "      <td>0.251445</td>\n",
       "      <td>0.238196</td>\n",
       "      <td>13740.923328</td>\n",
       "    </tr>\n",
       "    <tr>\n",
       "      <th>3</th>\n",
       "      <td>S0004</td>\n",
       "      <td>0.142758</td>\n",
       "      <td>0.102582</td>\n",
       "      <td>0.083941</td>\n",
       "      <td>0.062370</td>\n",
       "      <td>0.131661</td>\n",
       "      <td>0.134041</td>\n",
       "      <td>0.158762</td>\n",
       "      <td>0.183922</td>\n",
       "      <td>0.198362</td>\n",
       "      <td>...</td>\n",
       "      <td>0.001904</td>\n",
       "      <td>0.516900</td>\n",
       "      <td>0.175374</td>\n",
       "      <td>0.112920</td>\n",
       "      <td>0.095161</td>\n",
       "      <td>0.247891</td>\n",
       "      <td>0.152583</td>\n",
       "      <td>0.161462</td>\n",
       "      <td>0.054610</td>\n",
       "      <td>2947.367203</td>\n",
       "    </tr>\n",
       "    <tr>\n",
       "      <th>4</th>\n",
       "      <td>S0005</td>\n",
       "      <td>0.112396</td>\n",
       "      <td>0.083652</td>\n",
       "      <td>0.091313</td>\n",
       "      <td>0.103056</td>\n",
       "      <td>0.183739</td>\n",
       "      <td>0.146511</td>\n",
       "      <td>0.165692</td>\n",
       "      <td>0.113630</td>\n",
       "      <td>0.164272</td>\n",
       "      <td>...</td>\n",
       "      <td>0.001379</td>\n",
       "      <td>0.396718</td>\n",
       "      <td>0.021852</td>\n",
       "      <td>0.022854</td>\n",
       "      <td>0.070837</td>\n",
       "      <td>0.113448</td>\n",
       "      <td>0.126377</td>\n",
       "      <td>0.208777</td>\n",
       "      <td>0.435855</td>\n",
       "      <td>12124.740209</td>\n",
       "    </tr>\n",
       "  </tbody>\n",
       "</table>\n",
       "<p>5 rows × 45 columns</p>\n",
       "</div>"
      ],
      "text/plain": [
       "   Store   Age0to9  Age10to17  Age18to24  Age25to29  Age30to39  Age40to49  \\\n",
       "0  S0001  0.138163   0.111414   0.113228   0.081671   0.134924   0.128832   \n",
       "1  S0002  0.138954   0.112723   0.100572   0.074832   0.121080   0.146961   \n",
       "2  S0003  0.108582   0.091262   0.113486   0.111415   0.182909   0.144938   \n",
       "3  S0004  0.142758   0.102582   0.083941   0.062370   0.131661   0.134041   \n",
       "4  S0005  0.112396   0.083652   0.091313   0.103056   0.183739   0.146511   \n",
       "\n",
       "   Age50to64  Age65Plus    EdLTHS      ...       PopPacIsl  PopWhite  \\\n",
       "0   0.160429   0.131359  0.241935      ...        0.002669  0.454295   \n",
       "1   0.195456   0.109422  0.125224      ...        0.002879  0.729696   \n",
       "2   0.150248   0.097170  0.321860      ...        0.000802  0.182080   \n",
       "3   0.158762   0.183922  0.198362      ...        0.001904  0.516900   \n",
       "4   0.165692   0.113630  0.164272      ...        0.001379  0.396718   \n",
       "\n",
       "   HVal0to100K  HVal100Kto200K  HVal200Kto300K  HVal300Kto400K  \\\n",
       "0     0.073853        0.115967        0.223511        0.301880   \n",
       "1     0.124956        0.127915        0.206578        0.223808   \n",
       "2     0.024665        0.065257        0.114870        0.150106   \n",
       "3     0.175374        0.112920        0.095161        0.247891   \n",
       "4     0.021852        0.022854        0.070837        0.113448   \n",
       "\n",
       "   HVal400Kto500K  HVal500Kto750K  HVal750KPlus       PopDens  \n",
       "0        0.180786        0.097168      0.006836   4260.943672  \n",
       "1        0.174730        0.129133      0.012879   3061.060073  \n",
       "2        0.155462        0.251445      0.238196  13740.923328  \n",
       "3        0.152583        0.161462      0.054610   2947.367203  \n",
       "4        0.126377        0.208777      0.435855  12124.740209  \n",
       "\n",
       "[5 rows x 45 columns]"
      ]
     },
     "execution_count": 3,
     "metadata": {},
     "output_type": "execute_result"
    }
   ],
   "source": [
    "store.head()"
   ]
  },
  {
   "cell_type": "code",
   "execution_count": 4,
   "metadata": {
    "collapsed": false
   },
   "outputs": [
    {
     "data": {
      "text/plain": [
       "(95, 45)"
      ]
     },
     "execution_count": 4,
     "metadata": {},
     "output_type": "execute_result"
    }
   ],
   "source": [
    "store.shape"
   ]
  },
  {
   "cell_type": "code",
   "execution_count": 5,
   "metadata": {
    "collapsed": false
   },
   "outputs": [
    {
     "data": {
      "text/html": [
       "<div>\n",
       "<table border=\"1\" class=\"dataframe\">\n",
       "  <thead>\n",
       "    <tr style=\"text-align: right;\">\n",
       "      <th></th>\n",
       "      <th>Store</th>\n",
       "      <th>Address</th>\n",
       "      <th>City</th>\n",
       "      <th>State</th>\n",
       "      <th>Zip</th>\n",
       "      <th>Type</th>\n",
       "    </tr>\n",
       "  </thead>\n",
       "  <tbody>\n",
       "    <tr>\n",
       "      <th>0</th>\n",
       "      <td>S0001</td>\n",
       "      <td>1000 W El Norte Pkwy</td>\n",
       "      <td>Escondido</td>\n",
       "      <td>CA</td>\n",
       "      <td>92027</td>\n",
       "      <td>Existing</td>\n",
       "    </tr>\n",
       "    <tr>\n",
       "      <th>1</th>\n",
       "      <td>S0002</td>\n",
       "      <td>12419 Woodside Ave</td>\n",
       "      <td>Lakeside</td>\n",
       "      <td>CA</td>\n",
       "      <td>92040</td>\n",
       "      <td>Existing</td>\n",
       "    </tr>\n",
       "    <tr>\n",
       "      <th>2</th>\n",
       "      <td>S0003</td>\n",
       "      <td>1342 N Alvarado St</td>\n",
       "      <td>Los Angeles</td>\n",
       "      <td>CA</td>\n",
       "      <td>90026</td>\n",
       "      <td>Existing</td>\n",
       "    </tr>\n",
       "    <tr>\n",
       "      <th>3</th>\n",
       "      <td>S0004</td>\n",
       "      <td>671 S Rancho Santa Fe Rd</td>\n",
       "      <td>San Marcos</td>\n",
       "      <td>CA</td>\n",
       "      <td>92078</td>\n",
       "      <td>Existing</td>\n",
       "    </tr>\n",
       "    <tr>\n",
       "      <th>4</th>\n",
       "      <td>S0005</td>\n",
       "      <td>1430 S Fairfax Ave</td>\n",
       "      <td>Los Angeles</td>\n",
       "      <td>CA</td>\n",
       "      <td>90019</td>\n",
       "      <td>Existing</td>\n",
       "    </tr>\n",
       "  </tbody>\n",
       "</table>\n",
       "</div>"
      ],
      "text/plain": [
       "   Store                   Address         City State    Zip      Type\n",
       "0  S0001      1000 W El Norte Pkwy    Escondido    CA  92027  Existing\n",
       "1  S0002        12419 Woodside Ave     Lakeside    CA  92040  Existing\n",
       "2  S0003        1342 N Alvarado St  Los Angeles    CA  90026  Existing\n",
       "3  S0004  671 S Rancho Santa Fe Rd   San Marcos    CA  92078  Existing\n",
       "4  S0005        1430 S Fairfax Ave  Los Angeles    CA  90019  Existing"
      ]
     },
     "execution_count": 5,
     "metadata": {},
     "output_type": "execute_result"
    }
   ],
   "source": [
    "info.head()"
   ]
  },
  {
   "cell_type": "code",
   "execution_count": 6,
   "metadata": {
    "collapsed": false
   },
   "outputs": [
    {
     "data": {
      "text/plain": [
       "(95, 6)"
      ]
     },
     "execution_count": 6,
     "metadata": {},
     "output_type": "execute_result"
    }
   ],
   "source": [
    "info.shape"
   ]
  },
  {
   "cell_type": "code",
   "execution_count": 7,
   "metadata": {
    "collapsed": false
   },
   "outputs": [
    {
     "data": {
      "text/html": [
       "<div>\n",
       "<table border=\"1\" class=\"dataframe\">\n",
       "  <thead>\n",
       "    <tr style=\"text-align: right;\">\n",
       "      <th></th>\n",
       "      <th>Store</th>\n",
       "      <th>Day</th>\n",
       "      <th>Month</th>\n",
       "      <th>Year</th>\n",
       "      <th>Dry_Grocery</th>\n",
       "      <th>Dairy</th>\n",
       "      <th>Frozen_Food</th>\n",
       "      <th>Meat</th>\n",
       "      <th>Produce</th>\n",
       "      <th>Floral</th>\n",
       "      <th>Deli</th>\n",
       "      <th>Bakery</th>\n",
       "      <th>General_Merchandise</th>\n",
       "    </tr>\n",
       "  </thead>\n",
       "  <tbody>\n",
       "    <tr>\n",
       "      <th>0</th>\n",
       "      <td>S0001</td>\n",
       "      <td>1</td>\n",
       "      <td>3</td>\n",
       "      <td>2012</td>\n",
       "      <td>23401.06</td>\n",
       "      <td>5567.90</td>\n",
       "      <td>3930.28</td>\n",
       "      <td>5223.61</td>\n",
       "      <td>4542.28</td>\n",
       "      <td>238.58</td>\n",
       "      <td>2608.78</td>\n",
       "      <td>1651.77</td>\n",
       "      <td>4304.79</td>\n",
       "    </tr>\n",
       "    <tr>\n",
       "      <th>1</th>\n",
       "      <td>S0001</td>\n",
       "      <td>2</td>\n",
       "      <td>3</td>\n",
       "      <td>2012</td>\n",
       "      <td>32442.93</td>\n",
       "      <td>8009.52</td>\n",
       "      <td>4712.31</td>\n",
       "      <td>6174.72</td>\n",
       "      <td>9503.45</td>\n",
       "      <td>245.29</td>\n",
       "      <td>2692.72</td>\n",
       "      <td>2688.89</td>\n",
       "      <td>4467.51</td>\n",
       "    </tr>\n",
       "    <tr>\n",
       "      <th>2</th>\n",
       "      <td>S0001</td>\n",
       "      <td>3</td>\n",
       "      <td>3</td>\n",
       "      <td>2012</td>\n",
       "      <td>40433.61</td>\n",
       "      <td>9759.20</td>\n",
       "      <td>5969.03</td>\n",
       "      <td>8010.67</td>\n",
       "      <td>12793.92</td>\n",
       "      <td>282.12</td>\n",
       "      <td>3493.85</td>\n",
       "      <td>2929.85</td>\n",
       "      <td>5721.60</td>\n",
       "    </tr>\n",
       "    <tr>\n",
       "      <th>3</th>\n",
       "      <td>S0001</td>\n",
       "      <td>4</td>\n",
       "      <td>3</td>\n",
       "      <td>2012</td>\n",
       "      <td>57043.39</td>\n",
       "      <td>13966.26</td>\n",
       "      <td>9008.24</td>\n",
       "      <td>13142.55</td>\n",
       "      <td>16635.77</td>\n",
       "      <td>316.72</td>\n",
       "      <td>5618.55</td>\n",
       "      <td>4270.38</td>\n",
       "      <td>8313.11</td>\n",
       "    </tr>\n",
       "    <tr>\n",
       "      <th>4</th>\n",
       "      <td>S0001</td>\n",
       "      <td>5</td>\n",
       "      <td>3</td>\n",
       "      <td>2012</td>\n",
       "      <td>32894.86</td>\n",
       "      <td>7870.66</td>\n",
       "      <td>5448.35</td>\n",
       "      <td>5459.29</td>\n",
       "      <td>8358.96</td>\n",
       "      <td>198.00</td>\n",
       "      <td>3339.59</td>\n",
       "      <td>2061.21</td>\n",
       "      <td>5280.16</td>\n",
       "    </tr>\n",
       "  </tbody>\n",
       "</table>\n",
       "</div>"
      ],
      "text/plain": [
       "   Store  Day  Month  Year  Dry_Grocery     Dairy  Frozen_Food      Meat  \\\n",
       "0  S0001    1      3  2012     23401.06   5567.90      3930.28   5223.61   \n",
       "1  S0001    2      3  2012     32442.93   8009.52      4712.31   6174.72   \n",
       "2  S0001    3      3  2012     40433.61   9759.20      5969.03   8010.67   \n",
       "3  S0001    4      3  2012     57043.39  13966.26      9008.24  13142.55   \n",
       "4  S0001    5      3  2012     32894.86   7870.66      5448.35   5459.29   \n",
       "\n",
       "    Produce  Floral     Deli   Bakery  General_Merchandise  \n",
       "0   4542.28  238.58  2608.78  1651.77              4304.79  \n",
       "1   9503.45  245.29  2692.72  2688.89              4467.51  \n",
       "2  12793.92  282.12  3493.85  2929.85              5721.60  \n",
       "3  16635.77  316.72  5618.55  4270.38              8313.11  \n",
       "4   8358.96  198.00  3339.59  2061.21              5280.16  "
      ]
     },
     "execution_count": 7,
     "metadata": {},
     "output_type": "execute_result"
    }
   ],
   "source": [
    "sales.head()"
   ]
  },
  {
   "cell_type": "code",
   "execution_count": 8,
   "metadata": {
    "collapsed": false
   },
   "outputs": [
    {
     "name": "stdout",
     "output_type": "stream",
     "text": [
      "<class 'pandas.core.frame.DataFrame'>\n",
      "RangeIndex: 116232 entries, 0 to 116231\n",
      "Data columns (total 13 columns):\n",
      "Store                  116232 non-null object\n",
      "Day                    116232 non-null int64\n",
      "Month                  116232 non-null int64\n",
      "Year                   116232 non-null int64\n",
      "Dry_Grocery            116232 non-null float64\n",
      "Dairy                  116232 non-null float64\n",
      "Frozen_Food            116232 non-null float64\n",
      "Meat                   116232 non-null float64\n",
      "Produce                116232 non-null float64\n",
      "Floral                 116232 non-null float64\n",
      "Deli                   116232 non-null float64\n",
      "Bakery                 116232 non-null float64\n",
      "General_Merchandise    116232 non-null float64\n",
      "dtypes: float64(9), int64(3), object(1)\n",
      "memory usage: 11.5+ MB\n"
     ]
    }
   ],
   "source": [
    "sales.info()"
   ]
  },
  {
   "cell_type": "code",
   "execution_count": 9,
   "metadata": {
    "collapsed": false
   },
   "outputs": [
    {
     "data": {
      "text/plain": [
       "array(['Store', 'Day', 'Month', 'Year', 'Dry_Grocery', 'Dairy',\n",
       "       'Frozen_Food', 'Meat', 'Produce', 'Floral', 'Deli', 'Bakery',\n",
       "       'General_Merchandise'], dtype=object)"
      ]
     },
     "execution_count": 9,
     "metadata": {},
     "output_type": "execute_result"
    }
   ],
   "source": [
    "sales.columns.values"
   ]
  },
  {
   "cell_type": "code",
   "execution_count": 10,
   "metadata": {
    "collapsed": false
   },
   "outputs": [],
   "source": [
    "fields = ['Dry_Grocery', 'Dairy','Frozen_Food', 'Meat','Produce','Floral', 'Deli', 'Bakery','General_Merchandise']\n",
    "data = sales[sales[\"Year\"]== 2015].loc[:,fields]"
   ]
  },
  {
   "cell_type": "code",
   "execution_count": 11,
   "metadata": {
    "collapsed": false
   },
   "outputs": [
    {
     "data": {
      "text/plain": [
       "(30933, 9)"
      ]
     },
     "execution_count": 11,
     "metadata": {},
     "output_type": "execute_result"
    }
   ],
   "source": [
    "data.shape"
   ]
  },
  {
   "cell_type": "code",
   "execution_count": 12,
   "metadata": {
    "collapsed": false
   },
   "outputs": [
    {
     "data": {
      "text/plain": [
       "<matplotlib.axes._subplots.AxesSubplot at 0x10d31e2b0>"
      ]
     },
     "execution_count": 12,
     "metadata": {},
     "output_type": "execute_result"
    },
    {
     "data": {
      "image/png": "[encoded data removed]",
      "text/plain": [
       "<matplotlib.figure.Figure at 0x10d33ea20>"
      ]
     },
     "metadata": {},
     "output_type": "display_data"
    }
   ],
   "source": [
    "data.plot.box(vert=False)"
   ]
  },
  {
   "cell_type": "code",
   "execution_count": 13,
   "metadata": {
    "collapsed": false
   },
   "outputs": [
    {
     "data": {
      "image/png": "[encoded data removed]",
      "text/plain": [
       "<matplotlib.figure.Figure at 0x10d5b3eb8>"
      ]
     },
     "metadata": {},
     "output_type": "display_data"
    }
   ],
   "source": [
    "# get the feature correlations\n",
    "corr = data.corr()\n",
    "\n",
    "# create a mask so we only see the correlation values once\n",
    "mask = np.zeros_like(corr)\n",
    "mask[np.triu_indices_from(mask, 1)] = True\n",
    "\n",
    "# plot the heatmap\n",
    "with sns.axes_style(\"white\"):\n",
    "    sns.heatmap(corr, mask=mask, annot=True, cmap='RdBu', fmt='+.2f', cbar=False)"
   ]
  },
  {
   "cell_type": "code",
   "execution_count": 14,
   "metadata": {
    "collapsed": false
   },
   "outputs": [
    {
     "data": {
      "text/html": [
       "<div>\n",
       "<table border=\"1\" class=\"dataframe\">\n",
       "  <thead>\n",
       "    <tr style=\"text-align: right;\">\n",
       "      <th></th>\n",
       "      <th>Dry_Grocery</th>\n",
       "      <th>Dairy</th>\n",
       "      <th>Frozen_Food</th>\n",
       "      <th>Meat</th>\n",
       "      <th>Produce</th>\n",
       "      <th>Floral</th>\n",
       "      <th>Deli</th>\n",
       "      <th>Bakery</th>\n",
       "      <th>General_Merchandise</th>\n",
       "    </tr>\n",
       "  </thead>\n",
       "  <tbody>\n",
       "    <tr>\n",
       "      <th>count</th>\n",
       "      <td>30933.000000</td>\n",
       "      <td>30933.00000</td>\n",
       "      <td>30933.000000</td>\n",
       "      <td>30933.000000</td>\n",
       "      <td>30933.000000</td>\n",
       "      <td>30933.000000</td>\n",
       "      <td>30933.000000</td>\n",
       "      <td>30933.000000</td>\n",
       "      <td>30933.000000</td>\n",
       "    </tr>\n",
       "    <tr>\n",
       "      <th>mean</th>\n",
       "      <td>35787.146113</td>\n",
       "      <td>8133.17987</td>\n",
       "      <td>6281.555544</td>\n",
       "      <td>8904.617038</td>\n",
       "      <td>8794.389290</td>\n",
       "      <td>661.678786</td>\n",
       "      <td>3275.658499</td>\n",
       "      <td>2200.968333</td>\n",
       "      <td>5950.909211</td>\n",
       "    </tr>\n",
       "    <tr>\n",
       "      <th>std</th>\n",
       "      <td>14247.292627</td>\n",
       "      <td>3129.06324</td>\n",
       "      <td>2429.098435</td>\n",
       "      <td>4795.789628</td>\n",
       "      <td>3968.845596</td>\n",
       "      <td>857.266105</td>\n",
       "      <td>1655.526800</td>\n",
       "      <td>1004.955878</td>\n",
       "      <td>3025.951078</td>\n",
       "    </tr>\n",
       "    <tr>\n",
       "      <th>min</th>\n",
       "      <td>0.000000</td>\n",
       "      <td>0.00000</td>\n",
       "      <td>0.000000</td>\n",
       "      <td>0.000000</td>\n",
       "      <td>0.000000</td>\n",
       "      <td>0.000000</td>\n",
       "      <td>0.000000</td>\n",
       "      <td>0.000000</td>\n",
       "      <td>0.000000</td>\n",
       "    </tr>\n",
       "    <tr>\n",
       "      <th>25%</th>\n",
       "      <td>25465.790000</td>\n",
       "      <td>5964.73000</td>\n",
       "      <td>4534.490000</td>\n",
       "      <td>5790.390000</td>\n",
       "      <td>5993.590000</td>\n",
       "      <td>288.450000</td>\n",
       "      <td>2121.580000</td>\n",
       "      <td>1479.040000</td>\n",
       "      <td>3789.770000</td>\n",
       "    </tr>\n",
       "    <tr>\n",
       "      <th>50%</th>\n",
       "      <td>32897.850000</td>\n",
       "      <td>7528.95000</td>\n",
       "      <td>5829.380000</td>\n",
       "      <td>7810.840000</td>\n",
       "      <td>7975.360000</td>\n",
       "      <td>452.970000</td>\n",
       "      <td>2942.230000</td>\n",
       "      <td>1988.200000</td>\n",
       "      <td>5226.240000</td>\n",
       "    </tr>\n",
       "    <tr>\n",
       "      <th>75%</th>\n",
       "      <td>43149.100000</td>\n",
       "      <td>9680.12000</td>\n",
       "      <td>7586.300000</td>\n",
       "      <td>10867.930000</td>\n",
       "      <td>10741.010000</td>\n",
       "      <td>721.670000</td>\n",
       "      <td>4065.710000</td>\n",
       "      <td>2696.250000</td>\n",
       "      <td>7319.110000</td>\n",
       "    </tr>\n",
       "    <tr>\n",
       "      <th>max</th>\n",
       "      <td>263224.800000</td>\n",
       "      <td>36901.12000</td>\n",
       "      <td>59747.760000</td>\n",
       "      <td>355587.600000</td>\n",
       "      <td>39769.390000</td>\n",
       "      <td>13773.870000</td>\n",
       "      <td>75606.020000</td>\n",
       "      <td>8791.490000</td>\n",
       "      <td>48480.370000</td>\n",
       "    </tr>\n",
       "  </tbody>\n",
       "</table>\n",
       "</div>"
      ],
      "text/plain": [
       "         Dry_Grocery        Dairy   Frozen_Food           Meat       Produce  \\\n",
       "count   30933.000000  30933.00000  30933.000000   30933.000000  30933.000000   \n",
       "mean    35787.146113   8133.17987   6281.555544    8904.617038   8794.389290   \n",
       "std     14247.292627   3129.06324   2429.098435    4795.789628   3968.845596   \n",
       "min         0.000000      0.00000      0.000000       0.000000      0.000000   \n",
       "25%     25465.790000   5964.73000   4534.490000    5790.390000   5993.590000   \n",
       "50%     32897.850000   7528.95000   5829.380000    7810.840000   7975.360000   \n",
       "75%     43149.100000   9680.12000   7586.300000   10867.930000  10741.010000   \n",
       "max    263224.800000  36901.12000  59747.760000  355587.600000  39769.390000   \n",
       "\n",
       "             Floral          Deli        Bakery  General_Merchandise  \n",
       "count  30933.000000  30933.000000  30933.000000         30933.000000  \n",
       "mean     661.678786   3275.658499   2200.968333          5950.909211  \n",
       "std      857.266105   1655.526800   1004.955878          3025.951078  \n",
       "min        0.000000      0.000000      0.000000             0.000000  \n",
       "25%      288.450000   2121.580000   1479.040000          3789.770000  \n",
       "50%      452.970000   2942.230000   1988.200000          5226.240000  \n",
       "75%      721.670000   4065.710000   2696.250000          7319.110000  \n",
       "max    13773.870000  75606.020000   8791.490000         48480.370000  "
      ]
     },
     "execution_count": 14,
     "metadata": {},
     "output_type": "execute_result"
    }
   ],
   "source": [
    "data.describe()"
   ]
  },
  {
   "cell_type": "markdown",
   "metadata": {},
   "source": [
    "## data scale by normalization and transform by PCA"
   ]
  },
  {
   "cell_type": "code",
   "execution_count": 15,
   "metadata": {
    "collapsed": false
   },
   "outputs": [],
   "source": [
    "from sklearn.preprocessing import Normalizer\n",
    "scale = Normalizer()\n",
    "for field in fields:\n",
    "    data = pd.DataFrame(scale.fit_transform(data))"
   ]
  },
  {
   "cell_type": "code",
   "execution_count": 16,
   "metadata": {
    "collapsed": false
   },
   "outputs": [
    {
     "data": {
      "text/html": [
       "<div>\n",
       "<table border=\"1\" class=\"dataframe\">\n",
       "  <thead>\n",
       "    <tr style=\"text-align: right;\">\n",
       "      <th></th>\n",
       "      <th>0</th>\n",
       "      <th>1</th>\n",
       "      <th>2</th>\n",
       "      <th>3</th>\n",
       "      <th>4</th>\n",
       "      <th>5</th>\n",
       "      <th>6</th>\n",
       "      <th>7</th>\n",
       "      <th>8</th>\n",
       "    </tr>\n",
       "  </thead>\n",
       "  <tbody>\n",
       "    <tr>\n",
       "      <th>count</th>\n",
       "      <td>30933.000000</td>\n",
       "      <td>30933.000000</td>\n",
       "      <td>30933.000000</td>\n",
       "      <td>30933.000000</td>\n",
       "      <td>30933.000000</td>\n",
       "      <td>30933.000000</td>\n",
       "      <td>30933.000000</td>\n",
       "      <td>30933.000000</td>\n",
       "      <td>30933.000000</td>\n",
       "    </tr>\n",
       "    <tr>\n",
       "      <th>mean</th>\n",
       "      <td>0.892928</td>\n",
       "      <td>0.205569</td>\n",
       "      <td>0.158559</td>\n",
       "      <td>0.218090</td>\n",
       "      <td>0.219364</td>\n",
       "      <td>0.016354</td>\n",
       "      <td>0.080720</td>\n",
       "      <td>0.055865</td>\n",
       "      <td>0.147301</td>\n",
       "    </tr>\n",
       "    <tr>\n",
       "      <th>std</th>\n",
       "      <td>0.023093</td>\n",
       "      <td>0.026115</td>\n",
       "      <td>0.021335</td>\n",
       "      <td>0.040026</td>\n",
       "      <td>0.046566</td>\n",
       "      <td>0.020639</td>\n",
       "      <td>0.019200</td>\n",
       "      <td>0.016354</td>\n",
       "      <td>0.038632</td>\n",
       "    </tr>\n",
       "    <tr>\n",
       "      <th>min</th>\n",
       "      <td>0.000000</td>\n",
       "      <td>0.000000</td>\n",
       "      <td>0.000000</td>\n",
       "      <td>0.000000</td>\n",
       "      <td>0.000000</td>\n",
       "      <td>0.000000</td>\n",
       "      <td>0.000000</td>\n",
       "      <td>0.000000</td>\n",
       "      <td>0.000000</td>\n",
       "    </tr>\n",
       "    <tr>\n",
       "      <th>25%</th>\n",
       "      <td>0.881627</td>\n",
       "      <td>0.189497</td>\n",
       "      <td>0.145784</td>\n",
       "      <td>0.191402</td>\n",
       "      <td>0.185829</td>\n",
       "      <td>0.008611</td>\n",
       "      <td>0.069448</td>\n",
       "      <td>0.044029</td>\n",
       "      <td>0.120951</td>\n",
       "    </tr>\n",
       "    <tr>\n",
       "      <th>50%</th>\n",
       "      <td>0.894566</td>\n",
       "      <td>0.203795</td>\n",
       "      <td>0.158246</td>\n",
       "      <td>0.214077</td>\n",
       "      <td>0.214632</td>\n",
       "      <td>0.012164</td>\n",
       "      <td>0.078991</td>\n",
       "      <td>0.054409</td>\n",
       "      <td>0.140611</td>\n",
       "    </tr>\n",
       "    <tr>\n",
       "      <th>75%</th>\n",
       "      <td>0.906269</td>\n",
       "      <td>0.220161</td>\n",
       "      <td>0.170643</td>\n",
       "      <td>0.240729</td>\n",
       "      <td>0.248721</td>\n",
       "      <td>0.017289</td>\n",
       "      <td>0.089426</td>\n",
       "      <td>0.065326</td>\n",
       "      <td>0.167160</td>\n",
       "    </tr>\n",
       "    <tr>\n",
       "      <th>max</th>\n",
       "      <td>0.998982</td>\n",
       "      <td>0.936278</td>\n",
       "      <td>0.815010</td>\n",
       "      <td>0.997677</td>\n",
       "      <td>0.657833</td>\n",
       "      <td>0.361735</td>\n",
       "      <td>0.734127</td>\n",
       "      <td>0.310380</td>\n",
       "      <td>0.812885</td>\n",
       "    </tr>\n",
       "  </tbody>\n",
       "</table>\n",
       "</div>"
      ],
      "text/plain": [
       "                  0             1             2             3             4  \\\n",
       "count  30933.000000  30933.000000  30933.000000  30933.000000  30933.000000   \n",
       "mean       0.892928      0.205569      0.158559      0.218090      0.219364   \n",
       "std        0.023093      0.026115      0.021335      0.040026      0.046566   \n",
       "min        0.000000      0.000000      0.000000      0.000000      0.000000   \n",
       "25%        0.881627      0.189497      0.145784      0.191402      0.185829   \n",
       "50%        0.894566      0.203795      0.158246      0.214077      0.214632   \n",
       "75%        0.906269      0.220161      0.170643      0.240729      0.248721   \n",
       "max        0.998982      0.936278      0.815010      0.997677      0.657833   \n",
       "\n",
       "                  5             6             7             8  \n",
       "count  30933.000000  30933.000000  30933.000000  30933.000000  \n",
       "mean       0.016354      0.080720      0.055865      0.147301  \n",
       "std        0.020639      0.019200      0.016354      0.038632  \n",
       "min        0.000000      0.000000      0.000000      0.000000  \n",
       "25%        0.008611      0.069448      0.044029      0.120951  \n",
       "50%        0.012164      0.078991      0.054409      0.140611  \n",
       "75%        0.017289      0.089426      0.065326      0.167160  \n",
       "max        0.361735      0.734127      0.310380      0.812885  "
      ]
     },
     "execution_count": 16,
     "metadata": {},
     "output_type": "execute_result"
    }
   ],
   "source": [
    "data.describe()"
   ]
  },
  {
   "cell_type": "code",
   "execution_count": 17,
   "metadata": {
    "collapsed": false
   },
   "outputs": [
    {
     "data": {
      "text/plain": [
       "<matplotlib.axes._subplots.AxesSubplot at 0x1038feac8>"
      ]
     },
     "execution_count": 17,
     "metadata": {},
     "output_type": "execute_result"
    },
    {
     "data": {
      "image/png": "[encoded data removed]",
      "text/plain": [
       "<matplotlib.figure.Figure at 0x10da1ce10>"
      ]
     },
     "metadata": {},
     "output_type": "display_data"
    }
   ],
   "source": [
    "data.columns = fields\n",
    "data.plot.box(vert=False)"
   ]
  },
  {
   "cell_type": "code",
   "execution_count": 18,
   "metadata": {
    "collapsed": false
   },
   "outputs": [
    {
     "data": {
      "image/png": "[encoded data removed]",
      "text/plain": [
       "<matplotlib.figure.Figure at 0x10f676860>"
      ]
     },
     "metadata": {},
     "output_type": "display_data"
    }
   ],
   "source": [
    "# get the feature correlations\n",
    "corr = data.corr()\n",
    "\n",
    "# create a mask so we only see the correlation values once\n",
    "mask = np.zeros_like(corr)\n",
    "mask[np.triu_indices_from(mask, 1)] = True\n",
    "\n",
    "# plot the heatmap\n",
    "with sns.axes_style(\"white\"):\n",
    "    sns.heatmap(corr, mask=mask, annot=True, cmap='RdBu', fmt='+.2f', cbar=False)"
   ]
  },
  {
   "cell_type": "code",
   "execution_count": 19,
   "metadata": {
    "collapsed": false
   },
   "outputs": [],
   "source": [
    "# TODO: Apply PCA by fitting the good data with the same number of dimensions as features\n",
    "from sklearn.decomposition import PCA\n",
    "pca = PCA(n_components=5)\n",
    "pca_data = pca.fit_transform(data)"
   ]
  },
  {
   "cell_type": "code",
   "execution_count": 20,
   "metadata": {
    "collapsed": false
   },
   "outputs": [
    {
     "data": {
      "text/plain": [
       "array([ 0.3103675 ,  0.53400522,  0.72288948,  0.81805438,  0.87765843])"
      ]
     },
     "execution_count": 20,
     "metadata": {},
     "output_type": "execute_result"
    }
   ],
   "source": [
    "np.cumsum(pca.explained_variance_ratio_)"
   ]
  },
  {
   "cell_type": "code",
   "execution_count": 21,
   "metadata": {
    "collapsed": false
   },
   "outputs": [
    {
     "data": {
      "image/png": "[encoded data removed]",
      "text/plain": [
       "<matplotlib.figure.Figure at 0x10f9fa470>"
      ]
     },
     "metadata": {},
     "output_type": "display_data"
    }
   ],
   "source": [
    "dimensions = ['Dimension {}'.format(i) for i in range(1,len(pca.components_)+1)]\n",
    "\n",
    "# PCA components\n",
    "components = pd.DataFrame(np.round(pca.components_, 4), columns = data.keys())\n",
    "components.index = dimensions\n",
    "\n",
    "# PCA explained variance\n",
    "ratios = pca.explained_variance_ratio_.reshape(len(pca.components_), 1)\n",
    "variance_ratios = pd.DataFrame(np.round(ratios, 4), columns = ['Explained Variance'])\n",
    "variance_ratios.index = dimensions\n",
    "\n",
    "# Create a bar plot visualization\n",
    "fig, ax = plt.subplots(figsize = (14,8))\n",
    "\n",
    "# Plot the feature weights as a function of the components\n",
    "components.plot(ax = ax, kind = 'bar');\n",
    "ax.set_ylabel(\"Feature Weights\")\n",
    "ax.set_xticklabels(dimensions, rotation=0)\n",
    "\n",
    "# Display the explained variance ratios\n",
    "for i, ev in enumerate(pca.explained_variance_ratio_):\n",
    "    ax.text(i-0.40, ax.get_ylim()[1] + 0.05, \"Explained Variance\\n          %.4f\"%(ev))"
   ]
  },
  {
   "cell_type": "code",
   "execution_count": null,
   "metadata": {
    "collapsed": false
   },
   "outputs": [],
   "source": [
    "from sklearn.cluster import KMeans\n",
    "from time import time\n",
    "t0 = time()\n",
    "model = KMeans(n_clusters=2, random_state=0)\n",
    "model.fit(pca_data)\n",
    "centers = model.cluster_centers_\n",
    "\n",
    "# sample_preds = clusterer.predict(data.iloc[0:5,:])\n",
    "\n",
    "# TODO: Calculate the mean silhouette coefficient \n",
    "from sklearn.metrics import silhouette_score\n",
    "preds = model.predict(pca_data)\n",
    "score = silhouette_score(data,preds)\n",
    "print(time()-t0,score)"
   ]
  },
  {
   "cell_type": "code",
   "execution_count": null,
   "metadata": {
    "collapsed": true
   },
   "outputs": [],
   "source": [
    "def biplot(good_data, reduced_data, pca):\n",
    "    '''\n",
    "    Produce a biplot that shows a scatterplot of the reduced\n",
    "    data and the projections of the original features.\n",
    "\n",
    "    good_data: original data, before transformation.\n",
    "               Needs to be a pandas dataframe with valid column names\n",
    "    reduced_data: the reduced data (the first two dimensions are plotted)\n",
    "    pca: pca object that contains the components_ attribute\n",
    "\n",
    "    return: a matplotlib AxesSubplot object (for any additional customization)\n",
    "\n",
    "    This procedure is inspired by the script:\n",
    "    https://github.com/teddyroland/python-biplot\n",
    "    '''\n",
    "\n",
    "    fig, ax = plt.subplots(figsize = (14,8))\n",
    "    # scatterplot of the reduced data\n",
    "    ax.scatter(x=reduced_data.loc[:, 'Dimension 1'], y=reduced_data.loc[:, 'Dimension 2'],\n",
    "        facecolors='b', edgecolors='b', s=70, alpha=0.5)\n",
    "\n",
    "    feature_vectors = pca.components_.T\n",
    "\n",
    "    # we use scaling factors to make the arrows easier to see\n",
    "    arrow_size, text_pos = 7.0, 8.0,\n",
    "\n",
    "    # projections of the original features\n",
    "    for i, v in enumerate(feature_vectors):\n",
    "        ax.arrow(0, 0, arrow_size*v[0], arrow_size*v[1],\n",
    "                  head_width=0.2, head_length=0.2, linewidth=2, color='red')\n",
    "        ax.text(v[0]*text_pos, v[1]*text_pos, good_data.columns[i], color='black',\n",
    "                 ha='center', va='center', fontsize=18)\n",
    "\n",
    "    ax.set_xlabel(\"Dimension 1\", fontsize=14)\n",
    "    ax.set_ylabel(\"Dimension 2\", fontsize=14)\n",
    "    ax.set_title(\"PC plane with original feature projections.\", fontsize=16);\n",
    "    return ax\n",
    "biplot(data,pca_data,pca)"
   ]
  },
  {
   "cell_type": "markdown",
   "metadata": {},
   "source": [
    " I realize I do pca use the wrong scale, I should not use normaliztion across the same category, I should do it accross the same store, or percentage."
   ]
  },
  {
   "cell_type": "markdown",
   "metadata": {},
   "source": [
    "## Task 2: Determine the Store Format for New Stores\n",
    "\n",
    "- Develop a model that predicts which segment a store falls into based on the **demographic and socioeconomic characteristics of the population** that resides in the area around each new store.\n",
    "- Use a 20% validation sample with Random Seed = 3 when creating samples with which to compare the accuracy of the models. Make sure to compare a decision tree, forest, and boosted model.\n",
    "- Use the model to predict the best store format for each of the 10 new stores."
   ]
  },
  {
   "cell_type": "code",
   "execution_count": null,
   "metadata": {
    "collapsed": true
   },
   "outputs": [],
   "source": []
  }
 ],
 "metadata": {
  "anaconda-cloud": {},
  "kernelspec": {
   "display_name": "Python [conda env:py3]",
   "language": "python",
   "name": "conda-env-py3-py"
  },
  "language_info": {
   "codemirror_mode": {
    "name": "ipython",
    "version": 3
   },
   "file_extension": ".py",
   "mimetype": "text/x-python",
   "name": "python",
   "nbconvert_exporter": "python",
   "pygments_lexer": "ipython3",
   "version": "3.6.0"
  }
 },
 "nbformat": 4,
 "nbformat_minor": 2
}
