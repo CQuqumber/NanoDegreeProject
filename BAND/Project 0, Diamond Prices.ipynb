{
 "cells": [
  {
   "cell_type": "markdown",
   "metadata": {},
   "source": [
    "As a warm-up project, the mathematical formula for the model is already provided: \n",
    "\n",
    "Price = -5,269 + 8,413 x Carat + 158.1 x Cut + 454 x Clarity\n",
    "\n",
    "So what I do in this project is to verify the equation. "
   ]
  },
  {
   "cell_type": "markdown",
   "metadata": {},
   "source": [
    "## Step 1: Understanding the Model \n",
    "### 1. According to the linear model provided, if a diamond is 1 carat heavier than another with the same cut and clarity, how much more should we expect to pay? Why?\n",
    "\n",
    "Ans: We expect to pay 8413 more, because this is the coefficient for Carat\n",
    "\n",
    "### 2. If you were interested in a 1.5 carat diamond with a Very Good cut (represented by a 3 in the model) and a VS2 clarity rating (represented by a 5 in the model), how much would the model predict you should pay for it?"
   ]
  },
  {
   "cell_type": "code",
   "execution_count": 2,
   "metadata": {
    "collapsed": false
   },
   "outputs": [
    {
     "name": "stdout",
     "output_type": "stream",
     "text": [
      "The price is  10094.8\n"
     ]
    }
   ],
   "source": [
    "carat, cut, clarity = 1.5, 3, 5\n",
    "price = -5269 + 8413 * carat + 158.1 * cut + 454 * clarity\n",
    "print(\"The price is \", price)"
   ]
  },
  {
   "cell_type": "markdown",
   "metadata": {},
   "source": [
    "## Step 2: Visualize the Data \n",
    "### 1 - Plot the data for the diamonds in the database, with carat on the x-axis and price on the y-axis. \n",
    "### 2 - Plot the data for the diamonds for which you are predicting prices with carat on the x-axis and predicted price on the y-axis. "
   ]
  },
  {
   "cell_type": "code",
   "execution_count": 12,
   "metadata": {
    "collapsed": true
   },
   "outputs": [],
   "source": [
    "import pandas as pd\n",
    "import matplotlib.pyplot as plt\n",
    "% matplotlib inline\n",
    "data = pd.read_csv(\"diamonds.csv\")\n",
    "test = pd.read_csv(\"new-diamonds.csv\")"
   ]
  },
  {
   "cell_type": "code",
   "execution_count": 4,
   "metadata": {
    "collapsed": false
   },
   "outputs": [
    {
     "data": {
      "text/html": [
       "<div>\n",
       "<table border=\"1\" class=\"dataframe\">\n",
       "  <thead>\n",
       "    <tr style=\"text-align: right;\">\n",
       "      <th></th>\n",
       "      <th>Unnamed: 0</th>\n",
       "      <th>carat</th>\n",
       "      <th>cut</th>\n",
       "      <th>cut_ord</th>\n",
       "      <th>color</th>\n",
       "      <th>clarity</th>\n",
       "      <th>clarity_ord</th>\n",
       "      <th>price</th>\n",
       "    </tr>\n",
       "  </thead>\n",
       "  <tbody>\n",
       "    <tr>\n",
       "      <th>0</th>\n",
       "      <td>1</td>\n",
       "      <td>0.51</td>\n",
       "      <td>Premium</td>\n",
       "      <td>4</td>\n",
       "      <td>F</td>\n",
       "      <td>VS1</td>\n",
       "      <td>4</td>\n",
       "      <td>1749</td>\n",
       "    </tr>\n",
       "    <tr>\n",
       "      <th>1</th>\n",
       "      <td>2</td>\n",
       "      <td>2.25</td>\n",
       "      <td>Fair</td>\n",
       "      <td>1</td>\n",
       "      <td>G</td>\n",
       "      <td>I1</td>\n",
       "      <td>1</td>\n",
       "      <td>7069</td>\n",
       "    </tr>\n",
       "    <tr>\n",
       "      <th>2</th>\n",
       "      <td>3</td>\n",
       "      <td>0.70</td>\n",
       "      <td>Very Good</td>\n",
       "      <td>3</td>\n",
       "      <td>E</td>\n",
       "      <td>VS2</td>\n",
       "      <td>5</td>\n",
       "      <td>2757</td>\n",
       "    </tr>\n",
       "    <tr>\n",
       "      <th>3</th>\n",
       "      <td>4</td>\n",
       "      <td>0.47</td>\n",
       "      <td>Good</td>\n",
       "      <td>2</td>\n",
       "      <td>F</td>\n",
       "      <td>VS1</td>\n",
       "      <td>4</td>\n",
       "      <td>1243</td>\n",
       "    </tr>\n",
       "    <tr>\n",
       "      <th>4</th>\n",
       "      <td>5</td>\n",
       "      <td>0.30</td>\n",
       "      <td>Ideal</td>\n",
       "      <td>5</td>\n",
       "      <td>G</td>\n",
       "      <td>VVS1</td>\n",
       "      <td>7</td>\n",
       "      <td>789</td>\n",
       "    </tr>\n",
       "  </tbody>\n",
       "</table>\n",
       "</div>"
      ],
      "text/plain": [
       "   Unnamed: 0  carat        cut  cut_ord color clarity  clarity_ord  price\n",
       "0           1   0.51    Premium        4     F     VS1            4   1749\n",
       "1           2   2.25       Fair        1     G      I1            1   7069\n",
       "2           3   0.70  Very Good        3     E     VS2            5   2757\n",
       "3           4   0.47       Good        2     F     VS1            4   1243\n",
       "4           5   0.30      Ideal        5     G    VVS1            7    789"
      ]
     },
     "execution_count": 4,
     "metadata": {},
     "output_type": "execute_result"
    }
   ],
   "source": [
    "data.head()"
   ]
  },
  {
   "cell_type": "code",
   "execution_count": 16,
   "metadata": {
    "collapsed": false
   },
   "outputs": [
    {
     "data": {
      "text/plain": [
       "Unnamed: 0     25000.5\n",
       "carat              0.7\n",
       "cut_ord            4.0\n",
       "clarity_ord        4.0\n",
       "price           2402.5\n",
       "dtype: float64"
      ]
     },
     "execution_count": 16,
     "metadata": {},
     "output_type": "execute_result"
    }
   ],
   "source": [
    "data.median()"
   ]
  },
  {
   "cell_type": "code",
   "execution_count": 15,
   "metadata": {
    "collapsed": false
   },
   "outputs": [
    {
     "name": "stdout",
     "output_type": "stream",
     "text": [
      "<class 'pandas.core.frame.DataFrame'>\n",
      "RangeIndex: 3000 entries, 0 to 2999\n",
      "Data columns (total 7 columns):\n",
      "Unnamed: 0     3000 non-null int64\n",
      "carat          3000 non-null float64\n",
      "cut            3000 non-null object\n",
      "cut_ord        3000 non-null int64\n",
      "color          3000 non-null object\n",
      "clarity        3000 non-null object\n",
      "clarity_ord    3000 non-null int64\n",
      "dtypes: float64(1), int64(3), object(3)\n",
      "memory usage: 164.1+ KB\n"
     ]
    }
   ],
   "source": [
    "test.info()"
   ]
  },
  {
   "cell_type": "code",
   "execution_count": 41,
   "metadata": {
    "collapsed": false
   },
   "outputs": [
    {
     "data": {
      "image/png": "[encoded data removed]",
      "text/plain": [
       "<matplotlib.figure.Figure at 0x1139e3f28>"
      ]
     },
     "metadata": {},
     "output_type": "display_data"
    }
   ],
   "source": [
    "test['predict'] = -5269 + 8413 * test['carat'] + 158.1 * test['cut_ord'] + 454.0 * test['clarity_ord']\n",
    "\n",
    "plot1, = plt.plot(data[\"carat\"],data[\"price\"],'.r',label =\"known price\")\n",
    "plot2, = plt.plot(test[\"carat\"],test[\"predict\"],'.b',label = \"predicted price\")\n",
    "plt.legend(handles=[plot1, plot2],fontsize = 15)\n",
    "plt.xlabel(\"carat\",fontsize = 20)\n",
    "plt.ylabel(\"price\",fontsize = 20)\n",
    "plt.show()"
   ]
  },
  {
   "cell_type": "code",
   "execution_count": 42,
   "metadata": {
    "collapsed": false
   },
   "outputs": [
    {
     "data": {
      "text/html": [
       "<div>\n",
       "<table border=\"1\" class=\"dataframe\">\n",
       "  <thead>\n",
       "    <tr style=\"text-align: right;\">\n",
       "      <th></th>\n",
       "      <th>Unnamed: 0</th>\n",
       "      <th>carat</th>\n",
       "      <th>cut</th>\n",
       "      <th>cut_ord</th>\n",
       "      <th>color</th>\n",
       "      <th>clarity</th>\n",
       "      <th>clarity_ord</th>\n",
       "      <th>predict</th>\n",
       "    </tr>\n",
       "  </thead>\n",
       "  <tbody>\n",
       "    <tr>\n",
       "      <th>770</th>\n",
       "      <td>771</td>\n",
       "      <td>3.00</td>\n",
       "      <td>Very Good</td>\n",
       "      <td>3</td>\n",
       "      <td>H</td>\n",
       "      <td>I1</td>\n",
       "      <td>1</td>\n",
       "      <td>20898.30</td>\n",
       "    </tr>\n",
       "    <tr>\n",
       "      <th>1073</th>\n",
       "      <td>1074</td>\n",
       "      <td>2.74</td>\n",
       "      <td>Very Good</td>\n",
       "      <td>3</td>\n",
       "      <td>J</td>\n",
       "      <td>SI2</td>\n",
       "      <td>2</td>\n",
       "      <td>19164.92</td>\n",
       "    </tr>\n",
       "    <tr>\n",
       "      <th>1116</th>\n",
       "      <td>1117</td>\n",
       "      <td>3.01</td>\n",
       "      <td>Fair</td>\n",
       "      <td>1</td>\n",
       "      <td>H</td>\n",
       "      <td>I1</td>\n",
       "      <td>1</td>\n",
       "      <td>20666.23</td>\n",
       "    </tr>\n",
       "    <tr>\n",
       "      <th>2243</th>\n",
       "      <td>2244</td>\n",
       "      <td>3.01</td>\n",
       "      <td>Good</td>\n",
       "      <td>2</td>\n",
       "      <td>I</td>\n",
       "      <td>SI2</td>\n",
       "      <td>2</td>\n",
       "      <td>21278.33</td>\n",
       "    </tr>\n",
       "    <tr>\n",
       "      <th>2290</th>\n",
       "      <td>2291</td>\n",
       "      <td>2.59</td>\n",
       "      <td>Ideal</td>\n",
       "      <td>5</td>\n",
       "      <td>J</td>\n",
       "      <td>VS1</td>\n",
       "      <td>4</td>\n",
       "      <td>19127.17</td>\n",
       "    </tr>\n",
       "  </tbody>\n",
       "</table>\n",
       "</div>"
      ],
      "text/plain": [
       "      Unnamed: 0  carat        cut  cut_ord color clarity  clarity_ord  \\\n",
       "770          771   3.00  Very Good        3     H      I1            1   \n",
       "1073        1074   2.74  Very Good        3     J     SI2            2   \n",
       "1116        1117   3.01       Fair        1     H      I1            1   \n",
       "2243        2244   3.01       Good        2     I     SI2            2   \n",
       "2290        2291   2.59      Ideal        5     J     VS1            4   \n",
       "\n",
       "       predict  \n",
       "770   20898.30  \n",
       "1073  19164.92  \n",
       "1116  20666.23  \n",
       "2243  21278.33  \n",
       "2290  19127.17  "
      ]
     },
     "execution_count": 42,
     "metadata": {},
     "output_type": "execute_result"
    }
   ],
   "source": [
    "test[test['predict']>19000]"
   ]
  },
  {
   "cell_type": "markdown",
   "metadata": {},
   "source": [
    "### 3. What strikes you about this comparison? After seeing this plot, do you feel confident in the model’s ability to predict prices? \n",
    "\n",
    "Ans: The predicted prices increase linearly with the carat, and has good overlap with the known price. However, it seems the predicted prices increase much faster than known prices and cause some outliers at the high end. So I will apply some discount to correct the inflated slope."
   ]
  },
  {
   "cell_type": "markdown",
   "metadata": {},
   "source": [
    "## Step 3: Make a Recommendation\n",
    "### What price do you recommend the jewelry company to bid? Please explain how you arrived at that number. HINT: The number should be 7 digits."
   ]
  },
  {
   "cell_type": "code",
   "execution_count": 43,
   "metadata": {
    "collapsed": false
   },
   "outputs": [
    {
     "name": "stdout",
     "output_type": "stream",
     "text": [
      "The bid price for 3000 diamonds: 9386818.208\n"
     ]
    }
   ],
   "source": [
    "total = sum(test['predict'])*0.8\n",
    "print(\"The bid price for 3000 diamonds:\", total)"
   ]
  },
  {
   "cell_type": "markdown",
   "metadata": {},
   "source": [
    "Ans: I would bid 9.4 million for the whole set. I use a discount factor 0.8 to suppress the inflated price by the model. This is just an ad hoc strategy. "
   ]
  }
 ],
 "metadata": {
  "anaconda-cloud": {},
  "kernelspec": {
   "display_name": "Python [conda env:py3]",
   "language": "python",
   "name": "conda-env-py3-py"
  },
  "language_info": {
   "codemirror_mode": {
    "name": "ipython",
    "version": 3
   },
   "file_extension": ".py",
   "mimetype": "text/x-python",
   "name": "python",
   "nbconvert_exporter": "python",
   "pygments_lexer": "ipython3",
   "version": "3.6.0"
  }
 },
 "nbformat": 4,
 "nbformat_minor": 2
}
