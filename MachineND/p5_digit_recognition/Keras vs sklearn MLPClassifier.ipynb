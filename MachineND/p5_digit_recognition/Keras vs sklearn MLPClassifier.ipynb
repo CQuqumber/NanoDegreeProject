{
 "cells": [
  {
   "cell_type": "markdown",
   "metadata": {},
   "source": [
    "https://keras.io/"
   ]
  },
  {
   "cell_type": "code",
   "execution_count": 2,
   "metadata": {
    "collapsed": false
   },
   "outputs": [
    {
     "name": "stdout",
     "output_type": "stream",
     "text": [
      "(50000, 784)\n",
      "(50000, 10)\n"
     ]
    }
   ],
   "source": [
    "from six.moves import cPickle \n",
    "import gzip\n",
    "with gzip.open('mnist.pkl.gz', 'rb') as f:\n",
    "    training_data, validation_data, test_data = cPickle.load(f)\n",
    "[X_train, y_train] = training_data\n",
    "[X_valid, y_valid] = validation_data\n",
    "[X_test, y_test] = test_data\n",
    "\n",
    "# convert labels to 1-hot encoding\n",
    "import numpy as np\n",
    "import matplotlib.pyplot as plt\n",
    "% matplotlib inline\n",
    "\n",
    "def oneHot(lables):\n",
    "  return (np.arange(10) == lables[:,None]).astype(np.float32)\n",
    "\n",
    "y_train = oneHot(y_train)\n",
    "y_valid = oneHot(y_valid)\n",
    "y_test = oneHot(y_test)\n",
    "print X_train.shape\n",
    "print y_train.shape"
   ]
  },
  {
   "cell_type": "code",
   "execution_count": 35,
   "metadata": {
    "collapsed": false
   },
   "outputs": [
    {
     "name": "stdout",
     "output_type": "stream",
     "text": [
      "Epoch 1/5\n",
      "50000/50000 [==============================] - 4s - loss: 0.7207 - acc: 0.8183     \n",
      "Epoch 2/5\n",
      "50000/50000 [==============================] - 4s - loss: 0.3634 - acc: 0.8983     \n",
      "Epoch 3/5\n",
      "50000/50000 [==============================] - 4s - loss: 0.3113 - acc: 0.9116     \n",
      "Epoch 4/5\n",
      "50000/50000 [==============================] - 4s - loss: 0.2807 - acc: 0.9213     \n",
      "Epoch 5/5\n",
      "50000/50000 [==============================] - 4s - loss: 0.2577 - acc: 0.9276     \n",
      " 9824/10000 [============================>.] - ETA: 0s"
     ]
    }
   ],
   "source": [
    "from keras.models import Sequential\n",
    "from keras.layers import Dense, Activation\n",
    "model = Sequential([\n",
    "    Dense(100, input_dim=784),\n",
    "    Activation('relu'),\n",
    "    Dense(10),\n",
    "    Activation('softmax'),\n",
    "])\n",
    "model.compile(loss='categorical_crossentropy', optimizer='sgd', metrics=['accuracy'])\n",
    "#from keras.optimizers import SGD\n",
    "#model.compile(loss='categorical_crossentropy', optimizer=SGD(lr=0.01, momentum=0.9, nesterov=True))\n",
    "model.fit(X_train, y_train, nb_epoch=5, batch_size=32)\n",
    "loss_and_metrics = model.evaluate(X_test, y_test, batch_size=32)\n",
    "#classes = model.predict_classes(X_test, batch_size=32)"
   ]
  },
  {
   "cell_type": "code",
   "execution_count": 34,
   "metadata": {
    "collapsed": false
   },
   "outputs": [
    {
     "data": {
      "text/plain": [
       "array([5])"
      ]
     },
     "execution_count": 34,
     "metadata": {},
     "output_type": "execute_result"
    }
   ],
   "source": [
    "model.predict_classes(X_train[0:1], verbose = 0)"
   ]
  },
  {
   "cell_type": "code",
   "execution_count": 16,
   "metadata": {
    "collapsed": false,
    "scrolled": true
   },
   "outputs": [
    {
     "name": "stdout",
     "output_type": "stream",
     "text": [
      "____________________________________________________________________________________________________\n",
      "Layer (type)                     Output Shape          Param #     Connected to                     \n",
      "====================================================================================================\n",
      "dense_1 (Dense)                  (None, 100)           78500       dense_input_1[0][0]              \n",
      "____________________________________________________________________________________________________\n",
      "activation_1 (Activation)        (None, 100)           0           dense_1[0][0]                    \n",
      "____________________________________________________________________________________________________\n",
      "dense_2 (Dense)                  (None, 10)            1010        activation_1[0][0]               \n",
      "____________________________________________________________________________________________________\n",
      "activation_2 (Activation)        (None, 10)            0           dense_2[0][0]                    \n",
      "====================================================================================================\n",
      "Total params: 79,510\n",
      "Trainable params: 79,510\n",
      "Non-trainable params: 0\n",
      "____________________________________________________________________________________________________\n"
     ]
    }
   ],
   "source": [
    "model.summary()"
   ]
  },
  {
   "cell_type": "code",
   "execution_count": 30,
   "metadata": {
    "collapsed": false
   },
   "outputs": [
    {
     "name": "stdout",
     "output_type": "stream",
     "text": [
      "Iteration 1, loss = 0.62617563\n",
      "Iteration 2, loss = 0.28739288\n",
      "Iteration 3, loss = 0.21764756\n",
      "Iteration 4, loss = 0.18139567\n",
      "Iteration 5, loss = 0.15710095\n"
     ]
    },
    {
     "name": "stderr",
     "output_type": "stream",
     "text": [
      "/Users/yuchaojiang/anaconda2/envs/tensorflow/lib/python2.7/site-packages/sklearn/neural_network/multilayer_perceptron.py:563: ConvergenceWarning: Stochastic Optimizer: Maximum iterations reached and the optimization hasn't converged yet.\n",
      "  % (), ConvergenceWarning)\n"
     ]
    },
    {
     "name": "stdout",
     "output_type": "stream",
     "text": [
      "Training set score: 0.964400\n",
      "Test set score: 0.950600\n",
      "Time cost: 5.94307684898\n"
     ]
    }
   ],
   "source": [
    "from sklearn.neural_network import MLPClassifier\n",
    "from time import time\n",
    "t0 = time()\n",
    "if True: # final loss = 0.047, test score = 97.10%, time = 7.7s\n",
    "  mlp = MLPClassifier(hidden_layer_sizes=(100,) ,max_iter=5, alpha=1e-4,\n",
    "                    solver='sgd', verbose=10, tol=1e-4, random_state=1,learning_rate_init=.1)\n",
    "mlp.fit(X_train, y_train)\n",
    "print(\"Training set score: %f\" % mlp.score(X_train, y_train))\n",
    "print(\"Test set score: %f\" % mlp.score(X_test, y_test))\n",
    "print(\"Time cost: {0}\".format(time()-t0))"
   ]
  },
  {
   "cell_type": "code",
   "execution_count": null,
   "metadata": {
    "collapsed": true
   },
   "outputs": [],
   "source": []
  }
 ],
 "metadata": {
  "kernelspec": {
   "display_name": "Python [conda env:tensorflow]",
   "language": "python",
   "name": "conda-env-tensorflow-py"
  },
  "language_info": {
   "codemirror_mode": {
    "name": "ipython",
    "version": 2
   },
   "file_extension": ".py",
   "mimetype": "text/x-python",
   "name": "python",
   "nbconvert_exporter": "python",
   "pygments_lexer": "ipython2",
   "version": "2.7.13"
  }
 },
 "nbformat": 4,
 "nbformat_minor": 1
}
