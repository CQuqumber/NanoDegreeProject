{
 "cells": [
  {
   "cell_type": "code",
   "execution_count": 1,
   "metadata": {
    "collapsed": false
   },
   "outputs": [
    {
     "data": {
      "text/html": [
       "<style>\n",
       "\n",
       "html {\n",
       "  font-size: 62.5% !important; }\n",
       "body {\n",
       "  font-size: 1.5em !important; /* currently ems cause chrome bug misinterpreting rems on body element */\n",
       "  line-height: 1.6 !important;\n",
       "  font-weight: 400 !important;\n",
       "  font-family: \"Raleway\", \"HelveticaNeue\", \"Helvetica Neue\", Helvetica, Arial, sans-serif !important;\n",
       "  color: #222 !important; }\n",
       "\n",
       "div{ border-radius: 0px !important;  }\n",
       "div.CodeMirror-sizer{ background: rgb(244, 244, 248) !important; }\n",
       "div.input_area{ background: rgb(244, 244, 248) !important; }\n",
       "\n",
       "div.out_prompt_overlay:hover{ background: rgb(244, 244, 248) !important; }\n",
       "div.input_prompt:hover{ background: rgb(244, 244, 248) !important; }\n",
       "\n",
       "h1, h2, h3, h4, h5, h6 {\n",
       "  color: #333 !important;\n",
       "  margin-top: 0 !important;\n",
       "  margin-bottom: 2rem !important;\n",
       "  font-weight: 300 !important; }\n",
       "h1 { font-size: 4.0rem !important; line-height: 1.2 !important;  letter-spacing: -.1rem !important;}\n",
       "h2 { font-size: 3.6rem !important; line-height: 1.25 !important; letter-spacing: -.1rem !important; }\n",
       "h3 { font-size: 3.0rem !important; line-height: 1.3 !important;  letter-spacing: -.1rem !important; }\n",
       "h4 { font-size: 2.4rem !important; line-height: 1.35 !important; letter-spacing: -.08rem !important; }\n",
       "h5 { font-size: 1.8rem !important; line-height: 1.5 !important;  letter-spacing: -.05rem !important; }\n",
       "h6 { font-size: 1.5rem !important; line-height: 1.6 !important;  letter-spacing: 0 !important; }\n",
       "\n",
       "@media (min-width: 550px) {\n",
       "  h1 { font-size: 5.0rem !important; }\n",
       "  h2 { font-size: 4.2rem !important; }\n",
       "  h3 { font-size: 3.6rem !important; }\n",
       "  h4 { font-size: 3.0rem !important; }\n",
       "  h5 { font-size: 2.4rem !important; }\n",
       "  h6 { font-size: 1.5rem !important; }\n",
       "}\n",
       "\n",
       "p {\n",
       "  margin-top: 0 !important; }\n",
       "  \n",
       "a {\n",
       "  color: #1EAEDB !important; }\n",
       "a:hover {\n",
       "  color: #0FA0CE !important; }\n",
       "  \n",
       "code {\n",
       "  padding: .2rem .5rem !important;\n",
       "  margin: 0 .2rem !important;\n",
       "  font-size: 90% !important;\n",
       "  white-space: nowrap !important;\n",
       "  background: #F1F1F1 !important;\n",
       "  border: 1px solid #E1E1E1 !important;\n",
       "  border-radius: 4px !important; }\n",
       "pre > code {\n",
       "  display: block !important;\n",
       "  padding: 1rem 1.5rem !important;\n",
       "  white-space: pre !important; }\n",
       "  \n",
       "button{ border-radius: 0px !important; }\n",
       ".navbar-inner{ background-image: none !important;  }\n",
       "select, textarea{ border-radius: 0px !important; }\n",
       "\n",
       "</style>"
      ],
      "text/plain": [
       "<IPython.core.display.HTML object>"
      ]
     },
     "execution_count": 1,
     "metadata": {},
     "output_type": "execute_result"
    }
   ],
   "source": [
    "# change theme of ipython notebooks\n",
    "from IPython.core.display import HTML\n",
    "import urllib2\n",
    "HTML(urllib2.urlopen('http://bit.ly/1Bf5Hft').read())"
   ]
  },
  {
   "cell_type": "markdown",
   "metadata": {},
   "source": [
    "## Format 1, work flow\n",
    "1. use h5py to read mat file, pickle dump as \"_matadata.pickle\"\n",
    "2. use cv2 to imread png file, crop into single digits, greyscale, resize , data scale and pickle dump as \" _dataset_labels.pickle\""
   ]
  },
  {
   "cell_type": "code",
   "execution_count": null,
   "metadata": {
    "collapsed": true
   },
   "outputs": [],
   "source": [
    "# step 1\n",
    "import numpy as np\n",
    "import cPickle as pickle\n",
    "import h5py\n",
    "\n",
    "#f = h5py.File('train/digitStruct.mat')\n",
    "f = h5py.File('test/digitStruct.mat')\n",
    "\n",
    "metadata= {}\n",
    "metadata['height'] = []\n",
    "metadata['label'] = []\n",
    "metadata['left'] = []\n",
    "metadata['top'] = []\n",
    "metadata['width'] = []\n",
    "\n",
    "def print_attrs(name, obj):\n",
    "    vals = []\n",
    "    if obj.shape[0] == 1:\n",
    "        vals.append(int(obj[0][0]))\n",
    "    else:\n",
    "        for k in range(obj.shape[0]):\n",
    "            vals.append(int(f[obj[k][0]][0][0]))\n",
    "    metadata[name].append(vals)\n",
    "\n",
    "for item in f['/digitStruct/bbox']:\n",
    "    f[item[0]].visititems(print_attrs)\n",
    "    \n",
    "#with open('train_metadata.pickle','wb') as pf:\n",
    "with open('test_metadata.pickle','wb') as pf:\n",
    "    pickle.dump(metadata, pf, pickle.HIGHEST_PROTOCOL)    "
   ]
  },
  {
   "cell_type": "code",
   "execution_count": null,
   "metadata": {
    "collapsed": true
   },
   "outputs": [],
   "source": [
    "# check the number of digits\n",
    "image_num = 33402 # 33402 for train, 13068 for test\n",
    "count = 0\n",
    "for i in range(image_num):                \n",
    "    digit_num += len(metadata['width'][i])  \n",
    "print count"
   ]
  },
  {
   "cell_type": "code",
   "execution_count": null,
   "metadata": {
    "collapsed": true
   },
   "outputs": [],
   "source": [
    "# step 2 \n",
    "\n",
    "import cPickle as pickle\n",
    "#with open('train_metadata.pickle', 'rb') as f:\n",
    "with open('test_metadata.pickle', 'rb') as f:  \n",
    "    metadata = pickle.load(f)\n",
    "\n",
    "import numpy as np \n",
    "import cv2\n",
    "#image_num = 33402\n",
    "#sample_num = 73257\n",
    "image_num =  13068\n",
    "sample_num = 26032\n",
    "\n",
    "dataset = np.ndarray(shape=(sample_num, 28, 28),dtype=np.float32)\n",
    "lables = np.ndarray(shape=(sample_num, ),dtype=np.int)\n",
    "\n",
    "def crop(image, i,j):\n",
    "    top = metadata['top'][i][j]\n",
    "    height = metadata['height'][i][j]\n",
    "    left = metadata['left'][i][j]\n",
    "    width = metadata['width'][i][j]\n",
    "    if left < 0:\n",
    "        left, width = 0, width+left\n",
    "  \n",
    "    return image[top:top+height, left:left+width]\n",
    "\n",
    "depth = 255.0  # pixel depth\n",
    "for i in range(image_num):\n",
    "    #path = 'train/{0}.png'.format(i+1)\n",
    "    path = 'test/{0}.png'.format(i+1)\n",
    "    image = cv2.imread(path)\n",
    "    num = len(metadata['width'][i])  \n",
    "    for j in range(num):\n",
    "        crop_image = crop(image,i,j)\n",
    "        gray_image = rgb2gray(crop_image)\n",
    "        #print i,j  # find (250,0) has left value of -1\n",
    "        resize_image = cv2.resize(gray_image,(28,28))\n",
    "        normal_image = resize_image/depth -0.5\n",
    "\n",
    "        dataset[count,:,:] = normal_image\n",
    "        lables[count] = metadata['label'][i][j] % 10\n",
    "\n",
    "#with open('train_dataset_labels.pickle','wb') as pf:\n",
    "with open('test_dataset_labels.pickle','wb') as pf:  \n",
    "    pickle.dump((dataset,lables), pf, pickle.HIGHEST_PROTOCOL)  \n",
    "  \n",
    "del metadata # clean cache"
   ]
  },
  {
   "cell_type": "markdown",
   "metadata": {},
   "source": [
    "## format 2\n",
    "use scipy to load mat file, greyscale, data scale and pickle dump into 'train_test_32x32.pickle'"
   ]
  },
  {
   "cell_type": "code",
   "execution_count": null,
   "metadata": {
    "collapsed": true
   },
   "outputs": [],
   "source": [
    "import numpy as np\n",
    "import scipy.io\n",
    "# train_mat = scipy.io.loadmat('train_32x32.mat')  # dict.key() ['y', 'X', '__version__', '__header__', '__globals__']\n",
    "\n",
    "def rgb2gray(rgb):\n",
    "    r, g, b = rgb[:,:,0], rgb[:,:,1], rgb[:,:,2]\n",
    "    return 0.2989 * r + 0.5870 * g + 0.1140 * b\n",
    "\n",
    "def mat2data(matfile):\n",
    "    mat = scipy.io.loadmat(matfile)\n",
    "    Xdata = mat['X']\n",
    "    ydata = mat['y']\n",
    "    size = Xdata.shape   # (32,32,3,73257)\n",
    "    print 'size = {0}'.format(size)\n",
    "    image_size_x = size[0]\n",
    "    image_size_y = size[0]\n",
    "    num_samples = size[3]\n",
    "\n",
    "    depth = 255.0  # pixel depth\n",
    "    dataset = np.ndarray(shape=(num_samples, image_size_x, image_size_y),dtype=np.float32)\n",
    "    labels = np.ndarray(shape=(num_samples,),dtype=np.int8)\n",
    "    for i in range(num_samples):\n",
    "        dataset[i,:,:] = rgb2gray(Xdata[:,:,:,i]) /depth - 0.5  # 3D-2D and normalize\n",
    "        labels[i] = ydata[i][0] % 10\n",
    "        return dataset, labels\n",
    "\n",
    "X_train,y_train = mat2data('train_32x32.mat')\n",
    "X_test, y_test  = mat2data('test_32x32.mat') \n",
    "with open('train_test_32x32.pickle','wb') as pf:\n",
    "    pickle.dump(((X_train,y_train),(X_test, y_test)), pf, pickle.HIGHEST_PROTOCOL)  "
   ]
  }
 ],
 "metadata": {
  "kernelspec": {
   "display_name": "Python [conda env:opencv]",
   "language": "python",
   "name": "conda-env-opencv-py"
  },
  "language_info": {
   "codemirror_mode": {
    "name": "ipython",
    "version": 2
   },
   "file_extension": ".py",
   "mimetype": "text/x-python",
   "name": "python",
   "nbconvert_exporter": "python",
   "pygments_lexer": "ipython2",
   "version": "2.7.13"
  }
 },
 "nbformat": 4,
 "nbformat_minor": 1
}
