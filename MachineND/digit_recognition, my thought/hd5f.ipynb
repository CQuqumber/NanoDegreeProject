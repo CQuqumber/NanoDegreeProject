{
 "cells": [
  {
   "cell_type": "markdown",
   "metadata": {},
   "source": [
    "http://docs.h5py.org/en/latest/quick.html\n",
    "HDF stands for Hierarchical Data Format. \n",
    "\n",
    "An HDF5 file is a container for two kinds of objects:\n",
    "\n",
    "1. **datasets**. array-like collection of data. work like numpy arrays.\n",
    "2. **groups**. folder-like containers that hold dataset and other group. work like dictionaries. "
   ]
  },
  {
   "cell_type": "code",
   "execution_count": 38,
   "metadata": {
    "collapsed": false
   },
   "outputs": [
    {
     "name": "stdout",
     "output_type": "stream",
     "text": [
      "hello\n"
     ]
    }
   ],
   "source": [
    "import h5py, numpy as np\n",
    "f = h5py.File(\"mytestfile.hdf5\", \"w\") # create hdf5 file\n",
    "dset = f.create_dataset(\"mydataset\", (100,), dtype='i') # create dataset\n",
    "dset[...] = np.arange(100)  # assign value\n",
    "dset.name  # u'/mydataset'\n",
    "f.name   # u'/', root group\n",
    "\n",
    "grp = f.create_group(\"subgroup\")   # create group\n",
    "dset2 = grp.create_dataset(\"another_dataset\", (50,), dtype='f') # create dataset from grp\n",
    "dset2.name  # u'/subgroup/another_dataset'\n",
    "dset3 = f.create_dataset('subgroup2/dataset_three', (10,), dtype='i') # create dataset and group\n",
    "\n",
    "# print all keys\n",
    "for name in f:\n",
    "  print name\n",
    "f.keys() # another to access all keys  \n",
    "\n",
    "# print all keys and subgroups\n",
    "def printname(name):\n",
    "  print name\n",
    "f.visit(printname)\n",
    "\n",
    "# add attribute to dataset\n",
    "dset.attrs['temperature'] = 99.5\n",
    "dset.attrs['temperature']\n",
    "for name in dset.attrs:\n",
    "  print name\n",
    "\n",
    "# add attribute to group  \n",
    "grp.attrs['hello'] = 9\n",
    "for i in grp.attrs:\n",
    "  print i"
   ]
  }
 ],
 "metadata": {
  "anaconda-cloud": {},
  "kernelspec": {
   "display_name": "Python [conda env:opencv]",
   "language": "python",
   "name": "conda-env-opencv-py"
  },
  "language_info": {
   "codemirror_mode": {
    "name": "ipython",
    "version": 2
   },
   "file_extension": ".py",
   "mimetype": "text/x-python",
   "name": "python",
   "nbconvert_exporter": "python",
   "pygments_lexer": "ipython2",
   "version": "2.7.13"
  }
 },
 "nbformat": 4,
 "nbformat_minor": 1
}
